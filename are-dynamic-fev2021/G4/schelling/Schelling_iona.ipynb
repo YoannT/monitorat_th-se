{
 "cells": [
  {
   "cell_type": "markdown",
   "metadata": {},
   "source": [
    "# Le modèle de ségrégation de Schelling\n",
    "L. Rannou (basé sur S. Stinckwich)  \n",
    "*ARE DYNAMIC - 2021*"
   ]
  },
  {
   "cell_type": "markdown",
   "metadata": {},
   "source": [
    "## Préambule\n",
    "\n",
    "En Décembre 2016 disparaissait Thomas C. Schelling. Economiste, récipiendaire du Prix de la Banque de Suède en sciences économiques (communément appelé et considéré comme le prix Nobel d’économie), il a travaillé sur de nombreux sujets, en particulier l’analyse des conflits.\n",
    "\n",
    "Une de ses contributions a permis de mieux comprendre les phénomènes de ségrégation. Plus précisément, le propos de Schelling fut d’étudier la dynamique par laquelle **des phénomènes de ségrégation extrêmes** peuvent survenir, en dépit de **préférences qui peuvent sembler faiblement discriminantes individuellement**. Ainsi, même si chaque individu se déclare prêt à accepter une certaine proportion d’invidus « différents » dans son voisinage, le résultat final peut être que la population se regroupe en régions très homogènes.\n",
    "\n",
    "Cette étude peut être menée à l’aide de modèles connus sous le nom d’automates cellulaires. Un des automates les plus célèbres est le [jeu de la vie](https://fr.wikipedia.org/wiki/Jeu_de_la_vie), proposé par John Conway en 1970. Il existe de nombreux autres automates cellulaires dont le comportement est relativement bien étudié, et la littérature est riche à ce sujet. Nous recommandons la lecture de l’article [2] de Jean-Paul Delahaye.\n",
    "\n",
    "## Objectifs\n",
    "\n",
    "Dans ce notebook nous allons essayer de modéliser la répartition d'une population humaine sur une aire urbaine (un *monde*). Nous allons essayer de comprendre les différentes formes de ségration et de communautarisme pouvant avoir lieu dans les villes.\n",
    "Nous partons d'une hypothèse primordiale : **chaque individu est indépendant cependant il ne peut pas se sentir confortable dans un quartier où les habitants sont en majorité \"différents\" de lui.**\n",
    "\n",
    "Dans un premier temps nous allons modéliser cette répartition une aire urbaine simple : une rue ou une avenue (modèle linéaire).\n",
    "Puis dans un second temps nous modéliserons cette répartition à l'échelle d'une ville (modèle spatial).\n",
    "\n",
    "\n",
    "# 1ère partie : Modèle linéaire\n",
    "\n",
    "Considérons un monde *linéaire* (c’est en fait le premier modèle étudié par Schelling dans son article [1], à quelques détails près). Le modèle se compose des éléments suivants.\n",
    "\n",
    "- Les *individus* sont de deux *types* (« 0 » et « 1 »), disposés spatialement sur une ligne de taille $n$ (le *monde*).\n",
    "- Le *voisinage* d'un *individu* est constitué de ses 8 voisins de part et d'autre de sa cellule (4 à sa gauche et 4 à sa droite). Il faut noter que le nombre de voisins peut varier selon la localisation (pour les individus en bout de ligne).\n",
    "- Le *seuil de satisfaction* : un *individu* est satisfait si une majorité (faible) de ses voisins est du même *type* que lui (i.e. il veut **au moins** autant de voisins du même *type* que lui que de voisins d'un *type* différent).\n",
    "- Le *mode de déplacement* : un *individu* non satisfait va chercher à se déplacer pour trouver un emplacement qui le satisfasse (un emplacement dont le *voisinage* respecte son *seuil de satisfaction*). Dans le cas où plusieurs emplacements peuvent le satisfaire, un *individu* se déplace vers l’emplacement le plus proche. Si deux emplacements à la même distance sont satisfaisants l'emplacement de droite est privilégié.\n",
    "- La *dynamique des déplacements* : tous les individus sont considérés, de gauche à droite. Chaque individu non satisfait **s'insère** à l’emplacement satisfaisant le plus proche. Un *tour* est terminé lorsque tous les agents ont été considérés.\n",
    "\n",
    "\n",
    "À l'issu d'un *tour* des individus peuvent se retrouver à nouveau insatisfaits, dû aux déplacements de leurs voisins.\n",
    "Partant d’un état initial, le processus est répété jusqu’à équilibre, c’est-à-dire jusqu’à ce que plus aucun individu insatisfait ne puisse se déplacer, ou qu’une situation de blocage soit détectée. Cela peut nécessiter plusieurs *tours*.\n",
    "\n",
    "### Example\n",
    "\n",
    "Pour illustrer le propos, considérons la situation initiale suivante :\n",
    "\n",
    "![Linear Model 1](linearmodel1.png)\n",
    "\n",
    "Les individus non satisfaits sont indiqués en gris dans la table. Le premier individu à se déplacer sera donc le deuxième en partant de la gauche. En effet, son voisinage ne comprend qu’un autre individu de type \"1\" (et 4 de type \"0\"). Pour trouver une place satisfaisante, il va devoir se déplacer de 6 cases vers la droite (l'emplacement satisfaisant le plus proche).\n",
    "\n",
    "Le nouvel état du monde sera alors (l’individu s’étant déplacé est en gras):\n",
    "\n",
    "![Linear Model 2](linearmodel2.png)\n",
    "\n",
    "\n",
    "### Références\n",
    "- [1] Thomas C. Schelling, [Dynamic Models of Segregation](http://www.stat.berkeley.edu/~aldous/157/Papers/Schelling_Seg_Models.pdf), Journal of Mathematical Sociology (1971) 143-186\n",
    "- [2] J.-P. Delahaye, [Le royaume du jeu de la vie](http://www.lifl.fr/~jdelahay/dnalor/Jeudelavie.pdf), Pour la Science (2009) 378"
   ]
  },
  {
   "cell_type": "markdown",
   "metadata": {},
   "source": [
    "#  Etude du modèle \"linéaire\"\n",
    "\n",
    "**Objectifs : implémenter le modèle de Schelling en python, le tester sur un exemple simple puis étudier l'impact que peuvent avoir les paramètres du modèle sur le monde.**\n",
    "\n",
    "Nous allons étudier l’impact des paramètres du modèle : \n",
    "- la taille du voisinage,\n",
    "- le seuil de satisfaction des individus,\n",
    "- la configuration initiale,\n",
    "- les règles de mouvement (le mode de déplacement).\n",
    "\n",
    "Pour quantifier l'impact de ces paramètres, en plus de l'observation visuelle de l'évolution de notre monde, nous utiliserons les métriques suivantes : \n",
    "- le nombre d’individus satisfaits à l’équilibre,\n",
    "- la taille (moyenne) des regroupements homogènes observés et leur nombre,\n",
    "- la moyenne sur tous les individus de voisins du même type qu’eux,\n",
    "- le nombre de tours nécessaires pour arriver à un état stable."
   ]
  },
  {
   "cell_type": "code",
   "execution_count": 1,
   "metadata": {},
   "outputs": [],
   "source": [
    "import numpy as np\n",
    "import random\n",
    "\n",
    "from matplotlib import pyplot as plt"
   ]
  },
  {
   "cell_type": "code",
   "execution_count": 2,
   "metadata": {},
   "outputs": [],
   "source": [
    "# Paramètres du modèle Schelling (à modifier, ne pas oublier de réexécuter la cellule)\n",
    "neigh = 4          # Taille du voisinnage (d'un côté, pour avoir le total faire *2)\n",
    "threshold = 0.4     # Seuil de satisfaction\n",
    "max_iter = 5      # Nombre de tours\n",
    "size = 22           # Taille du monde (n)"
   ]
  },
  {
   "cell_type": "markdown",
   "metadata": {},
   "source": [
    "Notre monde est représenté par d'une liste de 0 et de 1. Par exemple :"
   ]
  },
  {
   "cell_type": "code",
   "execution_count": 3,
   "metadata": {},
   "outputs": [],
   "source": [
    "cells = [0, 1, 0, 0, 0, 1, 1, 0, 1, 0, 0, 1, 1, 1, 0, 0, 1, 1, 1, 1, 0, 1]"
   ]
  },
  {
   "cell_type": "code",
   "execution_count": 4,
   "metadata": {},
   "outputs": [],
   "source": [
    "assert len(cells) == size"
   ]
  },
  {
   "cell_type": "markdown",
   "metadata": {},
   "source": [
    "Nous pouvons considérer que ce monde représente une rue, la population de chaque maison étant de type \"0\" ou \"1\". "
   ]
  },
  {
   "cell_type": "markdown",
   "metadata": {},
   "source": [
    "La fonction ```print_world``` convertit un monde en une chaîne de caractères pour l'afficher à l'écran."
   ]
  },
  {
   "cell_type": "code",
   "execution_count": 5,
   "metadata": {},
   "outputs": [],
   "source": [
    "def print_world(cells):\n",
    "    '''\n",
    "    '''\n",
    "    # Signature à compléter\n",
    "    result = \"|\"\n",
    "    for i in cells:\n",
    "        result += str(i)+\"|\"\n",
    "    return result"
   ]
  },
  {
   "cell_type": "code",
   "execution_count": 6,
   "metadata": {},
   "outputs": [
    {
     "data": {
      "text/plain": [
       "'|0|1|0|0|0|1|1|0|1|0|0|1|1|1|0|0|1|1|1|1|0|1|'"
      ]
     },
     "execution_count": 6,
     "metadata": {},
     "output_type": "execute_result"
    }
   ],
   "source": [
    "print_world(cells)"
   ]
  },
  {
   "cell_type": "markdown",
   "metadata": {},
   "source": [
    "**Question 1** : Implémenter la fonction ```neighborhood``` qui prend comme paramètres un monde ```cells```, la position ```c``` d'un individu dans le monde et la taille du voisinnage ```neigh``` et retourne une liste contenant le type des voisins d'un individu (**attention aux bords du monde**)."
   ]
  },
  {
   "cell_type": "code",
   "execution_count": 7,
   "metadata": {},
   "outputs": [],
   "source": [
    "def neighborhood(cells, c, neigh):\n",
    "    l = []\n",
    "    for i in range(max(0,c-neigh),min(len(cells),c+neigh+1)):\n",
    "        if i != c:\n",
    "            l.append(cells[i])\n",
    "    return l\n",
    "assert neighborhood([1,0,0,0,1,1,1,0,1,0,1,0,1], 0, 3)==[0,0,0]\n"
   ]
  },
  {
   "cell_type": "markdown",
   "metadata": {},
   "source": [
    "**Question 2 :** Implémenter la fonction ```satisfaction_ratio```, prenant comme paramètres un monde ```cells```, la position ```c``` d'un individu dans le monde et la taille du voisinnage ```neigh```, retourne le niveau de satisfaction d'un individu (le pourcentage de ses voisins étant du même type)."
   ]
  },
  {
   "cell_type": "code",
   "execution_count": 8,
   "metadata": {},
   "outputs": [],
   "source": [
    "def satisfaction_ratio(cells,c,neigh):\n",
    "    p=0\n",
    "    typ = cells[c]\n",
    "    L=neighborhood(cells, c, neigh)\n",
    "    for i in L:\n",
    "        if i==typ:\n",
    "            p+=1\n",
    "    return p/10"
   ]
  },
  {
   "cell_type": "code",
   "execution_count": 9,
   "metadata": {},
   "outputs": [
    {
     "data": {
      "text/plain": [
       "0.4"
      ]
     },
     "execution_count": 9,
     "metadata": {},
     "output_type": "execute_result"
    }
   ],
   "source": [
    "satisfaction_ratio(cells, 4, neigh)"
   ]
  },
  {
   "cell_type": "markdown",
   "metadata": {},
   "source": [
    "**Question 3** :  Implémenter la fonction ```is_happy```, prenant comme paramètres un monde ```cells```, la position ```c``` d'un individu dans le monde, la taille du voisinnage ```neigh``` et ```threshold``` son seuil de satisfaction, retourne un booléen indiquant si l'individu à la position ```c``` est satisfait."
   ]
  },
  {
   "cell_type": "code",
   "execution_count": 10,
   "metadata": {},
   "outputs": [],
   "source": [
    "def is_happy(cells,c,neigh,threshold):\n",
    "    \n",
    "    if satisfaction_ratio(cells, c, neigh) > threshold:\n",
    "        return True\n",
    "    else:\n",
    "        return False"
   ]
  },
  {
   "cell_type": "code",
   "execution_count": 11,
   "metadata": {},
   "outputs": [
    {
     "data": {
      "text/plain": [
       "False"
      ]
     },
     "execution_count": 11,
     "metadata": {},
     "output_type": "execute_result"
    }
   ],
   "source": [
    "is_happy(cells, 5, neigh, threshold)"
   ]
  },
  {
   "cell_type": "markdown",
   "metadata": {},
   "source": [
    "**Question 4 :** En s'inspirant de la fonction ```print_world```, implémenter la fonction ```print_satisfaction``` une réprésentation graphique de la satisfaction des individus du monde ```cells```."
   ]
  },
  {
   "cell_type": "code",
   "execution_count": 12,
   "metadata": {},
   "outputs": [],
   "source": [
    "def print_satisfaction(cells):\n",
    "\n",
    "    result = \"|\"\n",
    "    for i in range(len(cells)):\n",
    "        result += str(satisfaction_ratio(cells, i, neigh)) + \"|\"\n",
    "    return result"
   ]
  },
  {
   "cell_type": "code",
   "execution_count": 13,
   "metadata": {},
   "outputs": [
    {
     "data": {
      "text/plain": [
       "'|0.3|0.1|0.3|0.4|0.4|0.3|0.2|0.4|0.4|0.2|0.3|0.3|0.4|0.4|0.2|0.1|0.5|0.5|0.4|0.4|0.0|0.3|'"
      ]
     },
     "execution_count": 13,
     "metadata": {},
     "output_type": "execute_result"
    }
   ],
   "source": [
    "print_satisfaction(cells)"
   ]
  },
  {
   "cell_type": "markdown",
   "metadata": {},
   "source": [
    "**Question 5 :** Implémenter la fonction ```relocation``` **retirant** un individu à la position ```c``` et l'**insérant** juste avant la position```d``` (avec $0\\leq d \\leq n$). **Cette fonction doit retourner une copie du monde**."
   ]
  },
  {
   "cell_type": "code",
   "execution_count": 14,
   "metadata": {},
   "outputs": [],
   "source": [
    "def relocation(cells, c, d):\n",
    "    table = []\n",
    "    for i in cells:\n",
    "        table.append(i)\n",
    "    e = table.pop(c)\n",
    "    table.insert(d, e)\n",
    "    return table"
   ]
  },
  {
   "cell_type": "markdown",
   "metadata": {},
   "source": [
    "**Question 6 :** Implémenter la fonction ```nearest_satisfying``` qui, pour un individu insatisfait, retourne la position satisfaisante la plus proche (en cas d'égalité : préférer la position satisfaisante de droite).  \n",
    "*Indice :* Pour savoir si une position est satisfaisante nous pouvons essayer d'insérer l'individu et lui demander s'il est satisfait de son nouveau voisinnage."
   ]
  },
  {
   "cell_type": "code",
   "execution_count": 15,
   "metadata": {},
   "outputs": [
    {
     "data": {
      "text/plain": [
       "7"
      ]
     },
     "execution_count": 15,
     "metadata": {},
     "output_type": "execute_result"
    }
   ],
   "source": [
    "def nearest_satisfying(cells, c, neigh, threshold):\n",
    "    if is_happy(cells,c,neigh,threshold):\n",
    "        return c\n",
    "    else:\n",
    "        minhapp=len(cells)*2\n",
    "        for d in range (len(cells)-1):\n",
    "            staline=relocation(cells,c,d)\n",
    "            if is_happy(staline,d,neigh,threshold):\n",
    "                if abs(minhapp-c)>abs(d-c):\n",
    "                    minhapp=d\n",
    "                elif abs(minhapp-c)==abs(d-c) and d-c>0:\n",
    "                    minhapp=d\n",
    "        if minhapp==len(cells)*2:\n",
    "            minhapp=c\n",
    "            return minhapp"
   ]
  },
  {
   "cell_type": "markdown",
   "metadata": {},
   "source": [
    "### Dynamique\n",
    "\n",
    "La dynamique consiste à répéter les déplacements. Schelling suggère de considérer les individus un par un, en partant de la gauche, et de les faire se déplacer s'ils le peuvent. Un *tour* est terminé lorsque tous les individus ont été considérés, et on peut répéter ainsi les tours. Mais quand s'arrêter avec cette dynamique ? \n",
    "\n",
    "Nous considérons différents critères de convergence :\n",
    "* Lorsque tous les individus sont satisfaits. Cependant, rien ne garantit que le système puisse parvenir à un état où tous les individus sont satisfaits (cela peut arriver mais c'est plutôt exceptionnel). \n",
    "* Lorsque plus aucun individu ne peut se déplacer. Ce critère est plus pertinent, mais il cache une difficulté: le système ne parvient pas non plus nécessairement dans un état où plus aucun individu ne peut se déplacer. Ce critère seul peut donc mener à des boucles infinies.\n",
    "* Nous emploierons donc un garde-fou, qui consistera à poser un nombre maximal d'itérations. Si le système n'est pas stabilisé, selon le critère précédent, après ce nombre d'itérations : la dynamique s'arrête. "
   ]
  },
  {
   "cell_type": "markdown",
   "metadata": {},
   "source": [
    "**Question 7**: Implémenter la fonction ```schelling``` qui effectue un *tour* du modèle de schelling. Vérifier l'exactitude de cette fonction sur des exemples de votre choix (papier et stylo utiles). "
   ]
  },
  {
   "cell_type": "code",
   "execution_count": 16,
   "metadata": {},
   "outputs": [],
   "source": [
    "def schelling(cells, neigh, treshold) :\n",
    "    \n",
    "    \n",
    "    position = []\n",
    "    \n",
    "    for i in range(len(cells)) :\n",
    "        position.append(i)\n",
    "        \n",
    "    for i in range(len(cells)) : \n",
    "        j = position.index(i)\n",
    "        n = nearest_satisfying(cells, j, neigh, threshold)\n",
    "        cells = relocation(cells, j, n)\n",
    "        \n",
    "        temp = position[j]\n",
    "        position[j] = position[n]\n",
    "        position[n] = temp\n",
    "            \n",
    "    return cells\n",
    "        "
   ]
  },
  {
   "cell_type": "code",
   "execution_count": 17,
   "metadata": {},
   "outputs": [
    {
     "data": {
      "text/plain": [
       "'|0|1|0|0|0|1|1|0|1|0|0|1|1|1|0|0|1|1|1|1|0|1|'"
      ]
     },
     "execution_count": 17,
     "metadata": {},
     "output_type": "execute_result"
    }
   ],
   "source": [
    "print_world(cells)"
   ]
  },
  {
   "cell_type": "code",
   "execution_count": 18,
   "metadata": {},
   "outputs": [
    {
     "data": {
      "text/plain": [
       "'|1|0|0|0|0|1|0|0|0|0|0|0|1|1|1|1|1|1|1|1|1|1|'"
      ]
     },
     "execution_count": 18,
     "metadata": {},
     "output_type": "execute_result"
    }
   ],
   "source": [
    "tour1 = schelling(cells, neigh, threshold)\n",
    "print_world(tour1)"
   ]
  },
  {
   "cell_type": "markdown",
   "metadata": {},
   "source": [
    "**Question 8 :** Implementer la fonction finale du modèle de schelling ```linear_schelling``` prenant en compte tous les paramètres du modèle (taille du voisinnage ```neigh```, seuil de satisfaction ```threshold```, nombre d'itérations ```max_iter```)."
   ]
  },
  {
   "cell_type": "code",
   "execution_count": 19,
   "metadata": {},
   "outputs": [],
   "source": [
    "def linear_schelling(cells, neigh, threshold, max_iter):\n",
    "    for i in range(max_iter):\n",
    "        cells = schelling(cells,neigh,threshold)\n",
    "    return cells"
   ]
  },
  {
   "cell_type": "code",
   "execution_count": 20,
   "metadata": {},
   "outputs": [
    {
     "data": {
      "text/plain": [
       "'|0.4|0.5|0.6|0.7|0.8|0.8|0.7|0.6|0.5|0.4|0.4|0.5|0.6|0.7|0.8|0.8|0.8|0.8|0.7|0.6|0.5|0.4|'"
      ]
     },
     "execution_count": 20,
     "metadata": {},
     "output_type": "execute_result"
    }
   ],
   "source": [
    "tours = linear_schelling(cells, neigh, threshold, 1000)\n",
    "print_world(tours)\n",
    "print_satisfaction(tours)"
   ]
  },
  {
   "cell_type": "markdown",
   "metadata": {},
   "source": [
    "Normalement, à ce stade, nous avons réussi à implémenter le modèle de Schelling sur un monde linéaire. Nous allons, maintenant, essayer de déterminer l'impact des paramètres sur la dynamique de notre *monde*. Pour se faire nous allons avoir besoin de mondes plus grands et d'un nombre de types d'individu plus grand que 2."
   ]
  },
  {
   "cell_type": "markdown",
   "metadata": {},
   "source": [
    "**Question 9** : Proposer une méthode pour générer des mondes linéaires de manière automatique et aléatoire (refléchir aux paramètres de cette méthode). Implémenter cette méthode dans la fonction ```generate_linear_world```.  \n",
    "*Indice*: on peut s'intéresser à la fonction ```random.choice``` du package ```numpy```. "
   ]
  },
  {
   "cell_type": "code",
   "execution_count": 21,
   "metadata": {},
   "outputs": [
    {
     "data": {
      "text/plain": [
       "[0, 0, 0, 0, 1, 1, 1, 0, 0, 0, 1, 0, 0, 1, 0, 0, 1, 1, 1, 0]"
      ]
     },
     "execution_count": 21,
     "metadata": {},
     "output_type": "execute_result"
    }
   ],
   "source": [
    "def generate_linear_world(size):\n",
    "    world=[]\n",
    "    liste=[0,1]\n",
    "    for i in range(size):\n",
    "        world.append(random.choice(liste))\n",
    "    return world\n",
    "\n",
    "generate_linear_world(20)"
   ]
  },
  {
   "cell_type": "markdown",
   "metadata": {},
   "source": [
    "La fonction ```plot_world``` permet d'afficher notre monde de manière un peu plus élégante:"
   ]
  },
  {
   "cell_type": "code",
   "execution_count": 22,
   "metadata": {},
   "outputs": [
    {
     "data": {
      "image/png": "[encoded data removed]",
      "text/plain": [
       "<Figure size 1080x864 with 1 Axes>"
      ]
     },
     "metadata": {},
     "output_type": "display_data"
    }
   ],
   "source": [
    "def plot_world(world):\n",
    "    if type(world) == list:\n",
    "        A = np.array([world])\n",
    "    else:\n",
    "        A = world\n",
    "    plt.figure(figsize=(15,12)) # (30,30) = Taille de la figure\n",
    "    plt.imshow(A,cmap='viridis')\n",
    "    plt.tick_params(top=False, bottom=False, right=False, left=False, labelleft=False, labelbottom=False)\n",
    "    plt.show()\n",
    "plot_world(cells)    "
   ]
  },
  {
   "cell_type": "markdown",
   "metadata": {},
   "source": [
    "**Question 10** : Implémenter les métriques suivantes (une métrique = une fonction) :\n",
    "- ```happiness_rate``` le ratio d’individus satisfaits,\n",
    "- ```mean_size_communities``` la taille (moyenne) des regroupements homogènes observés,\n",
    "- ```nb_communities``` le nombre de regroupements homogènes,\n",
    "- ```mean_same_type``` la moyenne sur tous les individus du ratio de voisins du même type qu’eux,\n",
    "- ```nb_iter_to_stability``` le nombre de tours nécessaires pour arriver à un état stable."
   ]
  },
  {
   "cell_type": "code",
   "execution_count": 23,
   "metadata": {},
   "outputs": [],
   "source": [
    "def happiness_rate(cells,neigh,threshold):\n",
    "    satisfaction=0\n",
    "    for i in range (len(cells)):\n",
    "        if  is_happy(cells, i, neigh, threshold)== True:\n",
    "            satisfaction+=1\n",
    "    return (satisfaction/len(cells))\n",
    "    \n",
    "def nb_communities(cells):\n",
    "    N=1\n",
    "    for i in range(len(cells)-1):\n",
    "        if cells[i]!=cells[i+1]:\n",
    "            N+=1\n",
    "    return N\n",
    "\n",
    "def mean_size_communities(cells):\n",
    "    size = 1\n",
    "    somme = 0\n",
    "    liste = []\n",
    "    for i in range(len(cells)-1):\n",
    "        if cells[i]==cells[i+1]:\n",
    "            size+=1\n",
    "        else:\n",
    "            liste.append(size)\n",
    "            size=1\n",
    "    \n",
    "    for i in liste:\n",
    "        somme+=i\n",
    "                \n",
    "    return somme/nb_communities(cells)\n",
    "\n",
    "mean_size_communities(cells)\n",
    "\n",
    "def mean_same_type(cells, neigh):\n",
    "    liste=[]\n",
    "    somme=0\n",
    "    for i in range(len(cells)-1):\n",
    "        liste.append(satisfaction_ratio(cells, i, neigh))\n",
    "        \n",
    "    for i in liste:\n",
    "        somme+=i\n",
    "                \n",
    "    return somme/nb_communities(cells)\n",
    "mean_same_type(cells,neigh)\n",
    "\n",
    "def nb_iter_to_stability(cells, neigh, threshold):\n",
    "    n=0\n",
    "    while schelling(cells, neigh, threshold)!=cells:\n",
    "        n+=1\n",
    "        cells=schelling(cells, neigh, threshold)\n",
    "    \n",
    "    return n"
   ]
  },
  {
   "cell_type": "markdown",
   "metadata": {},
   "source": [
    "**Question 11 :** Faire varier les paramètres du modèle et observer l'évolution des différentes métriques. Tracer les courbes correspondantes, si elles sont judicieuses, en utilisant matplotlib ; puis décrire les phénomènes observés (pas plus de 3 courbes, un paragraphe par phénomène observé).\n",
    "\n",
    "*Indices :* Tracer l'évolution du taux de satisfaction au fil des tours. Faire évoluer le seuil de satisfaction par pas de 0.1 de 0 à 1. Etudier la taille des regroupements homogènes en fonction de ce seuil. Nombre de tours nécessaires pour arriver à un état stable en fonction de la taille du monde. "
   ]
  },
  {
   "cell_type": "code",
   "execution_count": 24,
   "metadata": {},
   "outputs": [
    {
     "data": {
      "image/png": "[encoded data removed]",
      "text/plain": [
       "<Figure size 432x288 with 1 Axes>"
      ]
     },
     "metadata": {
      "needs_background": "light"
     },
     "output_type": "display_data"
    }
   ],
   "source": [
    "%matplotlib inline\n",
    "Y=[]\n",
    "X=[]\n",
    "table = []\n",
    "for i in (cells):\n",
    "    table.append(i)\n",
    "        \n",
    "for i in range(max_iter):\n",
    "    X.append(i)\n",
    "\n",
    "for i in range(max_iter):\n",
    "    Y.append(happiness_rate(table, neigh,0.5))\n",
    "    table = schelling(table, neigh,0.5)\n",
    "plt.plot(X,Y)\n",
    "plt.xlabel(\"Iterations\")\n",
    "plt.ylabel(\"Hapiness Rate\")\n",
    "plt.show()"
   ]
  },
  {
   "cell_type": "markdown",
   "metadata": {},
   "source": [
    "On constate que lorsque le threshold est à 0.5 : on peut arriver à un état stable assez rapidement, si on baisse le threshold, on peut voir que les individus sont très rapidments satisfaits, de plus leur hapiness rate atteint 1, plus on augmente le threshold, plus il faudra d'itérations pour arriver à l'état stable et happiness rate diminuera aussi faute de ne pas trouver \"l'emplacement parfait\" pour l'ensemble des individus."
   ]
  },
  {
   "cell_type": "code",
   "execution_count": 25,
   "metadata": {},
   "outputs": [
    {
     "data": {
      "image/png": "[encoded data removed]",
      "text/plain": [
       "<Figure size 432x288 with 1 Axes>"
      ]
     },
     "metadata": {
      "needs_background": "light"
     },
     "output_type": "display_data"
    }
   ],
   "source": [
    "%matplotlib inline\n",
    "Y1=[]\n",
    "X=[]\n",
    "table1 = []\n",
    "for i in (cells):\n",
    "    table1.append(i)\n",
    "for i in range(max_iter):\n",
    "    X.append(i)\n",
    "for i in range(max_iter):\n",
    "    Y1.append(mean_size_communities(table1))\n",
    "    table1 = schelling(table1, neigh,0.5)\n",
    "plt.plot(X,Y1)\n",
    "plt.xlabel(\"iterations\")\n",
    "plt.ylabel(\"mean size communities\")\n",
    "plt.show()"
   ]
  },
  {
   "cell_type": "markdown",
   "metadata": {},
   "source": [
    "On constate que via un threshold à 0.5 : le nombre de communautés grimpe rapidement pour atteindre 5 lors que quand le threshold est à 0.1 : les individus sont directement satisfaits et ne se deplacent pas, ce qui fait que le mean size communities ne varie pas"
   ]
  },
  {
   "cell_type": "code",
   "execution_count": 26,
   "metadata": {},
   "outputs": [
    {
     "data": {
      "image/png": "[encoded data removed]",
      "text/plain": [
       "<Figure size 432x288 with 1 Axes>"
      ]
     },
     "metadata": {
      "needs_background": "light"
     },
     "output_type": "display_data"
    }
   ],
   "source": [
    "%matplotlib inline\n",
    "Y2=[]\n",
    "X=[]\n",
    "table2 = []\n",
    "for i in (cells):\n",
    "    table2.append(i)\n",
    "for i in range(max_iter):\n",
    "    X.append(i)\n",
    "for i in range(max_iter):\n",
    "    Y2.append(nb_iter_to_stability(table2, neigh, threshold))\n",
    "    table2 = schelling (table2,neigh,0.5)\n",
    "plt.plot(X,Y2)\n",
    "plt.xlabel(\"iterations\")\n",
    "plt.ylabel(\"number iterations to satbility\")\n",
    "plt.show()"
   ]
  },
  {
   "cell_type": "markdown",
   "metadata": {},
   "source": [
    "   On constate que lorsque le threshold est à 0.5 : il faut 2 itérations pour parvenir à un état stable, plus le threshold est bas, moins il faudra d'itérations et inversement, beaucoup plus si le threshold est élevé."
   ]
  },
  {
   "cell_type": "markdown",
   "metadata": {},
   "source": [
    "# 2ème partie : Modèle spatial\n",
    "\n",
    "Dans cette partie le monde que nous allons considérer n'est plus constitué d'une dimension mais de deux dimensions. Si l'on pouvait assimiler le modèle \"linéaire\" à l'application du modèle de Schelling dans une rue, l'extension à une deuxième dimension permet de modéliser le modèle de Schelling à l'échelle d'une ville (pensons à une carte divisées en emplacements carrés de même taille, chaque carré représentant un immeuble ou un pâté de maisons).\n",
    "\n",
    "Un emplacement est déterminé par ses coordonnées $(X,Y)$. Par exemple, l'emplacement $(0,0)$ est situé en tout en haut à gauche et l'emplacement $(n,m)$ tout en bas à droite.\n",
    "\n",
    "L’extension du modèle linéaire au modèle spatial n’est pas triviale. En effet, si toutes les localisations sont occupées, il n’est pas si évident de définir les règles de déplacements (où se déplacent les individus « chassés » de leur localisation ?).\n",
    "\n",
    "Il est alors plus aisé d’introduire des localisations non occupées. Dans ce cas, les individus non satisfait se déplacent au hasard vers une localisation inoccupée. Contrairement au modèle linéaire, la nouvelle localisation ne satisfait pas forcément le seuil de préférence et n'est pas forcément la plus proche (ces alternatives pourront être implantées en question 5)."
   ]
  },
  {
   "cell_type": "markdown",
   "metadata": {},
   "source": [
    "# Etude du modèle spatial"
   ]
  },
  {
   "cell_type": "code",
   "execution_count": 27,
   "metadata": {},
   "outputs": [],
   "source": [
    "# Paramètres du modèle Schelling (à modifier, ne pas oublier de réexécuter la cellule)\n",
    "neigh = 1       # Taille du voisinnage\n",
    "threshold = 0.5 # Seuil de satisfaction\n",
    "max_iter = 5    # Nombre de tours\n",
    "n,m = 7,7       # Taille du monde (n)"
   ]
  },
  {
   "cell_type": "markdown",
   "metadata": {},
   "source": [
    "**Question 1** : Implanter la fonction ```generate_spatial_world``` permettant de générer des mondes spatiaux aléatoirement (de même : s'interroger sur les paramètres nécessaires). Utiliser ```numpy.array```.  \n",
    "*Indice* : Pour un emplacement innocupé, nous pouvons créer un nouveau type."
   ]
  },
  {
   "cell_type": "code",
   "execution_count": 31,
   "metadata": {},
   "outputs": [
    {
     "name": "stdout",
     "output_type": "stream",
     "text": [
      "[[1 1 2 1 1 1 1]\n",
      " [0 0 2 0 0 1 0]\n",
      " [0 2 1 0 2 1 2]\n",
      " [0 0 1 1 2 0 2]\n",
      " [2 2 1 0 0 1 0]\n",
      " [1 2 1 1 0 0 0]\n",
      " [2 2 1 1 1 2 2]]\n"
     ]
    }
   ],
   "source": [
    "def generate_spatial_world(n,m,empty_rate):\n",
    "    s_world=np.random.randint(2,size=(n,m))\n",
    "    for i in range (n):\n",
    "        for j in range(m):\n",
    "            if random.random()<empty_rate:\n",
    "                s_world[i,j]=2\n",
    "                \n",
    "                \n",
    "    return s_world\n",
    "        \n",
    "cells = generate_spatial_world(n,m,0.2)\n",
    "\n",
    "print (cells)\n"
   ]
  },
  {
   "cell_type": "markdown",
   "metadata": {},
   "source": [
    "**Question 2 :** Implémenter la fonction ```spatial_schelling```, permettant d'appliquer le modèle de schelling sur un monde spatial.  \n",
    "**Utiliser la [distance de Tchebychev](https://fr.wikipedia.org/wiki/Distance_de_Tchebychev)** dès qu'il est question de comparer des distances entre individus : pour les voisins nous pouvons considérer tous les emplacements dont la distance est inférieure ou égale à ```neigh```."
   ]
  },
  {
   "cell_type": "code",
   "execution_count": null,
   "metadata": {},
   "outputs": [],
   "source": []
  },
  {
   "cell_type": "markdown",
   "metadata": {},
   "source": [
    "**Question 3 :** Adapter les métriques de la question 10 pour le modèle spatial. "
   ]
  },
  {
   "cell_type": "markdown",
   "metadata": {},
   "source": [
    "**Question 4 :** Faire varier les paramètres du modèle et observer l'évolution des différentes métriques. Tracer les courbes correspondantes, si elles sont judicieuses, en utilisant matplotlib ; puis décrire les phénomènes observés (pas plus de 3 courbes, un paragraphe par phénomène observé).  "
   ]
  },
  {
   "cell_type": "code",
   "execution_count": null,
   "metadata": {},
   "outputs": [],
   "source": []
  },
  {
   "cell_type": "markdown",
   "metadata": {},
   "source": [
    "**Question 5 (optionnelle) :** Proposer des alternatives au modèle.  "
   ]
  },
  {
   "cell_type": "markdown",
   "metadata": {},
   "source": [
    "# 3ème partie : Animation (Interface Graphique avec tkinter)"
   ]
  },
  {
   "cell_type": "code",
   "execution_count": null,
   "metadata": {},
   "outputs": [],
   "source": [
    "import tkinter as Tk"
   ]
  }
 ],
 "metadata": {
  "anaconda-cloud": {},
  "kernelspec": {
   "display_name": "Python 3",
   "language": "python",
   "name": "python3"
  },
  "language_info": {
   "codemirror_mode": {
    "name": "ipython",
    "version": 3
   },
   "file_extension": ".py",
   "mimetype": "text/x-python",
   "name": "python",
   "nbconvert_exporter": "python",
   "pygments_lexer": "ipython3",
   "version": "3.8.5"
  }
 },
 "nbformat": 4,
 "nbformat_minor": 1
}
