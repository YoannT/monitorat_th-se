{
 "cells": [
  {
   "cell_type": "markdown",
   "metadata": {},
   "source": [
    "# Le modèle de ségrégation de Schelling\n",
    "L. Rannou (basé sur S. Stinckwich)  \n",
    "*ARE DYNAMIC - 2021*"
   ]
  },
  {
   "cell_type": "markdown",
   "metadata": {},
   "source": [
    "## Préambule\n",
    "\n",
    "En Décembre 2016 disparaissait Thomas C. Schelling. Economiste, récipiendaire du Prix de la Banque de Suède en sciences économiques (communément appelé et considéré comme le prix Nobel d’économie), il a travaillé sur de nombreux sujets, en particulier l’analyse des conflits.\n",
    "\n",
    "Une de ses contributions a permis de mieux comprendre les phénomènes de ségrégation. Plus précisément, le propos de Schelling fut d’étudier la dynamique par laquelle **des phénomènes de ségrégation extrêmes** peuvent survenir, en dépit de **préférences qui peuvent sembler faiblement discriminantes individuellement**. Ainsi, même si chaque individu se déclare prêt à accepter une certaine proportion d’invidus « différents » dans son voisinage, le résultat final peut être que la population se regroupe en régions très homogènes.\n",
    "\n",
    "Cette étude peut être menée à l’aide de modèles connus sous le nom d’automates cellulaires. Un des automates les plus célèbres est le [jeu de la vie](https://fr.wikipedia.org/wiki/Jeu_de_la_vie), proposé par John Conway en 1970. Il existe de nombreux autres automates cellulaires dont le comportement est relativement bien étudié, et la littérature est riche à ce sujet. Nous recommandons la lecture de l’article [2] de Jean-Paul Delahaye.\n",
    "\n",
    "## Objectifs\n",
    "\n",
    "Dans ce notebook nous allons essayer de modéliser la répartition d'une population humaine sur une aire urbaine (un *monde*). Nous allons essayer de comprendre les différentes formes de ségration et de communautarisme pouvant avoir lieu dans les villes.\n",
    "Nous partons d'une hypothèse primordiale : **chaque individu est indépendant cependant il ne peut pas se sentir confortable dans un quartier où les habitants sont en majorité \"différents\" de lui.**\n",
    "\n",
    "Dans un premier temps nous allons modéliser cette répartition une aire urbaine simple : une rue ou une avenue (modèle linéaire).\n",
    "Puis dans un second temps nous modéliserons cette répartition à l'échelle d'une ville (modèle spatial).\n",
    "\n",
    "\n",
    "# 1ère partie : Modèle linéaire\n",
    "\n",
    "Considérons un monde *linéaire* (c’est en fait le premier modèle étudié par Schelling dans son article [1], à quelques détails près). Le modèle se compose des éléments suivants.\n",
    "\n",
    "- Les *individus* sont de deux *types* (« 0 » et « 1 »), disposés spatialement sur une ligne de taille $n$ (le *monde*).\n",
    "- Le *voisinage* d'un *individu* est constitué de ses 8 voisins de part et d'autre de sa cellule (4 à sa gauche et 4 à sa droite). Il faut noter que le nombre de voisins peut varier selon la localisation (pour les individus en bout de ligne).\n",
    "- Le *seuil de satisfaction* : un *individu* est satisfait si une majorité (faible) de ses voisins est du même *type* que lui (i.e. il veut **au moins** autant de voisins du même *type* que lui que de voisins d'un *type* différent).\n",
    "- Le *mode de déplacement* : un *individu* non satisfait va chercher à se déplacer pour trouver un emplacement qui le satisfasse (un emplacement dont le *voisinage* respecte son *seuil de satisfaction*). Dans le cas où plusieurs emplacements peuvent le satisfaire, un *individu* se déplace vers l’emplacement le plus proche. Si deux emplacements à la même distance sont satisfaisants l'emplacement de droite est privilégié.\n",
    "- La *dynamique des déplacements* : tous les individus sont considérés, de gauche à droite. Chaque individu non satisfait **s'insère** à l’emplacement satisfaisant le plus proche. Un *tour* est terminé lorsque tous les agents ont été considérés.\n",
    "\n",
    "\n",
    "À l'issu d'un *tour* des individus peuvent se retrouver à nouveau insatisfaits, dû aux déplacements de leurs voisins.\n",
    "Partant d’un état initial, le processus est répété jusqu’à équilibre, c’est-à-dire jusqu’à ce que plus aucun individu insatisfait ne puisse se déplacer, ou qu’une situation de blocage soit détectée. Cela peut nécessiter plusieurs *tours*.\n",
    "\n",
    "### Example\n",
    "\n",
    "Pour illustrer le propos, considérons la situation initiale suivante :\n",
    "\n",
    "![Linear Model 1](linearmodel1.png)\n",
    "\n",
    "Les individus non satisfaits sont indiqués en gris dans la table. Le premier individu à se déplacer sera donc le deuxième en partant de la gauche. En effet, son voisinage ne comprend qu’un autre individu de type \"1\" (et 4 de type \"0\"). Pour trouver une place satisfaisante, il va devoir se déplacer de 6 cases vers la droite (l'emplacement satisfaisant le plus proche).\n",
    "\n",
    "Le nouvel état du monde sera alors (l’individu s’étant déplacé est en gras):\n",
    "\n",
    "![Linear Model 2](linearmodel2.png)\n",
    "\n",
    "\n",
    "### Références\n",
    "- [1] Thomas C. Schelling, [Dynamic Models of Segregation](http://www.stat.berkeley.edu/~aldous/157/Papers/Schelling_Seg_Models.pdf), Journal of Mathematical Sociology (1971) 143-186\n",
    "- [2] J.-P. Delahaye, [Le royaume du jeu de la vie](http://www.lifl.fr/~jdelahay/dnalor/Jeudelavie.pdf), Pour la Science (2009) 378"
   ]
  },
  {
   "cell_type": "markdown",
   "metadata": {},
   "source": [
    "#  Etude du modèle \"linéaire\"\n",
    "\n",
    "**Objectifs : implémenter le modèle de Schelling en python, le tester sur un exemple simple puis étudier l'impact que peuvent avoir les paramètres du modèle sur le monde.**\n",
    "\n",
    "Nous allons étudier l’impact des paramètres du modèle : \n",
    "- la taille du voisinage,\n",
    "- le seuil de satisfaction des individus,\n",
    "- la configuration initiale,\n",
    "- les règles de mouvement (le mode de déplacement).\n",
    "\n",
    "Pour quantifier l'impact de ces paramètres, en plus de l'observation visuelle de l'évolution de notre monde, nous utiliserons les métriques suivantes : \n",
    "- le nombre d’individus satisfaits à l’équilibre,\n",
    "- la taille (moyenne) des regroupements homogènes observés et leur nombre,\n",
    "- la moyenne sur tous les individus de voisins du même type qu’eux,\n",
    "- le nombre de tours nécessaires pour arriver à un état stable."
   ]
  },
  {
   "cell_type": "code",
   "execution_count": 67,
   "metadata": {},
   "outputs": [],
   "source": [
    "import numpy as np\n",
    "import random\n",
    "\n",
    "from matplotlib import pyplot as plt"
   ]
  },
  {
   "cell_type": "code",
   "execution_count": 68,
   "metadata": {},
   "outputs": [],
   "source": [
    "# Paramètres du modèle Schelling (à modifier, ne pas oublier de réexécuter la cellule)\n",
    "neigh = 4          # Taille du voisinnage (d'un côté, pour avoir le total faire *2)\n",
    "threshold = 0.5     # Seuil de satisfaction\n",
    "max_iter = 5        # Nombre de tours\n",
    "size = 22           # Taille du monde (n)"
   ]
  },
  {
   "cell_type": "markdown",
   "metadata": {},
   "source": [
    "Notre monde est représenté par d'une liste de 0 et de 1. Par exemple :"
   ]
  },
  {
   "cell_type": "code",
   "execution_count": 69,
   "metadata": {},
   "outputs": [],
   "source": [
    "cells = [0, 1, 0, 0, 0, 1, 1, 0, 1, 0, 0, 1, 1, 1, 0, 0, 1, 1, 1, 1, 0, 1]"
   ]
  },
  {
   "cell_type": "code",
   "execution_count": 70,
   "metadata": {},
   "outputs": [],
   "source": [
    "assert len(cells) == size"
   ]
  },
  {
   "cell_type": "markdown",
   "metadata": {},
   "source": [
    "Nous pouvons considérer que ce monde représente une rue, la population de chaque maison étant de type \"0\" ou \"1\". "
   ]
  },
  {
   "cell_type": "markdown",
   "metadata": {},
   "source": [
    "La fonction ```print_world``` convertit un monde en une chaîne de caractères pour l'afficher à l'écran."
   ]
  },
  {
   "cell_type": "code",
   "execution_count": 71,
   "metadata": {},
   "outputs": [],
   "source": [
    "def print_world(cells):\n",
    "    '''Convertit un monde en une chaîne de caractères pour l'afficher à l'écran.\n",
    "    '''\n",
    "    result = \"|\"\n",
    "    for i in cells:\n",
    "        result += str(i)+\"|\"\n",
    "    return result"
   ]
  },
  {
   "cell_type": "code",
   "execution_count": 72,
   "metadata": {},
   "outputs": [
    {
     "data": {
      "text/plain": [
       "'|0|1|0|0|0|1|1|0|1|0|0|1|1|1|0|0|1|1|1|1|0|1|'"
      ]
     },
     "execution_count": 72,
     "metadata": {},
     "output_type": "execute_result"
    }
   ],
   "source": [
    "print_world(cells)"
   ]
  },
  {
   "cell_type": "markdown",
   "metadata": {},
   "source": [
    "**Question 1** : Implémenter la fonction ```neighborhood``` qui prend comme paramètres un monde ```cells```, la position ```c``` d'un individu dans le monde et la taille du voisinnage ```neigh``` et retourne une liste contenant le type des voisins d'un individu (**attention aux bords du monde**)."
   ]
  },
  {
   "cell_type": "code",
   "execution_count": 73,
   "metadata": {},
   "outputs": [
    {
     "name": "stdout",
     "output_type": "stream",
     "text": [
      "[0, 1, 0, 0, 0, 1, 1, 0, 1, 0, 0, 1, 1, 1, 0, 0, 1, 1, 1, 1, 0, 1]\n"
     ]
    },
    {
     "data": {
      "text/plain": [
       "[1, 0, 0, 0, 1, 0, 1, 0]"
      ]
     },
     "execution_count": 73,
     "metadata": {},
     "output_type": "execute_result"
    }
   ],
   "source": [
    "def neighboor (cells,c, neigh):\n",
    "    return [cells[e] for e in range (max(0,c-neigh),min(len(cells),c+neigh+1)) if e!=c]\n",
    "\n",
    "print(cells)\n",
    "neighboor (cells,5, neigh)"
   ]
  },
  {
   "cell_type": "markdown",
   "metadata": {},
   "source": [
    "**Question 2 :** Implémenter la fonction ```satisfaction_ratio```, prenant comme paramètres un monde ```cells```, la position ```c``` d'un individu dans le monde et la taille du voisinnage ```neigh```, retourne le niveau de satisfaction d'un individu (le pourcentage de ses voisins étant du même type)."
   ]
  },
  {
   "cell_type": "code",
   "execution_count": 74,
   "metadata": {},
   "outputs": [
    {
     "data": {
      "text/plain": [
       "75.0"
      ]
     },
     "execution_count": 74,
     "metadata": {},
     "output_type": "execute_result"
    }
   ],
   "source": [
    "def satisfaction_ratio (cells,c,neigh):  \n",
    "    par=0\n",
    "    vois= neighboor(cells,c,neigh)\n",
    "    for e in vois:\n",
    "        if e==cells[c]:\n",
    "            par+=1\n",
    "    return ((par)/(len(vois)))*100\n",
    "\n",
    "satisfaction_ratio(cells,0,neigh)"
   ]
  },
  {
   "cell_type": "markdown",
   "metadata": {},
   "source": [
    "**Question 3** :  Implémenter la fonction ```is_happy```, prenant comme paramètres un monde ```cells```, la position ```c``` d'un individu dans le monde, la taille du voisinnage ```neigh``` et ```threshold``` son seuil de satisfaction, retourne un booléen indiquant si l'individu à la position ```c``` est satisfait."
   ]
  },
  {
   "cell_type": "code",
   "execution_count": 75,
   "metadata": {},
   "outputs": [
    {
     "name": "stdout",
     "output_type": "stream",
     "text": [
      "True\n",
      "False\n"
     ]
    }
   ],
   "source": [
    "def is_happy(cells,c,neigh,threshold):\n",
    "    return satisfaction_ratio (cells,c,neigh)>=threshold *100\n",
    "\n",
    "\n",
    "print (is_happy (cells,0,neigh, threshold))\n",
    "print (is_happy(cells,1,neigh,threshold))"
   ]
  },
  {
   "cell_type": "markdown",
   "metadata": {},
   "source": [
    "**Question 4 :** En s'inspirant de la fonction ```print_world```, implémenter la fonction ```print_satisfaction``` une réprésentation graphique de la statisfaction des individus du monde ```cells```."
   ]
  },
  {
   "cell_type": "code",
   "execution_count": 76,
   "metadata": {},
   "outputs": [
    {
     "name": "stdout",
     "output_type": "stream",
     "text": [
      "[0, 1, 0, 0, 0, 1, 1, 0, 1, 0, 0, 1, 1, 1, 0, 0, 1, 1, 1, 1, 0, 1]\n"
     ]
    },
    {
     "data": {
      "text/plain": [
       "[75.0,\n",
       " 20.0,\n",
       " 75.0,\n",
       " 75.0,\n",
       " 75.0,\n",
       " 20.0,\n",
       " 20.0,\n",
       " 75.0,\n",
       " 20.0,\n",
       " 75.0,\n",
       " 75.0,\n",
       " 20.0,\n",
       " 20.0,\n",
       " 20.0,\n",
       " 75.0,\n",
       " 75.0,\n",
       " 20.0,\n",
       " 20.0,\n",
       " 20.0,\n",
       " 20.0,\n",
       " 75.0,\n",
       " 20.0]"
      ]
     },
     "execution_count": 76,
     "metadata": {},
     "output_type": "execute_result"
    }
   ],
   "source": [
    "def print_satisfaction(cells, neigh, threshold):\n",
    "    graph=[]\n",
    "    for e in cells:\n",
    "        if is_happy(cells,e,neigh, threshold):\n",
    "            graph.append(\"oui\")\n",
    "        else:\n",
    "            graph.append(\"non\")\n",
    "    return graph\n",
    "            \n",
    "    \n",
    "    \n",
    "    \n",
    "def print_pourcent(cells, neigh, threshold):\n",
    "    return [satisfaction_ratio (cells,e,neigh) for e in cells]\n",
    "\n",
    "\n",
    "print(cells)\n",
    "print_pourcent(cells, neigh, threshold)"
   ]
  },
  {
   "cell_type": "markdown",
   "metadata": {},
   "source": [
    "**Question 5 :** Implémenter la fonction ```relocation``` **retirant** un individu à la position ```c``` et l'**insérant** juste avant la position```d``` (avec $0\\leq d \\leq n$). **Cette fonction doit retourner une copie du monde**."
   ]
  },
  {
   "cell_type": "code",
   "execution_count": 77,
   "metadata": {},
   "outputs": [
    {
     "name": "stdout",
     "output_type": "stream",
     "text": [
      "[0, 0, 1, 0, 0, 1, 1, 0, 1, 0, 0, 1, 1, 1, 0, 0, 1, 1, 1, 1, 0, 1]\n"
     ]
    }
   ],
   "source": [
    "def relocation(cells,c,d):\n",
    "    if d>c:\n",
    "        return [cells[e] for e in range (0,c)] + [cells[e]for e in range (c+1,d)] + [cells[c]] + [cells[e] for e in range (d,len(cells))]\n",
    "    else:\n",
    "        return [cells[e] for e in range (0,d)] + [cells[c]] + [cells [e]for e in range (d,c)] + [cells [e]for e in range (c+1, len(cells))]\n",
    "\n",
    "print (relocation (cells, 1, 3))"
   ]
  },
  {
   "cell_type": "markdown",
   "metadata": {},
   "source": [
    "**Question 6 :** Implémenter la fonction ```nearest_satisfying``` qui, pour un individu insatisfait, retourne la position satisfaisante la plus proche (en cas d'égalité : préférer la position satisfaisante de droite).  \n",
    "*Indice :* Pour savoir si une position est satisfaisante nous pouvons essayer d'insérer l'individu et lui demander s'il est satisfait de son nouveau voisinnage."
   ]
  },
  {
   "cell_type": "code",
   "execution_count": 78,
   "metadata": {},
   "outputs": [
    {
     "name": "stdout",
     "output_type": "stream",
     "text": [
      "[0, 1, 0, 0, 0, 1, 1, 0, 1, 0, 0, 1, 1, 1, 0, 0, 1, 1, 1, 1, 0, 1]\n",
      "8\n",
      "13\n"
     ]
    }
   ],
   "source": [
    "def nearest_satistfaying (cells,c, neigh,threshold):\n",
    "    if not is_happy(cells,c, neigh,threshold):\n",
    "        i=c+2\n",
    "        j=c-1\n",
    "        while i<=len(cells)-neigh:\n",
    "            if is_happy (relocation(cells,c,i), i-1, neigh, threshold):\n",
    "                break\n",
    "            i+=1\n",
    "        while j>neigh:\n",
    "            if is_happy (relocation(cells,c,j), j, neigh, threshold):\n",
    "                break\n",
    "            j-=1\n",
    "            \n",
    "        if j<=neigh and i>len(cells)-neigh:\n",
    "            return c\n",
    "        if i>len(cells)-neigh:\n",
    "            return j\n",
    "        if j<=neigh:\n",
    "            return i\n",
    "        \n",
    "        if c-j<i-c:\n",
    "            return j\n",
    "        else:\n",
    "            return i\n",
    "        \n",
    "    else:\n",
    "        return c\n",
    "\n",
    "    \n",
    "print (cells)\n",
    "print (nearest_satistfaying (cells,1, neigh,threshold))\n",
    "print (nearest_satistfaying (cells,20,neigh, threshold))"
   ]
  },
  {
   "cell_type": "markdown",
   "metadata": {},
   "source": [
    "### Dynamique\n",
    "\n",
    "La dynamique consiste à répéter les déplacements. Schelling suggère de considérer les individus un par un, en partant de la gauche, et de les faire se déplacer s'ils le peuvent. Un *tour* est terminé lorsque tous les individus ont été considérés, et on peut répéter ainsi les tours. Mais quand s'arrêter avec cette dynamique ? \n",
    "\n",
    "Nous considérons différents critères de convergence :\n",
    "* Lorsque tous les individus sont satisfaits. Cependant, rien ne garantit que le système puisse parvenir à un état où tous les individus sont satisfaits (cela peut arriver mais c'est plutôt exceptionnel). \n",
    "* Lorsque plus aucun individu ne peut se déplacer. Ce critère est plus pertinent, mais il cache une difficulté: le système ne parvient pas non plus nécessairement dans un état où plus aucun individu ne peut se déplacer. Ce critère seul peut donc mener à des boucles infinies.\n",
    "* Nous emploierons donc un garde-fou, qui consistera à poser un nombre maximal d'itérations. Si le système n'est pas stabilisé, selon le critère précédent, après ce nombre d'itérations : la dynamique s'arrête. "
   ]
  },
  {
   "cell_type": "markdown",
   "metadata": {},
   "source": [
    "**Question 7**: Implémenter la fonction ```schelling``` qui effectue un *tour* du modèle de schelling. Vérifier l'exactitude de cette fonction sur des exemples de votre choix (papier et stylo utiles). "
   ]
  },
  {
   "cell_type": "code",
   "execution_count": 79,
   "metadata": {},
   "outputs": [
    {
     "name": "stdout",
     "output_type": "stream",
     "text": [
      "[0, 1, 0, 0, 0, 1, 1, 0, 1, 0, 0, 1, 1, 1, 0, 0, 1, 1, 1, 1, 0, 1] \n",
      "\n",
      "[0, 0, 0, 0, 1, 0, 0, 1, 1, 1, 0, 1, 1, 1, 0, 0, 1, 1, 1, 1, 0, 1] \n",
      "\n",
      "[0, 0, 0, 0, 0, 0, 0, 1, 1, 1, 1, 1, 1, 1, 0, 0, 1, 1, 1, 1, 0, 1]\n",
      "[0, 0, 0, 0, 0, 0, 0, 0, 0, 1, 1, 1, 1, 1, 1, 1, 0, 1, 1, 1, 1, 1]\n",
      "[0, 0, 0, 0, 0, 0, 0, 0, 0, 0, 1, 1, 1, 1, 1, 1, 1, 1, 1, 1, 1, 1]\n"
     ]
    }
   ],
   "source": [
    "def schelling(cells,neigh,threshold):   \n",
    "    l=cells.copy()\n",
    "    deja = set()\n",
    "    i=0\n",
    "    while i<len(cells):\n",
    "        if not is_happy (l,i,neigh,threshold):\n",
    "            nouv=nearest_satistfaying(l,i, neigh, threshold)\n",
    "            if nouv not in deja:\n",
    "                for e in deja:\n",
    "                    if e>max(nouv,i):\n",
    "                        e+=1   ###\n",
    "                deja.add(nouv-1)\n",
    "                l=relocation (l, i, nouv)\n",
    "                if nouv<i:\n",
    "                    i+=1\n",
    "        i+=1\n",
    "    return l\n",
    "\n",
    "print (cells,\"\\n\")\n",
    "print (schelling(cells,neigh,threshold),\"\\n\")\n",
    "print (schelling(schelling(cells,neigh,threshold),neigh,threshold))\n",
    "print (schelling(schelling(schelling(cells,neigh,threshold),neigh,threshold),neigh, threshold))\n",
    "print (schelling(schelling(schelling(schelling(cells,neigh,threshold),neigh,threshold),neigh,threshold),neigh, threshold))"
   ]
  },
  {
   "cell_type": "markdown",
   "metadata": {},
   "source": [
    "**Question 8 :** Implementer la fonction finale du modèle de schelling ```linear_schelling``` prenant en compte tous les paramètres du modèle (taille du voisinnage ```neigh```, seuil de satisfaction ```threshold```, nombre d'itérations ```max_iter```)."
   ]
  },
  {
   "cell_type": "code",
   "execution_count": 80,
   "metadata": {},
   "outputs": [
    {
     "name": "stdout",
     "output_type": "stream",
     "text": [
      "[0, 1, 0, 0, 0, 1, 1, 0, 1, 0, 0, 1, 1, 1, 0, 0, 1, 1, 1, 1, 0, 1]\n",
      "[0, 0, 0, 0, 1, 0, 0, 1, 1, 1, 0, 1, 1, 1, 0, 0, 1, 1, 1, 1, 0, 1]\n",
      "[0, 0, 0, 0, 0, 0, 0, 0, 0, 0, 1, 1, 1, 1, 1, 1, 1, 1, 1, 1, 1, 1]\n",
      "[0, 0, 0, 0, 0, 0, 0, 0, 0, 0, 1, 1, 1, 1, 1, 1, 1, 1, 1, 1, 1, 1]\n",
      "[0, 0, 0, 0, 0, 0, 0, 0, 0, 0, 1, 1, 1, 1, 1, 1, 1, 1, 1, 1, 1, 1]\n"
     ]
    }
   ],
   "source": [
    "def linear_shelling (cells, neigh, threshold, max_iter):\n",
    "    sch=cells.copy()\n",
    "    for e in range (0,max_iter):\n",
    "        sch=schelling(sch, neigh, threshold)\n",
    "    return sch\n",
    "    \n",
    "print (cells)\n",
    "print (linear_shelling (cells, neigh, threshold, 1))\n",
    "print (linear_shelling (cells, neigh, threshold, 5))\n",
    "print (linear_shelling (cells, neigh, threshold, 10))\n",
    "print (linear_shelling (cells, neigh, threshold, 20))    "
   ]
  },
  {
   "cell_type": "markdown",
   "metadata": {},
   "source": [
    "Normalement, à ce stade, nous avons réussi à implémenter le modèle de Schelling sur un monde linéaire. Nous allons, maintenant, essayer de déterminer l'impact des paramètres sur la dynamique de notre *monde*. Pour se faire nous allons avoir besoin de mondes plus grands et d'un nombre de types d'individu plus grand que 2."
   ]
  },
  {
   "cell_type": "markdown",
   "metadata": {},
   "source": [
    "**Question 9** : Proposer une méthode pour générer des mondes linéaires de manière automatique et aléatoire (refléchir aux paramètres de cette méthode). Implémenter cette méthode dans la fonction ```generate_linear_world```.  \n",
    "*Indice*: on peut s'intéresser à la fonction ```random.choice``` du package ```numpy```. "
   ]
  },
  {
   "cell_type": "code",
   "execution_count": 81,
   "metadata": {},
   "outputs": [
    {
     "name": "stdout",
     "output_type": "stream",
     "text": [
      "[1, 0, 2, 1, 1, 0]\n",
      "[1, 2, 1, 2, 1, 2]\n",
      "[0, 2, 0, 1, 2, 0]\n"
     ]
    }
   ],
   "source": [
    "def generate_linear_world (divers,nb_indiv):\n",
    "    \"\"\"divers>=2\"\"\"\n",
    "    world=[e for e in range (0,divers)]\n",
    "    return [random.choice(world) for e in range (0,nb_indiv)]\n",
    "\n",
    "\n",
    "print (generate_linear_world(3,6))\n",
    "print (generate_linear_world(3,6))\n",
    "print (generate_linear_world(3,6))"
   ]
  },
  {
   "cell_type": "markdown",
   "metadata": {},
   "source": [
    "La fonction ```plot_world``` permet d'afficher notre monde de manière un peu plus élégante:"
   ]
  },
  {
   "cell_type": "code",
   "execution_count": 82,
   "metadata": {},
   "outputs": [
    {
     "data": {
      "image/png": "[encoded data removed]",
      "text/plain": [
       "<Figure size 1080x864 with 1 Axes>"
      ]
     },
     "metadata": {},
     "output_type": "display_data"
    }
   ],
   "source": [
    "def plot_world(world):\n",
    "    if type(world) == list:\n",
    "        A = np.array([world])\n",
    "    else:\n",
    "        A = world\n",
    "    plt.figure(figsize=(15,12)) # (30,30) = Taille de la figure\n",
    "    plt.imshow(A,cmap='viridis')\n",
    "    plt.tick_params(top=False, bottom=False, right=False, left=False, labelleft=False, labelbottom=False)\n",
    "    plt.show()\n",
    "plot_world(cells)    "
   ]
  },
  {
   "cell_type": "markdown",
   "metadata": {},
   "source": [
    "**Question 10** : Implémenter les métriques suivantes (une métrique = une fonction) :\n",
    "- ```happiness_rate``` le ratio d’individus satisfaits,\n",
    "- ```mean_size_communities``` la taille (moyenne) des regroupements homogènes observés,\n",
    "- ```nb_communities``` le nombre de regroupements homogènes,\n",
    "- ```mean_same_type``` la moyenne sur tous les individus du ratio de voisins du même type qu’eux,\n",
    "- ```nb_iter_to_stability``` le nombre de tours nécessaires pour arriver à un état stable."
   ]
  },
  {
   "cell_type": "code",
   "execution_count": 83,
   "metadata": {},
   "outputs": [
    {
     "name": "stdout",
     "output_type": "stream",
     "text": [
      "cells: [0, 1, 0, 0, 0, 1, 1, 0, 1, 0, 0, 1, 1, 1, 0, 0, 1, 1, 1, 1, 0, 1]\n",
      "\n",
      " happiness_rate: 0.5909090909090909 0.45454545454545453\n",
      "\n",
      " mean_size_communities: 1.6923076923076923 1.8333333333333333\n",
      "\n",
      " mean_same_type 3.727272727272727\n",
      "\n",
      " nb_iter_to_stability: 4\n"
     ]
    }
   ],
   "source": [
    "print (\"cells:\", cells)\n",
    "\n",
    "\n",
    "def happiness_rate (cells, neigh, threshold):\n",
    "    sat=0\n",
    "    for e in range (0, len(cells)):\n",
    "        if is_happy (cells, e, neigh, threshold):\n",
    "            sat+=1\n",
    "    return sat/len(cells)\n",
    "\n",
    "print (\"\\n happiness_rate:\", happiness_rate (cells, neigh,threshold), 10/22)\n",
    "\n",
    "\n",
    "\n",
    "\n",
    "\n",
    "\n",
    "def mean_size_communities (cells):   #FAUT-IL COMPTER LES COMMUNAUTES DE UN INDIVIDU ? (ici elles sont comptées)\n",
    "    div=1\n",
    "    for e in range (0,len(cells)):\n",
    "        if cells[e]!=cells[e-1]:\n",
    "             div+=1\n",
    "\n",
    "    return len(cells)/div\n",
    "\n",
    "print (\"\\n mean_size_communities:\", mean_size_communities(cells), (1+1+3+2+1+1+2+3+2+4+1+1)/12)\n",
    "\n",
    "\n",
    "\n",
    "\n",
    "\n",
    "\n",
    "def nb_communities(cells):       \n",
    "    nb=0\n",
    "    for e in range (0,cells):\n",
    "        if cells [e] != cells[e-1]:\n",
    "            nb+=1\n",
    "        return nb\n",
    "\n",
    "    \n",
    "    \n",
    "    \n",
    "\n",
    "def mean_same_type (cells, neigh):\n",
    "    tot=0\n",
    "    for e in range (0,len(cells)):\n",
    "        for f in range (max(0,e-neigh), min(len(cells),e+neigh)):\n",
    "            if cells[e]==cells[f]:\n",
    "                tot+=1\n",
    "    return tot/len(cells)\n",
    "\n",
    "print (\"\\n mean_same_type\", mean_same_type(cells,neigh))\n",
    "\n",
    "\n",
    "\n",
    "\n",
    "\n",
    "def nb_iter_to_stability (cells, neigh, threshold):  #problème quand on répète le programme 2 fois:\n",
    "    l=cells.copy()                                   # renvoie 2 au lieu de 4, pourtant cells n'est pas modifié en mémoire\n",
    "    #print (\"l\",l)\n",
    "    n=0\n",
    "    while schelling(l, neigh, threshold) != l:\n",
    "        n+=1\n",
    "        if n==100:\n",
    "            return 100\n",
    "        l= schelling(l, neigh, threshold)\n",
    "    return n\n",
    "\n",
    "\n",
    "print (\"\\n nb_iter_to_stability:\", nb_iter_to_stability(cells,neigh, threshold))"
   ]
  },
  {
   "cell_type": "markdown",
   "metadata": {},
   "source": [
    "**Question 11 :** Faire varier les paramètres du modèle et observer l'évolution des différentes métriques. Tracer les courbes correspondantes, si elles sont judicieuses, en utilisant matplotlib ; puis décrire les phénomènes observés (pas plus de 3 courbes, un paragraphe par phénomène observé).\n",
    "\n",
    "*Indices :* Tracer l'évolution du taux de satisfaction au fil des tours. Faire évoluer le seuil de satisfaction par pas de 0.1 de 0 à 1. Etudier la taille des regroupements homogènes en fonction de ce seuil. Nombre de tours nécessaires pour arriver à un état stable en fonction de la taille du monde. "
   ]
  },
  {
   "cell_type": "code",
   "execution_count": 84,
   "metadata": {},
   "outputs": [
    {
     "name": "stdout",
     "output_type": "stream",
     "text": [
      "Avec 2 types d'individus:\n",
      "\t Pour un \u001b[92m seuil de tolérance de\u001b[00m \u001b[92m 0.1\u001b[00m :\n",
      "\t \t Il faut en moyenne \u001b[91m 0.22\u001b[00m \u001b[91m tours\u001b[00m  pour obtenir la stabilité.\n",
      "\t Pour un \u001b[92m seuil de tolérance de\u001b[00m \u001b[92m 0.2\u001b[00m :\n",
      "\t \t Il faut en moyenne \u001b[91m 0.648\u001b[00m \u001b[91m tours\u001b[00m  pour obtenir la stabilité.\n",
      "\t Pour un \u001b[92m seuil de tolérance de\u001b[00m \u001b[92m 0.3\u001b[00m :\n",
      "\t \t Il faut en moyenne \u001b[91m 1.884\u001b[00m \u001b[91m tours\u001b[00m  pour obtenir la stabilité.\n",
      "\t Pour un \u001b[92m seuil de tolérance de\u001b[00m \u001b[92m 0.4\u001b[00m :\n",
      "\t \t Il faut en moyenne \u001b[91m 3.152\u001b[00m \u001b[91m tours\u001b[00m  pour obtenir la stabilité.\n",
      "\t Pour un \u001b[92m seuil de tolérance de\u001b[00m \u001b[92m 0.5\u001b[00m :\n",
      "\t \t Il faut en moyenne \u001b[91m 3.6\u001b[00m \u001b[91m tours\u001b[00m  pour obtenir la stabilité.\n",
      "\t Pour un \u001b[92m seuil de tolérance de\u001b[00m \u001b[92m 0.6\u001b[00m :\n",
      "\t \t Il faut en moyenne \u001b[91m 2.492\u001b[00m \u001b[91m tours\u001b[00m  pour obtenir la stabilité.\n",
      "\t Pour un \u001b[92m seuil de tolérance de\u001b[00m \u001b[92m 0.7\u001b[00m :\n",
      "\t \t Il faut en moyenne \u001b[91m 2.408\u001b[00m \u001b[91m tours\u001b[00m  pour obtenir la stabilité.\n",
      "\t Pour un \u001b[92m seuil de tolérance de\u001b[00m \u001b[92m 0.8\u001b[00m :\n",
      "\t \t Il faut en moyenne \u001b[91m 0.776\u001b[00m \u001b[91m tours\u001b[00m  pour obtenir la stabilité.\n",
      "\t Pour un \u001b[92m seuil de tolérance de\u001b[00m \u001b[92m 0.9\u001b[00m :\n",
      "\t \t Il faut en moyenne \u001b[91m 0.128\u001b[00m \u001b[91m tours\u001b[00m  pour obtenir la stabilité.\n",
      "Avec 3 types d'individus:\n",
      "\t Pour un \u001b[92m seuil de tolérance de\u001b[00m \u001b[92m 0.1\u001b[00m :\n",
      "\t \t Il faut en moyenne \u001b[91m 0.912\u001b[00m \u001b[91m tours\u001b[00m  pour obtenir la stabilité.\n",
      "\t Pour un \u001b[92m seuil de tolérance de\u001b[00m \u001b[92m 0.2\u001b[00m :\n",
      "\t \t Il faut en moyenne \u001b[91m 3.276\u001b[00m \u001b[91m tours\u001b[00m  pour obtenir la stabilité.\n",
      "\t Pour un \u001b[92m seuil de tolérance de\u001b[00m \u001b[92m 0.3\u001b[00m :\n",
      "\t \t Il faut en moyenne \u001b[91m 6.376\u001b[00m \u001b[91m tours\u001b[00m  pour obtenir la stabilité.\n",
      "\t Pour un \u001b[92m seuil de tolérance de\u001b[00m \u001b[92m 0.4\u001b[00m :\n",
      "\t \t Il faut en moyenne \u001b[91m 2.464\u001b[00m \u001b[91m tours\u001b[00m  pour obtenir la stabilité.\n",
      "\t Pour un \u001b[92m seuil de tolérance de\u001b[00m \u001b[92m 0.5\u001b[00m :\n",
      "\t \t Il faut en moyenne \u001b[91m 2.312\u001b[00m \u001b[91m tours\u001b[00m  pour obtenir la stabilité.\n",
      "\t Pour un \u001b[92m seuil de tolérance de\u001b[00m \u001b[92m 0.6\u001b[00m :\n",
      "\t \t Il faut en moyenne \u001b[91m 1.68\u001b[00m \u001b[91m tours\u001b[00m  pour obtenir la stabilité.\n",
      "\t Pour un \u001b[92m seuil de tolérance de\u001b[00m \u001b[92m 0.7\u001b[00m :\n",
      "\t \t Il faut en moyenne \u001b[91m 0.496\u001b[00m \u001b[91m tours\u001b[00m  pour obtenir la stabilité.\n",
      "\t Pour un \u001b[92m seuil de tolérance de\u001b[00m \u001b[92m 0.8\u001b[00m :\n",
      "\t \t Il faut en moyenne \u001b[91m 0.136\u001b[00m \u001b[91m tours\u001b[00m  pour obtenir la stabilité.\n",
      "\t Pour un \u001b[92m seuil de tolérance de\u001b[00m \u001b[92m 0.9\u001b[00m :\n",
      "\t \t Il faut en moyenne \u001b[91m 0.036\u001b[00m \u001b[91m tours\u001b[00m  pour obtenir la stabilité.\n"
     ]
    },
    {
     "data": {
      "text/plain": [
       "\"On remarque que c'est pour un seuil de tolérence moyen (autour de 0.5) que la population met le plus de temps à se stabiliser\""
      ]
     },
     "execution_count": 84,
     "metadata": {},
     "output_type": "execute_result"
    }
   ],
   "source": [
    "#LA DEUXIEME FONCTION EST CELLE QUI NOUS INTERSSE LE PLUS, MAIS LA PREMIER PEUT ETRE UTILE POUR TRAVAILLER SUR MEME ET UNIQUE MONDE\n",
    "\n",
    "def evo_schelling_fixe(cells, neigh, threshold):\n",
    "    l=cells.copy()                                  \n",
    "    n=0\n",
    "    while schelling(l, neigh, threshold) != l:\n",
    "        print(n, \"\\t taux_satisfaits:\", happiness_rate (l, neigh, threshold),\"; \\t taille_communautées:\", mean_size_communities(l))\n",
    "        n+=1\n",
    "        if n==10:\n",
    "            return 0\n",
    "        l= schelling(l, neigh, threshold)\n",
    "    print (n, \"\\t taux_satisfaits:\", happiness_rate (l, neigh, threshold),\"; \\t taille_communautées:\", mean_size_communities(l))\n",
    "    return 0\n",
    "\n",
    "\n",
    "#evo_schelling (cells, neigh, threshold)\n",
    "#print(\"\\n Avec un type supplémentaire d'individus:\")\n",
    "#evo_schelling ([0, 1, 2, 0, 2, 1, 1, 0, 1, 0, 0, 1, 1, 1, 0, 0, 1, 1, 1, 1, 2, 2], neigh, threshold)\n",
    "#print(\"\\n Avec neigh=2:\")\n",
    "#evo_schelling (cells, 2, threshold)\n",
    "#print (\"\\n Avec neigh=6: \")\n",
    "#evo_schelling (cells, 6,threshold)\n",
    "#print (\"\\n Avec threshold=0.25:\")\n",
    "#evo_schelling (cells, neigh, 0.25)\n",
    "#print (\"\\n Avec threshold=0.75:\")\n",
    "#evo_schelling (cells, neigh, 0.75)\n",
    "\n",
    "\n",
    "\n",
    "\n",
    "\n",
    "\n",
    "\n",
    "def evo_schelling_alea(neigh, diversite_max, taille_mondes):\n",
    "    \"\"\"divesité_max>=2\"\"\"\n",
    "    for divers in range (2,diversite_max+1):\n",
    "        print (\"Avec\",divers,\"types d'individus:\")\n",
    "        for tresh in range (1,10):\n",
    "            tresh/=10\n",
    "            print (\"\\t Pour un\" ,\"\\033[92m {}\\033[00m\" .format(\"seuil de tolérance de\"), \"\\033[92m {}\\033[00m\" .format(tresh),\":\")\n",
    "            nb_iter_to_stab=0\n",
    "            for e in range (0,250):\n",
    "                nb_iter_to_stab+= nb_iter_to_stability(generate_linear_world(divers, taille_mondes),neigh, tresh)\n",
    "            print(\"\\t \\t Il faut en moyenne\",\"\\033[91m {}\\033[00m\" .format(nb_iter_to_stab/250),\"\\033[91m {}\\033[00m\" .format(\"tours\"),\" pour obtenir la stabilité.\")\n",
    "    return (\"On remarque que c'est pour un seuil de tolérence moyen (autour de 0.5) que la population met le plus de temps à se stabiliser\")\n",
    "\n",
    "evo_schelling_alea (neigh, 3, 20)"
   ]
  },
  {
   "cell_type": "markdown",
   "metadata": {},
   "source": [
    "# 2ème partie : Modèle spatial\n",
    "\n",
    "Dans cette partie le monde que nous allons considérer n'est plus constitué d'une dimension mais de deux dimensions. Si l'on pouvait assimiler le modèle \"linéaire\" à l'application du modèle de Schelling dans une rue, l'extension à une deuxième dimension permet de modéliser le modèle de Schelling à l'échelle d'une ville (pensons à une carte divisées en emplacements carrés de même taille, chaque carré représentant un immeuble ou un pâté de maisons).\n",
    "\n",
    "Un emplacement est déterminé par ses coordonnées $(X,Y)$. Par exemple, l'emplacement $(0,0)$ est situé en tout en haut à gauche et l'emplacement $(n,m)$ tout en bas à droite.\n",
    "\n",
    "L’extension du modèle linéaire au modèle spatial n’est pas triviale. En effet, si toutes les localisations sont occupées, il n’est pas si évident de définir les règles de déplacements (où se déplacent les individus « chassés » de leur localisation ?).\n",
    "\n",
    "Il est alors plus aisé d’introduire des localisations non occupées. Dans ce cas, les individus non satisfait se déplacent au hasard vers une localisation inoccupée. Contrairement au modèle linéaire, la nouvelle localisation ne satisfait pas forcément le seuil de préférence et n'est pas forcément la plus proche (ces alternatives pourront être implantées en question 5)."
   ]
  },
  {
   "cell_type": "markdown",
   "metadata": {},
   "source": [
    "# Etude du modèle spatial"
   ]
  },
  {
   "cell_type": "code",
   "execution_count": 85,
   "metadata": {},
   "outputs": [],
   "source": [
    "# Paramètres du modèle Schelling (à modifier, ne pas oublier de réexécuter la cellule)\n",
    "neigh = 1       # Taille du voisinnage\n",
    "threshold = 0.5 # Seuil de satisfaction\n",
    "max_iter = 5    # Nombre de tours\n",
    "n,m = 7,7       # Taille du monde (n)"
   ]
  },
  {
   "cell_type": "markdown",
   "metadata": {},
   "source": [
    "**Question 1** : Implanter la fonction ```generate_spatial_world``` permettant de générer des mondes spatiaux aléatoirement (de même : s'interroger sur les paramètres nécessaires). Utiliser ```numpy.array```.  \n",
    "*Indice* : Pour un emplacement innocupé, nous pouvons créer un nouveau type."
   ]
  },
  {
   "cell_type": "code",
   "execution_count": 86,
   "metadata": {},
   "outputs": [
    {
     "data": {
      "text/plain": [
       "array([[1, 2, 0],\n",
       "       [0, 2, 1],\n",
       "       [2, 2, 2]])"
      ]
     },
     "execution_count": 86,
     "metadata": {},
     "output_type": "execute_result"
    }
   ],
   "source": [
    "def generate_spatial_world (divers,hori,vert):\n",
    "    l=[e for e in range (0,divers)]\n",
    "    return np.array([[random.choice(l) for e in range (0,hori)] for e in range (0,vert)])\n",
    "\n",
    "generate_spatial_world (3,3,3)"
   ]
  },
  {
   "cell_type": "markdown",
   "metadata": {},
   "source": [
    "**Question 2 :** Implémenter la fonction ```spatial_schelling```, permettant d'appliquer le modèle de schelling sur un monde spatial.  \n",
    "**Utiliser la [distance de Tchebychev](https://fr.wikipedia.org/wiki/Distance_de_Tchebychev)** dès qu'il est question de comparer des distances entre individus : pour les voisins nous pouvons considérer tous les emplacements dont la distance est inférieure ou égale à ```neigh```."
   ]
  },
  {
   "cell_type": "code",
   "execution_count": 87,
   "metadata": {},
   "outputs": [
    {
     "name": "stdout",
     "output_type": "stream",
     "text": [
      "1\n"
     ]
    }
   ],
   "source": [
    "sp=([[1, 2, 1,0,2,1],\n",
    "       [1, 1, 0,2,0,2],\n",
    "       [0, 1, 0,1,2,2],\n",
    "       [0, 0, 0,1,2,0],\n",
    "       [1, 2, 0,1,2,1],\n",
    "       [2, 0, 2,0,0,1]])\n",
    "\n",
    "print (sp[0][2])\n",
    "\n",
    "coord=(2,1)\n",
    "\n",
    "thresh=0.33\n",
    "\n",
    "neighsp=2"
   ]
  },
  {
   "cell_type": "code",
   "execution_count": 88,
   "metadata": {},
   "outputs": [
    {
     "name": "stdout",
     "output_type": "stream",
     "text": [
      "neighboor_spatial(coord,sp,neighsp): [2, 1, 0, 1, 1, 0, 2, 0, 1, 0, 1] \n",
      "\n",
      "is_happy_spatial (coord,sp, neighsp ,threshold): True \n",
      "\n"
     ]
    }
   ],
   "source": [
    "def neighboor_spatial (coord,sp, neigh):\n",
    "    nei=[]\n",
    "    x,y=coord\n",
    "    for e in range (0,len(sp)):\n",
    "        for f in range(0,len(sp[e])):\n",
    "            if f-x<neigh and e-y<neigh:\n",
    "                nei.append (sp[e][f])\n",
    "    nei.remove(sp[x][y])\n",
    "    return nei\n",
    "\n",
    "\n",
    "print (\"neighboor_spatial(coord,sp,neighsp):\",neighboor_spatial(coord,sp,neighsp),\"\\n\")\n",
    "\n",
    "\n",
    "\n",
    "\n",
    "\n",
    "def is_happy_spatial (coord,sp,neigh,threshold):\n",
    "    happy=0\n",
    "    x,y=coord\n",
    "    nei=neighboor_spatial(coord,sp,neigh)\n",
    "    jerome=sp[x][y]\n",
    "    for e in nei:\n",
    "        if jerome == e:\n",
    "            happy+=1\n",
    "    return happy/len(nei)>=thresh\n",
    "\n",
    "\n",
    "print (\"is_happy_spatial (coord,sp, neighsp ,threshold):\", is_happy_spatial (coord,sp,neighsp,threshold),\"\\n\")"
   ]
  },
  {
   "cell_type": "markdown",
   "metadata": {},
   "source": [
    "**Question 3 :** Adapter les métriques de la question 10 pour le modèle spatial. "
   ]
  },
  {
   "cell_type": "code",
   "execution_count": null,
   "metadata": {},
   "outputs": [],
   "source": []
  },
  {
   "cell_type": "markdown",
   "metadata": {},
   "source": [
    "**Question 4 :** Faire varier les paramètres du modèle et observer l'évolution des différentes métriques. Tracer les courbes correspondantes, si elles sont judicieuses, en utilisant matplotlib ; puis décrire les phénomènes observés (pas plus de 3 courbes, un paragraphe par phénomène observé).  "
   ]
  },
  {
   "cell_type": "markdown",
   "metadata": {},
   "source": [
    "**Question 5 (optionnelle) :** Proposer des alternatives au modèle.  "
   ]
  },
  {
   "cell_type": "markdown",
   "metadata": {},
   "source": [
    "# 3ème partie : Animation (Interface Graphique avec tkinter)"
   ]
  },
  {
   "cell_type": "code",
   "execution_count": 89,
   "metadata": {},
   "outputs": [],
   "source": [
    "import tkinter as Tk"
   ]
  }
 ],
 "metadata": {
  "anaconda-cloud": {},
  "kernelspec": {
   "display_name": "Python 3",
   "language": "python",
   "name": "python3"
  },
  "language_info": {
   "codemirror_mode": {
    "name": "ipython",
    "version": 3
   },
   "file_extension": ".py",
   "mimetype": "text/x-python",
   "name": "python",
   "nbconvert_exporter": "python",
   "pygments_lexer": "ipython3",
   "version": "3.8.5"
  }
 },
 "nbformat": 4,
 "nbformat_minor": 1
}
