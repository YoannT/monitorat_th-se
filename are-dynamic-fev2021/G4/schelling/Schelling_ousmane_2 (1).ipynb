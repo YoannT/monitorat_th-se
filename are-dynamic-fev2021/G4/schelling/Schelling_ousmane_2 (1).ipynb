{
 "cells": [
  {
   "cell_type": "markdown",
   "metadata": {},
   "source": [
    "# Le modèle de ségrégation de Schelling\n",
    "L. Rannou (basé sur S. Stinckwich)  \n",
    "*ARE DYNAMIC - 2021*"
   ]
  },
  {
   "cell_type": "markdown",
   "metadata": {},
   "source": [
    "## Préambule\n",
    "\n",
    "En Décembre 2016 disparaissait Thomas C. Schelling. Economiste, récipiendaire du Prix de la Banque de Suède en sciences économiques (communément appelé et considéré comme le prix Nobel d’économie), il a travaillé sur de nombreux sujets, en particulier l’analyse des conflits.\n",
    "\n",
    "Une de ses contributions a permis de mieux comprendre les phénomènes de ségrégation. Plus précisément, le propos de Schelling fut d’étudier la dynamique par laquelle **des phénomènes de ségrégation extrêmes** peuvent survenir, en dépit de **préférences qui peuvent sembler faiblement discriminantes individuellement**. Ainsi, même si chaque individu se déclare prêt à accepter une certaine proportion d’invidus « différents » dans son voisinage, le résultat final peut être que la population se regroupe en régions très homogènes.\n",
    "\n",
    "Cette étude peut être menée à l’aide de modèles connus sous le nom d’automates cellulaires. Un des automates les plus célèbres est le [jeu de la vie](https://fr.wikipedia.org/wiki/Jeu_de_la_vie), proposé par John Conway en 1970. Il existe de nombreux autres automates cellulaires dont le comportement est relativement bien étudié, et la littérature est riche à ce sujet. Nous recommandons la lecture de l’article [2] de Jean-Paul Delahaye.\n",
    "\n",
    "## Objectifs\n",
    "\n",
    "Dans ce notebook nous allons essayer de modéliser la répartition d'une population humaine sur une aire urbaine (un *monde*). Nous allons essayer de comprendre les différentes formes de ségration et de communautarisme pouvant avoir lieu dans les villes.\n",
    "Nous partons d'une hypothèse primordiale : **chaque individu est indépendant cependant il ne peut pas se sentir confortable dans un quartier où les habitants sont en majorité \"différents\" de lui.**\n",
    "\n",
    "Dans un premier temps nous allons modéliser cette répartition une aire urbaine simple : une rue ou une avenue (modèle linéaire).\n",
    "Puis dans un second temps nous modéliserons cette répartition à l'échelle d'une ville (modèle spatial).\n",
    "\n",
    "\n",
    "# 1ère partie : Modèle linéaire\n",
    "\n",
    "Considérons un monde *linéaire* (c’est en fait le premier modèle étudié par Schelling dans son article [1], à quelques détails près). Le modèle se compose des éléments suivants.\n",
    "\n",
    "- Les *individus* sont de deux *types* (« 0 » et « 1 »), disposés spatialement sur une ligne de taille $n$ (le *monde*).\n",
    "- Le *voisinage* d'un *individu* est constitué de ses 8 voisins de part et d'autre de sa cellule (4 à sa gauche et 4 à sa droite). Il faut noter que le nombre de voisins peut varier selon la localisation (pour les individus en bout de ligne).\n",
    "- Le *seuil de satisfaction* : un *individu* est satisfait si une majorité (faible) de ses voisins est du même *type* que lui (i.e. il veut **au moins** autant de voisins du même *type* que lui que de voisins d'un *type* différent).\n",
    "- Le *mode de déplacement* : un *individu* non satisfait va chercher à se déplacer pour trouver un emplacement qui le satisfasse (un emplacement dont le *voisinage* respecte son *seuil de satisfaction*). Dans le cas où plusieurs emplacements peuvent le satisfaire, un *individu* se déplace vers l’emplacement le plus proche. Si deux emplacements à la même distance sont satisfaisants l'emplacement de droite est privilégié.\n",
    "- La *dynamique des déplacements* : tous les individus sont considérés, de gauche à droite. Chaque individu non satisfait **s'insère** à l’emplacement satisfaisant le plus proche. Un *tour* est terminé lorsque tous les agents ont été considérés.\n",
    "\n",
    "\n",
    "À l'issu d'un *tour* des individus peuvent se retrouver à nouveau insatisfaits, dû aux déplacements de leurs voisins.\n",
    "Partant d’un état initial, le processus est répété jusqu’à équilibre, c’est-à-dire jusqu’à ce que plus aucun individu insatisfait ne puisse se déplacer, ou qu’une situation de blocage soit détectée. Cela peut nécessiter plusieurs *tours*.\n",
    "\n",
    "### Example\n",
    "\n",
    "Pour illustrer le propos, considérons la situation initiale suivante :\n",
    "\n",
    "![Linear Model 1](linearmodel1.png)\n",
    "\n",
    "Les individus non satisfaits sont indiqués en gris dans la table. Le premier individu à se déplacer sera donc le deuxième en partant de la gauche. En effet, son voisinage ne comprend qu’un autre individu de type \"1\" (et 4 de type \"0\"). Pour trouver une place satisfaisante, il va devoir se déplacer de 6 cases vers la droite (l'emplacement satisfaisant le plus proche).\n",
    "\n",
    "Le nouvel état du monde sera alors (l’individu s’étant déplacé est en gras):\n",
    "\n",
    "![Linear Model 2](linearmodel2.png)\n",
    "\n",
    "\n",
    "### Références\n",
    "- [1] Thomas C. Schelling, [Dynamic Models of Segregation](http://www.stat.berkeley.edu/~aldous/157/Papers/Schelling_Seg_Models.pdf), Journal of Mathematical Sociology (1971) 143-186\n",
    "- [2] J.-P. Delahaye, [Le royaume du jeu de la vie](http://www.lifl.fr/~jdelahay/dnalor/Jeudelavie.pdf), Pour la Science (2009) 378"
   ]
  },
  {
   "cell_type": "markdown",
   "metadata": {},
   "source": [
    "#  Etude du modèle \"linéaire\"\n",
    "\n",
    "**Objectifs : implémenter le modèle de Schelling en python, le tester sur un exemple simple puis étudier l'impact que peuvent avoir les paramètres du modèle sur le monde.**\n",
    "\n",
    "Nous allons étudier l’impact des paramètres du modèle : \n",
    "- la taille du voisinage,\n",
    "- le seuil de satisfaction des individus,\n",
    "- la configuration initiale,\n",
    "- les règles de mouvement (le mode de déplacement).\n",
    "\n",
    "Pour quantifier l'impact de ces paramètres, en plus de l'observation visuelle de l'évolution de notre monde, nous utiliserons les métriques suivantes : \n",
    "- le nombre d’individus satisfaits à l’équilibre,\n",
    "- la taille (moyenne) des regroupements homogènes observés et leur nombre,\n",
    "- la moyenne sur tous les individus de voisins du même type qu’eux,\n",
    "- le nombre de tours nécessaires pour arriver à un état stable."
   ]
  },
  {
   "cell_type": "code",
   "execution_count": 105,
   "metadata": {},
   "outputs": [],
   "source": [
    "import numpy as np\n",
    "import random\n",
    "\n",
    "from matplotlib import pyplot as plt"
   ]
  },
  {
   "cell_type": "code",
   "execution_count": 106,
   "metadata": {},
   "outputs": [],
   "source": [
    "# Paramètres du modèle Schelling (à modifier, ne pas oublier de réexécuter la cellule)\n",
    "neigh = 4          # Taille du voisinnage (d'un côté, pour avoir le total faire *2)\n",
    "threshold = 0.5    # Seuil de satisfaction\n",
    "max_iter = 5        # Nombre de tours\n",
    "size = 22           # Taille du monde (n)"
   ]
  },
  {
   "cell_type": "markdown",
   "metadata": {},
   "source": [
    "Notre monde est représenté par d'une liste de 0 et de 1. Par exemple :"
   ]
  },
  {
   "cell_type": "code",
   "execution_count": 107,
   "metadata": {},
   "outputs": [],
   "source": [
    "cells11 = [0, 1, 0, 0, 0, 1, 1, 0, 1, 0, 0, 1, 1, 1, 0, 0, 1, 1, 1, 1, 0, 1]\n",
    "neigh11 = 4 #voisinage qui sera utilisé pour nos fonctions\n",
    "threshold11 = 0.5 #seuil de satisfaction qui sera utilisé pour nos fonctions"
   ]
  },
  {
   "cell_type": "code",
   "execution_count": 108,
   "metadata": {},
   "outputs": [],
   "source": [
    "assert len(cells11) == size"
   ]
  },
  {
   "cell_type": "markdown",
   "metadata": {},
   "source": [
    "Nous pouvons considérer que ce monde représente une rue, la population de chaque maison étant de type \"0\" ou \"1\". "
   ]
  },
  {
   "cell_type": "markdown",
   "metadata": {},
   "source": [
    "La fonction ```print_world``` convertit un monde en une chaîne de caractères pour l'afficher à l'écran."
   ]
  },
  {
   "cell_type": "code",
   "execution_count": 109,
   "metadata": {},
   "outputs": [],
   "source": [
    "def print_world(cells):\n",
    "    '''\n",
    "    '''\n",
    "    # Signature à compléter\n",
    "    result = \"|\"\n",
    "    for i in cells:\n",
    "        result += str(i)+\"|\"\n",
    "    return result"
   ]
  },
  {
   "cell_type": "code",
   "execution_count": 110,
   "metadata": {},
   "outputs": [
    {
     "data": {
      "text/plain": [
       "'|0|1|0|0|0|1|1|0|1|0|0|1|1|1|0|0|1|1|1|1|0|1|'"
      ]
     },
     "execution_count": 110,
     "metadata": {},
     "output_type": "execute_result"
    }
   ],
   "source": [
    "print_world(cells11)"
   ]
  },
  {
   "cell_type": "markdown",
   "metadata": {},
   "source": [
    "**Question 1** : Implémenter la fonction ```neighborhood``` qui prend comme paramètres un monde ```cells```, la position ```c``` d'un individu dans le monde et la taille du voisinnage ```neigh``` et retourne une liste contenant le type des voisins d'un individu (**attention aux bords du monde**)."
   ]
  },
  {
   "cell_type": "code",
   "execution_count": 111,
   "metadata": {},
   "outputs": [
    {
     "data": {
      "text/plain": [
       "[1, 0, 0, 0, 1, 0, 1, 0]"
      ]
     },
     "execution_count": 111,
     "metadata": {},
     "output_type": "execute_result"
    }
   ],
   "source": [
    "def neighborhood(cells,neigh,c):\n",
    "    l = []\n",
    "    for i in range(max(0, c - neigh), min(len(cells), c + neigh+1)):\n",
    "        if (i!= c):\n",
    "            l.append(cells[i])\n",
    "\n",
    "    return l\n",
    "\n",
    "neighborhood(cells11,neigh11,5)"
   ]
  },
  {
   "cell_type": "markdown",
   "metadata": {},
   "source": [
    "**Question 2 :** Implémenter la fonction ```satisfaction_ratio```, prenant comme paramètres un monde ```cells```, la position ```c``` d'un individu dans le monde et la taille du voisinnage ```neigh```, retourne le niveau de satisfaction d'un individu (le pourcentage de ses voisins étant du même type)."
   ]
  },
  {
   "cell_type": "code",
   "execution_count": 112,
   "metadata": {},
   "outputs": [
    {
     "data": {
      "text/plain": [
       "0.375"
      ]
     },
     "execution_count": 112,
     "metadata": {},
     "output_type": "execute_result"
    }
   ],
   "source": [
    "#Question 2 :\n",
    "\n",
    "def satisfaction(cells, neigh, c):\n",
    "    \"\"\"\n",
    "cells: monde ouvert\n",
    "neigh : taille du voisinage\n",
    "c : position de l'individu  (en indice Python! Donc le premier élément de cells a pour indice 0, le 2e ->1 ,le 3e ->2...)\n",
    "c retourne le niveau de satisfaction de c\n",
    "    \"\"\"\n",
    "    good =cells[c]\n",
    "    vois = neighborhood(cells,neigh,c)\n",
    "    itgood=0\n",
    "    for i in vois:\n",
    "        if i == good:\n",
    "            itgood=itgood+1\n",
    "    return (itgood/len(vois))\n",
    "  \n",
    "satisfaction(cells11,neigh11,5)"
   ]
  },
  {
   "cell_type": "markdown",
   "metadata": {},
   "source": [
    "**Question 3** :  Implémenter la fonction ```is_happy```, prenant comme paramètres un monde ```cells```, la position ```c``` d'un individu dans le monde, la taille du voisinnage ```neigh``` et ```threshold``` son seuil de satisfaction, retourne un booléen indiquant si l'individu à la position ```c``` est satisfait."
   ]
  },
  {
   "cell_type": "code",
   "execution_count": 113,
   "metadata": {},
   "outputs": [
    {
     "data": {
      "text/plain": [
       "False"
      ]
     },
     "execution_count": 113,
     "metadata": {},
     "output_type": "execute_result"
    }
   ],
   "source": [
    "#Question 3:\n",
    "\n",
    "def ishappy(cells,neigh,c, threshold):\n",
    "    \"\"\"\n",
    "cells: monde étudié\n",
    "neigh : taille du voisinage\n",
    "c : position de l'individu  (en indice Python! Donc le premier élément de cells a pour indice 0, le 2e ->1 ,le 3e ->2...)\n",
    "threshold: seuil de satisfaction\n",
    "décide si l'individu à c est satisfait\n",
    "    \"\"\"\n",
    "    return satisfaction(cells,neigh,c) >= threshold\n",
    "\n",
    "ishappy(cells11,neigh11,6,threshold11)"
   ]
  },
  {
   "cell_type": "markdown",
   "metadata": {},
   "source": [
    "**Question 4 :** En s'inspirant de la fonction ```print_world```, implémenter la fonction ```print_satisfaction``` une réprésentation graphique de la statisfaction des individus du monde ```cells```."
   ]
  },
  {
   "cell_type": "code",
   "execution_count": 114,
   "metadata": {},
   "outputs": [
    {
     "data": {
      "text/plain": [
       "'|😃|☹️|😃|😃|😃|☹️|☹️|😃|😃|☹️|☹️|☹️|😃|😃|☹️|☹️|😃|😃|😃|😃|☹️|😃|'"
      ]
     },
     "execution_count": 114,
     "metadata": {},
     "output_type": "execute_result"
    }
   ],
   "source": [
    "def print_satisfaction(cells,neigh,threshold):\n",
    "    \"\"\"\n",
    "cells: monde étudié\n",
    "retourne la satisfaction des individus de cells\n",
    "    \"\"\"\n",
    "    n=neigh\n",
    "    cell=cells\n",
    "    \n",
    "    result = \"|\"\n",
    "    for i in range(len(cells)):\n",
    "        b = ishappy(cells,neigh,i,threshold)\n",
    "        if b:\n",
    "            result += \"😃\"+\"|\"\n",
    "        else :\n",
    "            result += \"☹️\" +\"|\"\n",
    "            \n",
    "    return result\n",
    "\n",
    "\n",
    "print_satisfaction(cells11,neigh11,threshold11)"
   ]
  },
  {
   "cell_type": "markdown",
   "metadata": {},
   "source": [
    "**Question 5 :** Implémenter la fonction ```relocation``` **retirant** un individu à la position ```c``` et l'**insérant** juste avant la position```d``` (avec $0\\leq d \\leq n$). **Cette fonction doit retourner une copie du monde**."
   ]
  },
  {
   "cell_type": "code",
   "execution_count": 115,
   "metadata": {},
   "outputs": [
    {
     "data": {
      "text/plain": [
       "[0, 1, 0, 0, 0, 1, 1, 0, 1, 0, 0, 1, 1, 1, 0, 0, 1, 1, 1, 1, 0, 1]"
      ]
     },
     "execution_count": 115,
     "metadata": {},
     "output_type": "execute_result"
    }
   ],
   "source": [
    "def relocation(cells,c,d):\n",
    "    \"\"\"\n",
    "cells : monde étudié\n",
    "c : position de l'individu\n",
    "\n",
    "d : position de référence pour la nouvelle position de l'individu \n",
    "(ici on place notre individu à la position d-1)\n",
    "on a 0 <= d <= n\n",
    "    \"\"\"\n",
    "    #Il faut copier la liste avant de la modifier :\n",
    "    newcells = cells.copy()\n",
    "    \n",
    "    #l.pop(c) retire l'élément à la position c et le renvoie (ici dans i)\n",
    "    i=newcells.pop(c)\n",
    "    \n",
    "    #l.insert(d, c) insère l'élément c à la position d\n",
    "    newcells.insert(d,i)\n",
    "    return newcells\n",
    "\n",
    "cells11\n",
    "    "
   ]
  },
  {
   "cell_type": "code",
   "execution_count": 116,
   "metadata": {},
   "outputs": [
    {
     "data": {
      "text/plain": [
       "[0, 1, 1, 0, 0, 0, 1, 0, 1, 0, 0, 1, 1, 1, 0, 0, 1, 1, 1, 1, 0, 1]"
      ]
     },
     "execution_count": 116,
     "metadata": {},
     "output_type": "execute_result"
    }
   ],
   "source": [
    "relocation(cells11,6,2)"
   ]
  },
  {
   "cell_type": "markdown",
   "metadata": {},
   "source": [
    "**Question 6 :** Implémenter la fonction ```nearest_satisfying``` qui, pour un individu insatisfait, retourne la position satisfaisante la plus proche (en cas d'égalité : préférer la position satisfaisante de droite).  \n",
    "*Indice :* Pour savoir si une position est satisfaisante nous pouvons essayer d'insérer l'individu et lui demander s'il est satisfait de son nouveau voisinnage."
   ]
  },
  {
   "cell_type": "code",
   "execution_count": 117,
   "metadata": {},
   "outputs": [
    {
     "data": {
      "text/plain": [
       "8"
      ]
     },
     "execution_count": 117,
     "metadata": {},
     "output_type": "execute_result"
    }
   ],
   "source": [
    "def nearest_satisfaying(cells,neigh,c,threshold):\n",
    "    \"\"\"\n",
    "cells : monde étudié\n",
    "c : position de l'individu\n",
    "    \"\"\"\n",
    "    if ishappy(cells,neigh,c,threshold):\n",
    "        return \"Déja heureux\"\n",
    "    \n",
    "    satis2=0\n",
    "    for i in range(c+1,len(cells)):\n",
    "        test1= relocation(cells,c,i)\n",
    "        #e = c-(d-c)\n",
    "        if ishappy(test1,neigh,i,threshold):\n",
    "            satis1 = i\n",
    "            \n",
    "            for a in range(0,c):\n",
    "                test2= relocation(cells,c,a)\n",
    "                if ishappy(test2,neigh,a,threshold):\n",
    "                    satis2=a\n",
    "                    \n",
    "            if satis2==0:\n",
    "                return satis1\n",
    "            if (abs(c- satis2))==(abs(satis1-c)):\n",
    "                return satis1\n",
    "            elif (abs(c- satis2))>(abs(satis1-c)):\n",
    "                return satis1\n",
    "            else:\n",
    "                return satis2\n",
    "    \n",
    "    return c\n",
    "\n",
    "nearest_satisfaying(cells11,neigh11,6,threshold11)\n"
   ]
  },
  {
   "cell_type": "markdown",
   "metadata": {},
   "source": [
    "### Dynamique\n",
    "\n",
    "La dynamique consiste à répéter les déplacements. Schelling suggère de considérer les individus un par un, en partant de la gauche, et de les faire se déplacer s'ils le peuvent. Un *tour* est terminé lorsque tous les individus ont été considérés, et on peut répéter ainsi les tours. Mais quand s'arrêter avec cette dynamique ? \n",
    "\n",
    "Nous considérons différents critères de convergence :\n",
    "* Lorsque tous les individus sont satisfaits. Cependant, rien ne garantit que le système puisse parvenir à un état où tous les individus sont satisfaits (cela peut arriver mais c'est plutôt exceptionnel). \n",
    "* Lorsque plus aucun individu ne peut se déplacer. Ce critère est plus pertinent, mais il cache une difficulté: le système ne parvient pas non plus nécessairement dans un état où plus aucun individu ne peut se déplacer. Ce critère seul peut donc mener à des boucles infinies.\n",
    "* Nous emploierons donc un garde-fou, qui consistera à poser un nombre maximal d'itérations. Si le système n'est pas stabilisé, selon le critère précédent, après ce nombre d'itérations : la dynamique s'arrête. "
   ]
  },
  {
   "cell_type": "markdown",
   "metadata": {},
   "source": [
    "**Question 7**: Implémenter la fonction ```schelling``` qui effectue un *tour* du modèle de schelling. Vérifier l'exactitude de cette fonction sur des exemples de votre choix (papier et stylo utiles). "
   ]
  },
  {
   "cell_type": "code",
   "execution_count": 118,
   "metadata": {},
   "outputs": [
    {
     "data": {
      "text/plain": [
       "[0, 0, 0, 0, 1, 0, 1, 1, 1, 0, 0, 1, 1, 1, 0, 0, 1, 1, 1, 1, 0, 1]"
      ]
     },
     "execution_count": 118,
     "metadata": {},
     "output_type": "execute_result"
    }
   ],
   "source": [
    "def schelling(cells,neigh,threshold):\n",
    "    \"\"\"\n",
    "    cells : monde étudié\n",
    "    neigh: taille du voisinage utilisé\n",
    "    threshold : seuil de satisfaction pour lequel une personne est satisfaite (en général 50)\n",
    "    \"\"\"\n",
    "    #liste finale (qui commence par (= cells) avant d'être modifiée):\n",
    "    liste=cells\n",
    "    \n",
    "    #parcours du monde étudié\n",
    "    for i in range(len(cells)):\n",
    "        if not ishappy(cells,neigh,i,threshold):\n",
    "            #changement de place :\n",
    "            anc_place = i\n",
    "            place = nearest_satisfaying(cells,neigh,i,threshold)\n",
    "            l=liste\n",
    "            liste = relocation(l,anc_place,place)  \n",
    "            \n",
    "    #affiche la satisfaction de chacun des individus de la nouvelle liste\n",
    "    return liste\n",
    "\n",
    "#Jeux de tests perso:\n",
    "liste1 = schelling(cells11,neigh11,threshold11)\n",
    "liste2 = schelling(liste1,neigh11,threshold11)\n",
    "liste3 = schelling(liste2,neigh11,threshold11)\n",
    "liste4 = schelling(liste3,neigh11,threshold11)\n",
    "\n",
    "print_satisfaction(liste4,neigh11,threshold11)\n",
    "\n",
    "liste3==liste2\n",
    "liste1\n",
    "#liste4==liste3\n",
    "#liste4==liste5\n",
    "#au bout de deux tours le monde n'évolue plus"
   ]
  },
  {
   "cell_type": "code",
   "execution_count": 119,
   "metadata": {},
   "outputs": [
    {
     "data": {
      "text/plain": [
       "[0, 1, 0, 0, 0, 1, 1, 0, 1, 0, 0, 1, 1, 1, 0, 0, 1, 1, 1, 1, 0, 1]"
      ]
     },
     "execution_count": 119,
     "metadata": {},
     "output_type": "execute_result"
    }
   ],
   "source": [
    "cells11"
   ]
  },
  {
   "cell_type": "markdown",
   "metadata": {},
   "source": [
    "**Question 8 :** Implementer la fonction finale du modèle de schelling ```linear_schelling``` prenant en compte tous les paramètres du modèle (taille du voisinnage ```neigh```, seuil de satisfaction ```threshold```, nombre d'itérations ```max_iter```)."
   ]
  },
  {
   "cell_type": "code",
   "execution_count": 120,
   "metadata": {},
   "outputs": [
    {
     "data": {
      "text/plain": [
       "[0, 0, 0, 0, 0, 1, 1, 1, 1, 0, 0, 1, 1, 1, 0, 0, 1, 1, 1, 1, 0, 1]"
      ]
     },
     "execution_count": 120,
     "metadata": {},
     "output_type": "execute_result"
    }
   ],
   "source": [
    "def linear_schelling(cells,neigh,threshold,max_iter):\n",
    "    \"\"\"\n",
    "    cells : monde étudié\n",
    "    neigh : taille du voisinage\n",
    "    threshold : seuil de satisfaction\n",
    "    max_iter : nombre max d'itérations de l'étude\n",
    "    \n",
    "    Retourne la liste finale : \n",
    "    -> Soit celle qui ne bouge plus \n",
    "    -> Soit celle où tous les individus sont satisfaits\n",
    "    -> Soit celle produite à la <max_iter> itération\n",
    "    \"\"\"\n",
    "    liste = cells\n",
    "    liste2 = []\n",
    "    #tours de Schéling \"max_iter\" fois:\n",
    "    for i in range(max_iter):\n",
    "        liste = schelling(liste,neigh,threshold)\n",
    "        \n",
    "        #si la liste bouge plus et vaut la précédente (soit l2), on renvoie la satisfaction de la nvelle liste\n",
    "        if liste2== liste:\n",
    "            print_satisfaction(liste,neigh,threshold)\n",
    "            return liste\n",
    "        #sinon liste2 =liste\n",
    "        else :\n",
    "            liste2  = liste\n",
    "            \n",
    "        #si tous les individus sont satisfaits, on arrête \n",
    "        \n",
    "        bo2=True #si un seul individu est insatisfait, bo2 devient faux pour toujours\n",
    "        \n",
    "        for e in range(len(liste)):\n",
    "            bo =ishappy(liste,neigh,e,threshold)\n",
    "            if bo==False:\n",
    "                bo2=False\n",
    "                \n",
    "        #Si bo2 est vrai alors bo2 n'a jamais été faux et les individus sont tous \n",
    "        if bo2==True:\n",
    "            print_satisfaction(liste,neigh,threshold)\n",
    "            return liste\n",
    "        \n",
    "    return liste\n",
    "            \n",
    "linear_schelling(cells11,neigh11,threshold11,6)"
   ]
  },
  {
   "cell_type": "code",
   "execution_count": 121,
   "metadata": {},
   "outputs": [
    {
     "data": {
      "text/plain": [
       "[0, 0, 0, 0, 1, 0, 1, 1, 1, 0, 0, 1, 1, 1, 0, 0, 1, 1, 1, 1, 0, 1]"
      ]
     },
     "execution_count": 121,
     "metadata": {},
     "output_type": "execute_result"
    }
   ],
   "source": [
    "schelling(cells11,neigh11,threshold11)"
   ]
  },
  {
   "cell_type": "markdown",
   "metadata": {},
   "source": [
    "Normalement, à ce stade, nous avons réussi à implémenter le modèle de Schelling sur un monde linéaire. Nous allons, maintenant, essayer de déterminer l'impact des paramètres sur la dynamique de notre *monde*. Pour se faire nous allons avoir besoin de mondes plus grands et d'un nombre de types d'individu plus grand que 2."
   ]
  },
  {
   "cell_type": "markdown",
   "metadata": {},
   "source": [
    "**Question 9** : Proposer une méthode pour générer des mondes linéaires de manière automatique et aléatoire (refléchir aux paramètres de cette méthode). Implémenter cette méthode dans la fonction ```generate_linear_world```.  \n",
    "*Indice*: on peut s'intéresser à la fonction ```c``` du package ```numpy```. "
   ]
  },
  {
   "cell_type": "code",
   "execution_count": 122,
   "metadata": {},
   "outputs": [
    {
     "data": {
      "text/plain": [
       "[0, 1, 0, 1, 0, 1, 1, 1, 0, 0, 0, 1, 0, 1, 1, 1, 0, 0, 1, 0, 1, 1]"
      ]
     },
     "execution_count": 122,
     "metadata": {},
     "output_type": "execute_result"
    }
   ],
   "source": [
    "import numpy as np\n",
    "\n",
    "def generate_linear_world(long,n):\n",
    "    \"\"\"\n",
    "    Retourne un monde linéaire aléatoire de longueur long composé de n types.\n",
    "    \"\"\"\n",
    "    liste=[]\n",
    "    for e in range(long):\n",
    "        alea = np.random.choice(n)\n",
    "        liste.append(alea)\n",
    "    return liste\n",
    "\n",
    "generate_linear_world(22,2)"
   ]
  },
  {
   "cell_type": "markdown",
   "metadata": {},
   "source": [
    "La fonction ```plot_world``` permet d'afficher notre monde de manière un peu plus élégante:"
   ]
  },
  {
   "cell_type": "code",
   "execution_count": 123,
   "metadata": {
    "scrolled": true
   },
   "outputs": [
    {
     "data": {
      "image/png": "[encoded data removed]",
      "text/plain": [
       "<Figure size 1080x864 with 1 Axes>"
      ]
     },
     "metadata": {},
     "output_type": "display_data"
    }
   ],
   "source": [
    "def plot_world(world):\n",
    "    if type(world) == list:\n",
    "        A = np.array([world])\n",
    "    else:\n",
    "        A = world\n",
    "    plt.figure(figsize=(15,12)) # (30,30) = Taille de la figure\n",
    "    plt.imshow(A,cmap='viridis')\n",
    "    plt.tick_params(top=False, bottom=False, right=False, left=False, labelleft=False, labelbottom=False)\n",
    "    plt.show()\n",
    "    \n",
    "plot_world(cells11)    "
   ]
  },
  {
   "cell_type": "markdown",
   "metadata": {},
   "source": [
    "**Question 10** : Implémenter les métriques suivantes (une métrique = une fonction) :\n",
    "- ```happiness_rate``` le ratio d’individus satisfaits,\n",
    "- ```mean_size_communities``` la taille (moyenne) des regroupements homogènes observés,\n",
    "- ```nb_communities``` le nombre de regroupements homogènes,\n",
    "- ```mean_same_type``` la moyenne sur tous les individus du ratio de voisins du même type qu’eux,\n",
    "- ```nb_iter_to_stability``` le nombre de tours nécessaires pour arriver à un état stable."
   ]
  },
  {
   "cell_type": "code",
   "execution_count": 124,
   "metadata": {},
   "outputs": [
    {
     "data": {
      "text/plain": [
       "0.5909090909090909"
      ]
     },
     "execution_count": 124,
     "metadata": {},
     "output_type": "execute_result"
    }
   ],
   "source": [
    "def happiness_rate(cells,neigh,threshold):\n",
    "    \"\"\"\n",
    "    cells : monde étudié\n",
    "    neigh: taille du voisinage utilisé\n",
    "    threshold : seuil de satisfaction pour lequel une personne est satisfaite (en général 50)\n",
    "    renvoie le ratio d'individus satisfaits\n",
    "    \"\"\"\n",
    "    #nombre de personnes satisfaites\n",
    "    total=0\n",
    "    \n",
    "    #parcours du monde étudié\n",
    "    for i in range(len(cells)):\n",
    "        if ishappy(cells,neigh,i,threshold):\n",
    "            total=total+1\n",
    "            \n",
    "    return total/len(cells)\n",
    "\n",
    "happiness_rate(cells11,neigh11,threshold11)"
   ]
  },
  {
   "cell_type": "code",
   "execution_count": 125,
   "metadata": {},
   "outputs": [
    {
     "data": {
      "text/plain": [
       "1.8333333333333333"
      ]
     },
     "execution_count": 125,
     "metadata": {},
     "output_type": "execute_result"
    }
   ],
   "source": [
    "def mean_size_communities(cells):\n",
    "    \"\"\"\n",
    "    cells:monde étudié\n",
    "    renvoie la taille moyenne des regroupements homogène du monde <cells>.\n",
    "    On divise donc la somme des tailles de chaque groupe (donc len(cells)) par le nombre de groupes\n",
    "    \"\"\"\n",
    "    pre=cells[0]\n",
    "    \n",
    "    #groupes stocke le nombre de groupe\n",
    "    groupes=1\n",
    "    \n",
    "    for i in cells[1:len(cells)+1]:\n",
    "        \n",
    "        #si l'élement est comme le précédent alors on est toujours dans le même groupe\n",
    "        if i==pre:\n",
    "            pre=i\n",
    "            \n",
    "        #si l'élément courant est différent du précédent, alors on est sur un nv groupe\n",
    "        #le nv groupe est ajouté au nombre de groupes\n",
    "        else:\n",
    "            groupes=groupes +1\n",
    "            pre=i\n",
    "            \n",
    "    return (len(cells)/groupes)\n",
    "\n",
    "\n",
    "#j'ai testé avec un autre monde où il y a 4 types d'individus et ca fonctionne aussi:\n",
    "cells2 = [1,2,3,3,3,4,1,1,2,2] \n",
    "mean_size_communities(cells2)==(10/6)\n",
    "\n",
    "\n",
    "mean_size_communities(cells11)"
   ]
  },
  {
   "cell_type": "code",
   "execution_count": 126,
   "metadata": {},
   "outputs": [
    {
     "data": {
      "text/plain": [
       "12"
      ]
     },
     "execution_count": 126,
     "metadata": {},
     "output_type": "execute_result"
    }
   ],
   "source": [
    "def nb_communities(cells):\n",
    "    \"\"\"\n",
    "    cells:monde étudié\n",
    "    Renvoie le nombre de groupement homogène: \n",
    "    je définis ici un groupement homogène <gr> comme un voisinage de len(<gr>) individus \n",
    "    qui ont le même type. \n",
    "    \"\"\"\n",
    "    pre=cells[0]\n",
    "    groupes=1\n",
    "    for i in cells[1:len(cells)+1]:\n",
    "        if i==pre:\n",
    "            pre=i\n",
    "        else:\n",
    "            groupes=groupes +1\n",
    "            pre=i\n",
    "            \n",
    "    return groupes\n",
    "\n",
    "nb_communities(cells11)"
   ]
  },
  {
   "cell_type": "code",
   "execution_count": 127,
   "metadata": {},
   "outputs": [
    {
     "data": {
      "text/plain": [
       "0.44999999999999996"
      ]
     },
     "execution_count": 127,
     "metadata": {},
     "output_type": "execute_result"
    }
   ],
   "source": [
    "def mean_same_type(cells, neigh):\n",
    "    \"\"\"\n",
    "cells: monde ouvert\n",
    "neigh : taille du voisinage\n",
    "retourne la moyenne sur tous les individus du ratio de voisins du même type qu’eux,\n",
    "    \"\"\"\n",
    "    ratio2 = 0\n",
    "    for i in cells:\n",
    "        good =cells[i]\n",
    "        vois = neighborhood(cells,neigh,i)\n",
    "        itgood=0 #nombre de voisins de même type\n",
    "        for e in vois:\n",
    "            if e == good:\n",
    "                itgood=itgood+1\n",
    "                \n",
    "        ratio = itgood/len(vois) #ratio de voisins de même type\n",
    "        ratio2 = ratio2+ratio #somme des ratios\n",
    "    \n",
    "    return ratio2/len(cells)\n",
    "\n",
    "\n",
    "mean_same_type(cells11,neigh11)"
   ]
  },
  {
   "cell_type": "code",
   "execution_count": 128,
   "metadata": {},
   "outputs": [
    {
     "data": {
      "text/plain": [
       "2"
      ]
     },
     "execution_count": 128,
     "metadata": {},
     "output_type": "execute_result"
    }
   ],
   "source": [
    "def nb_iter_to_stability(cells,neigh,threshold,limit):\n",
    "    \"\"\"\n",
    "    cells : monde étudié\n",
    "    neigh : taille du voisinage\n",
    "    threshold : seuil de satisfaction\n",
    "    limit : garde-fou\n",
    "    \n",
    "    Retourne le nombre d'itérations nécéssaires pour un état stable, donc:\n",
    "    -> Soit la liste qui ne bouge plus \n",
    "    -> Soit la liste où tous les individus sont satisfaits\n",
    "    Si cet etat stable n'arrive jamais, on retournera la limite fixée du nombre de tours à faire\n",
    "    \"\"\"\n",
    "    liste = cells\n",
    "    liste2 = []\n",
    "    iteration=0\n",
    "    \n",
    "    #tours de Schéling <limit> fois:\n",
    "    while iteration<limit:\n",
    "        \n",
    "        liste = schelling(liste,neigh,threshold)\n",
    "        \n",
    "        #si la liste bouge plus et vaut la précédente (soit l2), on renvoie iteration\n",
    "        if liste2== liste:\n",
    "            print_satisfaction(liste,neigh,threshold)\n",
    "            return iteration\n",
    "        #sinon liste2 =liste\n",
    "        else :\n",
    "            liste2  = liste\n",
    "            \n",
    "        #si tous les individus sont satisfaits, on arrête et on renvoie iteration\n",
    "        \n",
    "        bo2=True #si un seul individu est insatisfait, bo2 devient faux pour toujours dans cette iteration\n",
    "        \n",
    "        for e in range(len(liste)):\n",
    "            bo =ishappy(liste,neigh,e,threshold)\n",
    "            if bo==False:\n",
    "                bo2=False\n",
    "                \n",
    "        #Si bo2 est vrai alors bo2 n'a jamais été faux et les individus sont tous satisfaits\n",
    "        if bo2==True:\n",
    "            print_satisfaction(liste,neigh,threshold)\n",
    "            return iteration\n",
    "        \n",
    "        iteration = iteration +1\n",
    "        \n",
    "    return iteration\n",
    "\n",
    "nb_iter_to_stability(cells11,neigh11,threshold11,10)"
   ]
  },
  {
   "cell_type": "markdown",
   "metadata": {},
   "source": [
    "**Question 11 :** Faire varier les paramètres du modèle et observer l'évolution des différentes métriques. Tracer les courbes correspondantes, si elles sont judicieuses, en utilisant matplotlib ; puis décrire les phénomènes observés (pas plus de 3 courbes, un paragraphe par phénomène observé).\n",
    "\n",
    "*Indices :* Tracer l'évolution du taux de satisfaction au fil des tours. Faire évoluer le seuil de satisfaction par pas de 0.1 de 0 à 1. Etudier la taille des regroupements homogènes en fonction de ce seuil. Nombre de tours nécessaires pour arriver à un état stable en fonction de la taille du monde. "
   ]
  },
  {
   "cell_type": "markdown",
   "metadata": {},
   "source": [
    "=======================================\n",
    "\n",
    "- Courbe 1: \n",
    "c'est la représentation graphique du taux de satisfaction au fil des tours.\n",
    "- Dans la cellule ci-dessus, je vais donc créer une fonction qui à chaque n tour, associe le taux de satisfaction du monde crée au n-ième tour\n",
    "\n",
    "=======================================\n"
   ]
  },
  {
   "cell_type": "code",
   "execution_count": 130,
   "metadata": {},
   "outputs": [
    {
     "data": {
      "text/plain": [
       "([0, 1, 2, 3, 4, 5, 6],\n",
       " [0.5909090909090909,\n",
       "  0.7272727272727273,\n",
       "  0.8636363636363636,\n",
       "  0.8636363636363636,\n",
       "  0.8636363636363636,\n",
       "  0.8636363636363636,\n",
       "  0.8636363636363636])"
      ]
     },
     "execution_count": 130,
     "metadata": {},
     "output_type": "execute_result"
    }
   ],
   "source": [
    "def taux_tours(cells,neigh,threshold,tours):\n",
    "    \"\"\"\n",
    "    tours: nombre de tours à faire\n",
    "    retourne la liste des taux de satisfaction de chaque modèle crée à chaque itération\n",
    "    Il y a <tours> itérations\n",
    "    \"\"\"\n",
    "    \n",
    "    #liste des <tours> tours \n",
    "    liste_x=[k for k in range(0, tours+1)] \n",
    "    \n",
    "    #CREATION DE LA LISTE DES TAUX DE SATISFACTION pour chaque tour\n",
    "    liste1 = cells\n",
    "    taux=[happiness_rate(cells11,neigh,threshold)]\n",
    "    \n",
    "    for e in range(tours):\n",
    "        liste1 = schelling(liste1,neigh,threshold) #modèle à la <e>-ième itération\n",
    "        satis1= happiness_rate(liste1,neigh,threshold)#taux de satisfaction de liste2\n",
    "        taux.append(satis1) #liste des taux de satisfaction\n",
    "        \n",
    "    return (liste_x,taux)\n",
    "\n",
    "cells3= generate_linear_world(22,2)\n",
    "taux_tours(cells3,neigh11,threshold11,6)\n"
   ]
  },
  {
   "cell_type": "code",
   "execution_count": 131,
   "metadata": {},
   "outputs": [
    {
     "data": {
      "image/png": "[encoded data removed]",
      "text/plain": [
       "<Figure size 432x288 with 1 Axes>"
      ]
     },
     "metadata": {
      "needs_background": "light"
     },
     "output_type": "display_data"
    },
    {
     "name": "stdout",
     "output_type": "stream",
     "text": [
      "Représentation graphique de l'évolution du taux de satisfaction au fil des tours.\n"
     ]
    }
   ],
   "source": [
    "#CREATION DE LA COURBE 1:\n",
    "#on utilisera ici 6 tours et les valeurs de <cells11>, <threshold> et <neigh11>, définies bien plus haut\n",
    "\n",
    "%matplotlib inline\n",
    "import matplotlib.pyplot as plt\n",
    "\n",
    "X,Y= taux_tours(cells3,neigh11,threshold11,6)\n",
    "\n",
    "plt.plot(X,Y)\n",
    "plt.xlabel(\"Nombre de tours\")\n",
    "plt.ylabel(\"Taux de satisfaction\")\n",
    "plt.show()\n",
    "\n",
    "print(\"Représentation graphique de l'évolution du taux de satisfaction au fil des tours.\")"
   ]
  },
  {
   "cell_type": "markdown",
   "metadata": {},
   "source": [
    "=======================================\n",
    "\n",
    "BILAN de la Courbe 1 :\n",
    "- Entre le monde original et le 1e tour, le taux de satisfaction augmente bien d'environ 10% (de 60 à 70%). \n",
    "- Entre le 1e et le 2e tour, le taux de satisfaction augmente encore de 10% (de 70 à 80)\n",
    "- A partir du 2e tour, le taux de satisfaction n'évolue plus ; on sait déja que un \"état stable\" est atteint puisque à chaque tour, le monde n'évolue plus.\n",
    "- Les déplacements effecctués pour satisfaire les individus fonctionnent donc bien : le taux de satisfaction du monde passe de 60% à 80%.\n",
    "\n",
    "======================================="
   ]
  },
  {
   "cell_type": "markdown",
   "metadata": {},
   "source": [
    "=======================================\n",
    "\n",
    "COURBE 2 : \n",
    "- Cette courbe est la représentation graphique de l'évolution de la taille des regroupements homogènes dans un monde en fonction du seuil de satisfaction des individus. \n",
    "- Chaque monde étudié sera donc un monde aléatoire ayant subi un tour de SCHELLING dont on fera varier le seuil de satisfaction des individus.\n",
    "- Cette courbe permettra d'étudier l'influence de la tolérance de chaque individu sur leur regroupements/séparation ; donc par exemple,retrouverons-nous une forte ségrégation entre les individus différents lorsque ceux-ci sont très peu tolérants ?\n",
    "- Plus les regroupements homogènes sont grands, plus les individus similaires sont regroupés.\n",
    "\n",
    "======================================="
   ]
  },
  {
   "cell_type": "code",
   "execution_count": 139,
   "metadata": {},
   "outputs": [
    {
     "data": {
      "text/plain": [
       "([0.0, 0.1, 0.2, 0.3, 0.4, 0.5, 0.6, 0.7, 0.8, 0.9, 1],\n",
       " [1.829268292682927,\n",
       "  1.829268292682927,\n",
       "  1.8072289156626506,\n",
       "  2.0547945205479454,\n",
       "  2.830188679245283,\n",
       "  2.7777777777777777,\n",
       "  2.1739130434782608,\n",
       "  2.1739130434782608,\n",
       "  1.9736842105263157,\n",
       "  1.829268292682927,\n",
       "  1.829268292682927])"
      ]
     },
     "execution_count": 139,
     "metadata": {},
     "output_type": "execute_result"
    }
   ],
   "source": [
    "def taille_seuil(cells,neigh):\n",
    "    \"\"\"\n",
    "    Retourne la liste des tailles moyennes des regroupements homogènes des mondes créés avec un tour de Schelling pour \n",
    "    lequel, pour chaque monde, le seuil de satisfaction <threshold> aura évolué de 0.1 à 1\n",
    "    \n",
    "    \"\"\"\n",
    "    liste_seuil=[(k/10) for k in range(0, 10)]\n",
    "    liste_seuil.append(1)\n",
    "    somme= []\n",
    "    cells=generate_linear_world(300,2)\n",
    "    for e in liste_seuil:\n",
    "        world=schelling(cells,neigh,e)\n",
    "        taille=mean_size_communities(world)\n",
    "        somme.append(taille)\n",
    "        \n",
    "    return (liste_seuil,somme)\n",
    "\n",
    "taille_seuil(cells11,neigh11)"
   ]
  },
  {
   "cell_type": "code",
   "execution_count": 140,
   "metadata": {},
   "outputs": [
    {
     "data": {
      "image/png": "[encoded data removed]",
      "text/plain": [
       "<Figure size 432x288 with 1 Axes>"
      ]
     },
     "metadata": {
      "needs_background": "light"
     },
     "output_type": "display_data"
    },
    {
     "name": "stdout",
     "output_type": "stream",
     "text": [
      "Evolution de la taille des regroupements homogènes en fonction du seuil de satisfaction des individus.\n"
     ]
    }
   ],
   "source": [
    "#CREATION DE LA COURBE 2:\n",
    "#on utilisera les valeurs de <cells11> et <neigh11>, définies bien plus haut\n",
    "\n",
    "%matplotlib inline\n",
    "import matplotlib.pyplot as plt\n",
    "\n",
    "x1,y1= taille_seuil(cells11,neigh11)\n",
    "\n",
    "plt.plot(x1,y1)\n",
    "plt.xlabel(\"Seuils de satisfaction\")\n",
    "plt.ylabel(\"Taille moyennes des gr. homogènes\")\n",
    "plt.show()\n",
    "\n",
    "print(\"Evolution de la taille des regroupements homogènes en fonction du seuil de satisfaction des individus.\")"
   ]
  },
  {
   "cell_type": "markdown",
   "metadata": {},
   "source": [
    "=======================================\n",
    "\n",
    "BILAN - Courbe 2:\n",
    "\n",
    "- On a utilisé ici un monde aléatoire très grand (taille = 300). On peut refaire l'expérience avec plusieurs mondes aléatoires en ré-executant à chaque fois les cellulles précédentes. \n",
    "- On remarque bien que quelque soit la courbe crée, un pic est observable pour un seuil situé dans l'intervalle [0.4:0.6], soit pour un seuil de 50%.\n",
    "- Aux extrémités de l'intervalle des seuils de satisfactions (donc quand le seuil vaut 0.1 et 0.9 par exxemple),le taille moyenne des groupements homogène dans le monde est réduite comparé à ce fameux pic.\n",
    "- On en conclut donc que lorsque le seuil de satisfaction est trop faible, ou trop élevé, les ségrégations sont bien moins marquées. Les groupes homogènes sont plus petits, en somme.\n",
    "- En revanche, lorsque le seuil est équilibré autour de 50%, les groupements sont plus grands ; les ségrégations sont plus marqués.\n",
    "\n",
    "======================================="
   ]
  },
  {
   "cell_type": "markdown",
   "metadata": {},
   "source": [
    "=========================================================\n",
    "\n",
    "Courbe 3 :\n",
    "- Elle représente l'évolution du nombre de tours nécessaires pour arriver à un état stable en fonction de la taille du monde. \n",
    "- Permettra de voir si la taille d'une population influe sur le nombre de tours pour l'état stable\n",
    "\n",
    "========================================================"
   ]
  },
  {
   "cell_type": "code",
   "execution_count": 141,
   "metadata": {},
   "outputs": [
    {
     "data": {
      "text/plain": [
       "([10, 25, 50, 100, 150, 200], [1, 3, 2, 5, 6, 7])"
      ]
     },
     "execution_count": 141,
     "metadata": {},
     "output_type": "execute_result"
    }
   ],
   "source": [
    "def tours_taille(cells,neigh,threshold,taille):\n",
    "    \"\"\"\n",
    "    retourne une liste du nombre de tours nécessaires pour arriver à un état stable \n",
    "    pour <taille> mondes de tailles différentes.\n",
    "    On prendra 10 pour la taille minimale d'un monde donc taille >= 10\n",
    "    On fixera un garde fou du nombre d'itérations à 20.\n",
    "    \"\"\"\n",
    "    #tailles des mondes\n",
    "    listex=[k for k in range(10,taille+1)]#finalement ne sert plus à grand chose, mais on garde on sais jms\n",
    "    tours=[]##finalement ne sert plus à grand chose, mais on garde on sais jms\n",
    "    \n",
    "    liste2=[10, 25, 50, 100, 150,200]\n",
    "    for e in liste2:\n",
    "        liste1 = generate_linear_world(e,2)#crée une liste aléatoire de longueur e \n",
    "        nb_iter = nb_iter_to_stability(liste1,neigh,threshold,20)\n",
    "        tours.append(nb_iter)#conserve le nombre de tours de chaque liste aléatoire dont la taille augmente\n",
    "        \n",
    "    return (liste2,tours)\n",
    "\n",
    "tours_taille(cells11,neigh11,threshold11,500)"
   ]
  },
  {
   "cell_type": "code",
   "execution_count": 142,
   "metadata": {},
   "outputs": [
    {
     "data": {
      "image/png": "[encoded data removed]",
      "text/plain": [
       "<Figure size 432x288 with 1 Axes>"
      ]
     },
     "metadata": {
      "needs_background": "light"
     },
     "output_type": "display_data"
    },
    {
     "name": "stdout",
     "output_type": "stream",
     "text": [
      "évolution du nombre de tours nécessaires pour arriver à un état stable en fonction de la taille du monde\n"
     ]
    }
   ],
   "source": [
    "#CREATION DE LA COURBE 3:\n",
    "#on utilisera les valeurs de <cells11>,<threshold11> et <neigh11>, définies bien plus haut\n",
    "\n",
    "%matplotlib inline\n",
    "import matplotlib.pyplot as plt\n",
    "\n",
    "x2,y2= tours_taille(cells11,neigh11,threshold11,200)\n",
    "\n",
    "plt.plot(x2,y2)\n",
    "plt.xlabel(\"Taille du monde\")\n",
    "plt.ylabel(\"Nombre de tours\")\n",
    "plt.show()\n",
    "\n",
    "print(\"évolution du nombre de tours nécessaires pour arriver à un état stable en fonction de la taille du monde\")"
   ]
  },
  {
   "cell_type": "markdown",
   "metadata": {},
   "source": [
    "=========================================================\n",
    "\n",
    "BILAN - COURBE 3 :\n",
    "\n",
    "- Pour celle-ci, je n'ai pas vraiment d'explications, chaque monde donne une courbe différente :(\n",
    "- A moins que ce soit normal et qu'il n'est pas censé y avoir de relation logique ?\n",
    "\n",
    "- Je remarque que néanmoins, le nombre de tours est parfois centré autour de 8.\n",
    "\n",
    "=========================================================\n",
    "    "
   ]
  },
  {
   "cell_type": "markdown",
   "metadata": {},
   "source": [
    "# 2ème partie : Modèle spatial\n",
    "\n",
    "Dans cette partie le monde que nous allons considérer n'est plus constitué d'une dimension mais de deux dimensions. Si l'on pouvait assimiler le modèle \"linéaire\" à l'application du modèle de Schelling dans une rue, l'extension à une deuxième dimension permet de modéliser le modèle de Schelling à l'échelle d'une ville (pensons à une carte divisées en emplacements carrés de même taille, chaque carré représentant un immeuble ou un pâté de maisons).\n",
    "\n",
    "Un emplacement est déterminé par ses coordonnées $(X,Y)$. Par exemple, l'emplacement $(0,0)$ est situé en tout en haut à gauche et l'emplacement $(n,m)$ tout en bas à droite.\n",
    "\n",
    "L’extension du modèle linéaire au modèle spatial n’est pas triviale. En effet, si toutes les localisations sont occupées, il n’est pas si évident de définir les règles de déplacements (où se déplacent les individus « chassés » de leur localisation ?).\n",
    "\n",
    "Il est alors plus aisé d’introduire des localisations non occupées. Dans ce cas, les individus non satisfait se déplacent au hasard vers une localisation inoccupée. Contrairement au modèle linéaire, la nouvelle localisation ne satisfait pas forcément le seuil de préférence et n'est pas forcément la plus proche (ces alternatives pourront être implantées en question 5)."
   ]
  },
  {
   "cell_type": "markdown",
   "metadata": {},
   "source": [
    "# Etude du modèle spatial"
   ]
  },
  {
   "cell_type": "code",
   "execution_count": 143,
   "metadata": {},
   "outputs": [],
   "source": [
    "# Paramètres du modèle Schelling (à modifier, ne pas oublier de réexécuter la cellule)\n",
    "neigh = 1       # Taille du voisinnage\n",
    "threshold = 0.5 # Seuil de satisfaction\n",
    "max_iter = 5    # Nombre de tours\n",
    "n,m = 7,7       # Taille du monde (n)"
   ]
  },
  {
   "cell_type": "markdown",
   "metadata": {},
   "source": [
    "**Question 1** : Implanter la fonction ```generate_spatial_world``` permettant de générer des mondes spatiaux aléatoirement (de même : s'interroger sur les paramètres nécessaires). Utiliser ```numpy.array```.  \n",
    "*Indice* : Pour un emplacement innocupé, nous pouvons créer un nouveau type."
   ]
  },
  {
   "cell_type": "code",
   "execution_count": 144,
   "metadata": {},
   "outputs": [
    {
     "data": {
      "text/plain": [
       "array([[2., 2., 1., 1., 0., 0., 1.],\n",
       "       [2., 1., 2., 0., 2., 1., 0.],\n",
       "       [1., 0., 2., 0., 1., 0., 2.],\n",
       "       [0., 2., 1., 0., 0., 0., 2.],\n",
       "       [0., 1., 2., 1., 2., 0., 1.],\n",
       "       [1., 1., 1., 2., 2., 1., 1.],\n",
       "       [2., 0., 2., 1., 0., 2., 2.]])"
      ]
     },
     "execution_count": 144,
     "metadata": {},
     "output_type": "execute_result"
    }
   ],
   "source": [
    "def generate_spatial_world(larg,long):\n",
    "    \"\"\"\n",
    "    Retourne des mondes spatiaux aléatoirement\n",
    "    \"\"\"\n",
    "    B = np.zeros((larg, long))\n",
    "    for n in range(larg):\n",
    "        for m in range(long):\n",
    "            B[n,m]=np.random.choice(3)\n",
    "    return B\n",
    "        \n",
    "generate_spatial_world(7,7)\n",
    "\n",
    "#Les emplacements avec des 2 sont considérés vides."
   ]
  },
  {
   "cell_type": "markdown",
   "metadata": {},
   "source": [
    "**Question 2 :** Implémenter la fonction ```spatial_schelling```, permettant d'appliquer le modèle de schelling sur un monde spatial.  \n",
    "**Utiliser la [distance de Tchebychev](https://fr.wikipedia.org/wiki/Distance_de_Tchebychev)** dès qu'il est question de comparer des distances entre individus : pour les voisins nous pouvons considérer tous les emplacements dont la distance est inférieure ou égale à ```neigh```."
   ]
  },
  {
   "cell_type": "markdown",
   "metadata": {},
   "source": [
    "==========================================================\n",
    "\n",
    "La méthode d'implémentation de la fonction spatiale sera similaire que celle pour la fonction linéaire\n",
    "\n",
    "1) regarder l'entourage d'individu (vers le haut mais aussi vers le bas et en biais). Un individu [c,c] aura un entourage [c-1,c], [c,c-1], [c,c+1] etc... Il aura (pour un voisinage neigh=1), entre 3 et 8 voisins. On peut aussi lister ses voisins avec la distance de Tchebychev (=> tous ceux dont la distance est inférieure à neigh sont voisins)\n",
    "\n",
    "2) Il faudra donc quand on aura listé tous ces voisins, compter ceux qui sont pareil que l'individu\n",
    "\n",
    "3) déterminer avec threshold s'il est heureux où non.\n",
    "\n",
    "4) le déplacer s'il est malheureux dans une case vide au hasard QUI LE REND SATISFAIT (donc celles avec un 2). On parcourera par exemple le monde et la 1ere case \"2\" satisfaisante pour notre individu (il faudra tester cette case) sera la gagnante. S'il y en a pas, l'individu bouge pas.\n",
    "    \n",
    "3) Finalement, on recommence les étapes 1) 2) 3) et 4) pour chaque individu jusqu'à la fin du monde\n",
    "\n",
    "==========================================================="
   ]
  },
  {
   "cell_type": "markdown",
   "metadata": {},
   "source": [
    "**Question 3 :** Adapter les métriques de la question 10 pour le modèle spatial. "
   ]
  },
  {
   "cell_type": "code",
   "execution_count": null,
   "metadata": {},
   "outputs": [],
   "source": []
  },
  {
   "cell_type": "markdown",
   "metadata": {},
   "source": [
    "**Question 4 :** Faire varier les paramètres du modèle et observer l'évolution des différentes métriques. Tracer les courbes correspondantes, si elles sont judicieuses, en utilisant matplotlib ; puis décrire les phénomènes observés (pas plus de 3 courbes, un paragraphe par phénomène observé).  "
   ]
  },
  {
   "cell_type": "markdown",
   "metadata": {},
   "source": [
    "**Question 5 (optionnelle) :** Proposer des alternatives au modèle.  "
   ]
  },
  {
   "cell_type": "markdown",
   "metadata": {},
   "source": [
    "# 3ème partie : Animation (Interface Graphique avec tkinter)"
   ]
  },
  {
   "cell_type": "code",
   "execution_count": 138,
   "metadata": {},
   "outputs": [],
   "source": [
    "import tkinter as Tk"
   ]
  },
  {
   "cell_type": "code",
   "execution_count": null,
   "metadata": {},
   "outputs": [],
   "source": []
  },
  {
   "cell_type": "code",
   "execution_count": null,
   "metadata": {},
   "outputs": [],
   "source": []
  }
 ],
 "metadata": {
  "anaconda-cloud": {},
  "kernelspec": {
   "display_name": "Python 3",
   "language": "python",
   "name": "python3"
  },
  "language_info": {
   "codemirror_mode": {
    "name": "ipython",
    "version": 3
   },
   "file_extension": ".py",
   "mimetype": "text/x-python",
   "name": "python",
   "nbconvert_exporter": "python",
   "pygments_lexer": "ipython3",
   "version": "3.8.5"
  }
 },
 "nbformat": 4,
 "nbformat_minor": 1
}
