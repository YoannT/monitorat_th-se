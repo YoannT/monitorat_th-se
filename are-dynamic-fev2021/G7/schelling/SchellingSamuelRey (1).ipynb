{
 "cells": [
  {
   "cell_type": "markdown",
   "metadata": {},
   "source": [
    "# Le modèle de ségrégation de Schelling\n",
    "L. Rannou (basé sur S. Stinckwich)  \n",
    "*ARE DYNAMIC - 2021*"
   ]
  },
  {
   "cell_type": "markdown",
   "metadata": {},
   "source": [
    "## Préambule\n",
    "\n",
    "En Décembre 2016 disparaissait Thomas C. Schelling. Economiste, récipiendaire du Prix de la Banque de Suède en sciences économiques (communément appelé et considéré comme le prix Nobel d’économie), il a travaillé sur de nombreux sujets, en particulier l’analyse des conflits.\n",
    "\n",
    "Une de ses contributions a permis de mieux comprendre les phénomènes de ségrégation. Plus précisément, le propos de Schelling fut d’étudier la dynamique par laquelle **des phénomènes de ségrégation extrêmes** peuvent survenir, en dépit de **préférences qui peuvent sembler faiblement discriminantes individuellement**. Ainsi, même si chaque individu se déclare prêt à accepter une certaine proportion d’invidus « différents » dans son voisinage, le résultat final peut être que la population se regroupe en régions très homogènes.\n",
    "\n",
    "Cette étude peut être menée à l’aide de modèles connus sous le nom d’automates cellulaires. Un des automates les plus célèbres est le [jeu de la vie](https://fr.wikipedia.org/wiki/Jeu_de_la_vie), proposé par John Conway en 1970. Il existe de nombreux autres automates cellulaires dont le comportement est relativement bien étudié, et la littérature est riche à ce sujet. Nous recommandons la lecture de l’article [2] de Jean-Paul Delahaye.\n",
    "\n",
    "## Objectifs\n",
    "\n",
    "Dans ce notebook nous allons essayer de modéliser la répartition d'une population humaine sur une aire urbaine (un *monde*). Nous allons essayer de comprendre les différentes formes de ségration et de communautarisme pouvant avoir lieu dans les villes.\n",
    "Nous partons d'une hypothèse primordiale : **chaque individu est indépendant cependant il ne peut pas se sentir confortable dans un quartier où les habitants sont en majorité \"différents\" de lui.**\n",
    "\n",
    "Dans un premier temps nous allons modéliser cette répartition une aire urbaine simple : une rue ou une avenue (modèle linéaire).\n",
    "Puis dans un second temps nous modéliserons cette répartition à l'échelle d'une ville (modèle spatial).\n",
    "\n",
    "\n",
    "# 1ère partie : Modèle linéaire\n",
    "\n",
    "Considérons un monde *linéaire* (c’est en fait le premier modèle étudié par Schelling dans son article [1], à quelques détails près). Le modèle se compose des éléments suivants.\n",
    "\n",
    "- Les *individus* sont de deux *types* (« 0 » et « 1 »), disposés spatialement sur une ligne de taille $n$ (le *monde*).\n",
    "- Le *voisinage* d'un *individu* est constitué de ses 8 voisins de part et d'autre de sa cellule (4 à sa gauche et 4 à sa droite). Il faut noter que le nombre de voisins peut varier selon la localisation (pour les individus en bout de ligne).\n",
    "- Le *seuil de satisfaction* : un *individu* est satisfait si une majorité (faible) de ses voisins est du même *type* que lui (i.e. il veut **au moins** autant de voisins du même *type* que lui que de voisins d'un *type* différent).\n",
    "- Le *mode de déplacement* : un *individu* non satisfait va chercher à se déplacer pour trouver un emplacement qui le satisfasse (un emplacement dont le *voisinage* respecte son *seuil de satisfaction*). Dans le cas où plusieurs emplacements peuvent le satisfaire, un *individu* se déplace vers l’emplacement le plus proche. Si deux emplacements à la même distance sont satisfaisants l'emplacement de droite est privilégié.\n",
    "- La *dynamique des déplacements* : tous les individus sont considérés, de gauche à droite. Chaque individu non satisfait **s'insère** à l’emplacement satisfaisant le plus proche. Un *tour* est terminé lorsque tous les agents ont été considérés.\n",
    "\n",
    "\n",
    "À l'issu d'un *tour* des individus peuvent se retrouver à nouveau insatisfaits, dû aux déplacements de leurs voisins.\n",
    "Partant d’un état initial, le processus est répété jusqu’à équilibre, c’est-à-dire jusqu’à ce que plus aucun individu insatisfait ne puisse se déplacer, ou qu’une situation de blocage soit détectée. Cela peut nécessiter plusieurs *tours*.\n",
    "\n",
    "### Example\n",
    "\n",
    "Pour illustrer le propos, considérons la situation initiale suivante :\n",
    "\n",
    "![Linear Model 1](linearmodel1.png)\n",
    "\n",
    "Les individus non satisfaits sont indiqués en gris dans la table. Le premier individu à se déplacer sera donc le deuxième en partant de la gauche. En effet, son voisinage ne comprend qu’un autre individu de type \"1\" (et 4 de type \"0\"). Pour trouver une place satisfaisante, il va devoir se déplacer de 6 cases vers la droite (l'emplacement satisfaisant le plus proche).\n",
    "\n",
    "Le nouvel état du monde sera alors (l’individu s’étant déplacé est en gras):\n",
    "\n",
    "![Linear Model 2](linearmodel2.png)\n",
    "\n",
    "\n",
    "### Références\n",
    "- [1] Thomas C. Schelling, [Dynamic Models of Segregation](http://www.stat.berkeley.edu/~aldous/157/Papers/Schelling_Seg_Models.pdf), Journal of Mathematical Sociology (1971) 143-186\n",
    "- [2] J.-P. Delahaye, [Le royaume du jeu de la vie](http://www.lifl.fr/~jdelahay/dnalor/Jeudelavie.pdf), Pour la Science (2009) 378"
   ]
  },
  {
   "cell_type": "markdown",
   "metadata": {},
   "source": [
    "#  Etude du modèle \"linéaire\"\n",
    "\n",
    "**Objectifs : implémenter le modèle de Schelling en python, le tester sur un exemple simple puis étudier l'impact que peuvent avoir les paramètres du modèle sur le monde.**\n",
    "\n",
    "Nous allons étudier l’impact des paramètres du modèle : \n",
    "- la taille du voisinage,\n",
    "- le seuil de satisfaction des individus,\n",
    "- la configuration initiale,\n",
    "- les règles de mouvement (le mode de déplacement).\n",
    "\n",
    "Pour quantifier l'impact de ces paramètres, en plus de l'observation visuelle de l'évolution de notre monde, nous utiliserons les métriques suivantes : \n",
    "- le nombre d’individus satisfaits à l’équilibre,\n",
    "- la taille (moyenne) des regroupements homogènes observés et leur nombre,\n",
    "- la moyenne sur tous les individus de voisins du même type qu’eux,\n",
    "- le nombre de tours nécessaires pour arriver à un état stable."
   ]
  },
  {
   "cell_type": "code",
   "execution_count": 1,
   "metadata": {},
   "outputs": [],
   "source": [
    "#required assets\n",
    "import math\n",
    "import numpy as np\n",
    "import random\n",
    "from matplotlib import pyplot as plt\n",
    "from tkinter import *"
   ]
  },
  {
   "cell_type": "code",
   "execution_count": 2,
   "metadata": {},
   "outputs": [],
   "source": [
    "#settings (re-run after edit)\n",
    "neigh = 3         # Neighbors on one side (*2 for total)\n",
    "threshold = 0.62  # Satisfaction minimum value\n",
    "max_iter = 100     # Max loop runs\n",
    "size = 22         # World size"
   ]
  },
  {
   "cell_type": "markdown",
   "metadata": {},
   "source": [
    "Notre monde est représenté par d'une liste de 0 et de 1. Par exemple :"
   ]
  },
  {
   "cell_type": "code",
   "execution_count": 3,
   "metadata": {},
   "outputs": [],
   "source": [
    "cells = [0, 1, 0, 0, 0, 1, 1, 0, 1, 0, 0, 1, 1, 1, 0, 0, 1, 1, 1, 1, 0, 1]"
   ]
  },
  {
   "cell_type": "markdown",
   "metadata": {},
   "source": [
    "Nous pouvons considérer que ce monde représente une rue, la population de chaque maison étant de type \"0\" ou \"1\". "
   ]
  },
  {
   "cell_type": "markdown",
   "metadata": {},
   "source": [
    "La fonction ```print_world``` convertit un monde en une chaîne de caractères pour l'afficher à l'écran."
   ]
  },
  {
   "cell_type": "code",
   "execution_count": 4,
   "metadata": {},
   "outputs": [],
   "source": [
    "def print_world(cells):\n",
    "    #returns °cells° graphical interpretation\n",
    "    result = \"|\"\n",
    "    for i in cells:\n",
    "        result += str(i)+\"|\"\n",
    "    return result"
   ]
  },
  {
   "cell_type": "code",
   "execution_count": 5,
   "metadata": {},
   "outputs": [
    {
     "data": {
      "text/plain": [
       "'|0|1|0|0|0|1|1|0|1|0|0|1|1|1|0|0|1|1|1|1|0|1|'"
      ]
     },
     "execution_count": 5,
     "metadata": {},
     "output_type": "execute_result"
    }
   ],
   "source": [
    "print_world(cells)"
   ]
  },
  {
   "cell_type": "markdown",
   "metadata": {},
   "source": [
    "**Question 1** : Implémenter la fonction ```neighborhood``` qui prend comme paramètres un monde ```cells```, la position ```c``` d'un individu dans le monde et la taille du voisinnage ```neigh``` et retourne une liste contenant le type des voisins d'un individu (**attention aux bords du monde**)."
   ]
  },
  {
   "cell_type": "code",
   "execution_count": 6,
   "metadata": {},
   "outputs": [],
   "source": [
    "def neighborhood (cells, c, neigh) :\n",
    "    #returns a list of °cells°[°c°] °neigh°*2 neighbors\n",
    "    return [cells[i] for i in range(max(0, c - neigh), min(len(cells), c + neigh + 1)) if i != c]"
   ]
  },
  {
   "cell_type": "code",
   "execution_count": 7,
   "metadata": {},
   "outputs": [
    {
     "data": {
      "text/plain": [
       "[0, 0, 0, 1, 0, 1]"
      ]
     },
     "execution_count": 7,
     "metadata": {},
     "output_type": "execute_result"
    }
   ],
   "source": [
    "neighborhood (cells, 5, neigh)"
   ]
  },
  {
   "cell_type": "markdown",
   "metadata": {},
   "source": [
    "**Question 2 :** Implémenter la fonction ```satisfaction_ratio```, prenant comme paramètres un monde ```cells```, la position ```c``` d'un individu dans le monde et la taille du voisinnage ```neigh```, retourne le niveau de satisfaction d'un individu (le pourcentage de ses voisins étant du même type)."
   ]
  },
  {
   "cell_type": "code",
   "execution_count": 8,
   "metadata": {},
   "outputs": [],
   "source": [
    "def satisfaction_ratio(cells, c, neigh) :\n",
    "    #returns the same type neighbors ratio of °cells°[°c°] over °neigh°*2 individuals\n",
    "    neighbors = neighborhood(cells, c, neigh)\n",
    "    res = neighbors.count(cells[c])\n",
    "    return (res*1)/(len(neighborhood(cells, c, neigh)))"
   ]
  },
  {
   "cell_type": "code",
   "execution_count": 9,
   "metadata": {},
   "outputs": [
    {
     "data": {
      "text/plain": [
       "0.3333333333333333"
      ]
     },
     "execution_count": 9,
     "metadata": {},
     "output_type": "execute_result"
    }
   ],
   "source": [
    "satisfaction_ratio(cells, 5, neigh)"
   ]
  },
  {
   "cell_type": "markdown",
   "metadata": {},
   "source": [
    "**Question 3** :  Implémenter la fonction ```is_happy```, prenant comme paramètres un monde ```cells```, la position ```c``` d'un individu dans le monde, la taille du voisinnage ```neigh``` et ```threshold``` son seuil de satisfaction, retourne un booléen indiquant si l'individu à la position ```c``` est satisfait."
   ]
  },
  {
   "cell_type": "code",
   "execution_count": 10,
   "metadata": {},
   "outputs": [],
   "source": [
    "def is_happy(cells, c, neigh, threshold) :\n",
    "    #returns a boolean on whether °cells°[°c°] satisfaction_ratio is higher or lower than the defined °threshold°\n",
    "    return satisfaction_ratio(cells, c, neigh) >= threshold"
   ]
  },
  {
   "cell_type": "code",
   "execution_count": 11,
   "metadata": {},
   "outputs": [
    {
     "data": {
      "text/plain": [
       "False"
      ]
     },
     "execution_count": 11,
     "metadata": {},
     "output_type": "execute_result"
    }
   ],
   "source": [
    "is_happy(cells, 5, neigh, threshold)"
   ]
  },
  {
   "cell_type": "markdown",
   "metadata": {},
   "source": [
    "**Question 4 :** En s'inspirant de la fonction ```print_world```, implémenter la fonction ```print_satisfaction``` une réprésentation graphique de la statisfaction des individus du monde ```cells```."
   ]
  },
  {
   "cell_type": "code",
   "execution_count": 12,
   "metadata": {},
   "outputs": [],
   "source": [
    "def print_satisfaction(cells, neigh, threshold) :\n",
    "    #returns °cells° happiness graphical interpretation\n",
    "    result = \"|\"\n",
    "    n = 0\n",
    "    while n < len(cells) :\n",
    "        if is_happy(cells, n, neigh, threshold) :\n",
    "            result += \"❤︎\" + \"|\"\n",
    "        else :\n",
    "            result += \"✕\" + \"|\"\n",
    "        n += 1\n",
    "    return result"
   ]
  },
  {
   "cell_type": "code",
   "execution_count": 13,
   "metadata": {},
   "outputs": [
    {
     "data": {
      "text/plain": [
       "'|❤︎|✕|✕|✕|✕|✕|✕|✕|✕|✕|✕|✕|✕|✕|✕|✕|❤︎|✕|❤︎|❤︎|✕|❤︎|'"
      ]
     },
     "execution_count": 13,
     "metadata": {},
     "output_type": "execute_result"
    }
   ],
   "source": [
    "print_satisfaction(cells, neigh, threshold)"
   ]
  },
  {
   "cell_type": "markdown",
   "metadata": {},
   "source": [
    "**Question 5 :** Implémenter la fonction ```relocation``` **retirant** un individu à la position ```c``` et l'**insérant** juste avant la position```d``` (avec $0\\leq d \\leq n$). **Cette fonction doit retourner une copie du monde**."
   ]
  },
  {
   "cell_type": "code",
   "execution_count": 14,
   "metadata": {},
   "outputs": [],
   "source": [
    "def relocation(cells, c, d) :\n",
    "    #returns a °cells° copy where °c° is moved to rank °d°-1\n",
    "    cells_copy = cells\n",
    "    x = cells[c]\n",
    "    if c < d :\n",
    "        cells_copy.pop(c)\n",
    "        cells_copy.insert(d-1, x)\n",
    "    else :\n",
    "        cells_copy.pop(c)\n",
    "        cells_copy.insert(d, x)\n",
    "    return cells_copy"
   ]
  },
  {
   "cell_type": "code",
   "execution_count": 15,
   "metadata": {},
   "outputs": [
    {
     "data": {
      "text/plain": [
       "[0, 1, 0, 0, 1, 0, 1, 0, 1, 0, 0, 1, 1, 1, 0, 0, 1, 1, 1, 1, 0, 1]"
      ]
     },
     "execution_count": 15,
     "metadata": {},
     "output_type": "execute_result"
    }
   ],
   "source": [
    "relocation(cells, 4, 6)"
   ]
  },
  {
   "cell_type": "markdown",
   "metadata": {},
   "source": [
    "**Question 6 :** Implémenter la fonction ```nearest_satisfying``` qui, pour un individu insatisfait, retourne la position satisfaisante la plus proche (en cas d'égalité : préférer la position satisfaisante de droite).  \n",
    "*Indice :* Pour savoir si une position est satisfaisante nous pouvons essayer d'insérer l'individu et lui demander s'il est satisfait de son nouveau voisinnage."
   ]
  },
  {
   "cell_type": "code",
   "execution_count": 16,
   "metadata": {},
   "outputs": [],
   "source": [
    "def nearest_satisfying(cells, c, neigh, threshold) :\n",
    "    #returns the nearest position in °cells° for a °cells°[°c°] where is_happy will be True\n",
    "    if is_happy(cells, c, neigh, threshold) :\n",
    "        return 'Already satisfied'\n",
    "    else :\n",
    "        g = 1\n",
    "        n = 1\n",
    "        while n<c and cells[c-n]!=cells[c]:\n",
    "            g += 1\n",
    "            n += 1\n",
    "        d = 1\n",
    "        n = 1\n",
    "        while n<len(cells)-(c+1) and cells[c+n]!=cells[c]:\n",
    "            d += 1\n",
    "            n += 1\n",
    "        if g == d :\n",
    "            return c+d\n",
    "        if g < d :\n",
    "            return c-d\n",
    "        if g > d :\n",
    "            return c+d"
   ]
  },
  {
   "cell_type": "code",
   "execution_count": 17,
   "metadata": {},
   "outputs": [
    {
     "data": {
      "text/plain": [
       "7"
      ]
     },
     "execution_count": 17,
     "metadata": {},
     "output_type": "execute_result"
    }
   ],
   "source": [
    "nearest_satisfying(cells, 5, neigh, threshold)"
   ]
  },
  {
   "cell_type": "markdown",
   "metadata": {},
   "source": [
    "### Dynamique\n",
    "\n",
    "La dynamique consiste à répéter les déplacements. Schelling suggère de considérer les individus un par un, en partant de la gauche, et de les faire se déplacer s'ils le peuvent. Un *tour* est terminé lorsque tous les individus ont été considérés, et on peut répéter ainsi les tours. Mais quand s'arrêter avec cette dynamique ? \n",
    "\n",
    "Nous considérons différents critères de convergence :\n",
    "* Lorsque tous les individus sont satisfaits. Cependant, rien ne garantit que le système puisse parvenir à un état où tous les individus sont satisfaits (cela peut arriver mais c'est plutôt exceptionnel). \n",
    "* Lorsque plus aucun individu ne peut se déplacer. Ce critère est plus pertinent, mais il cache une difficulté: le système ne parvient pas non plus nécessairement dans un état où plus aucun individu ne peut se déplacer. Ce critère seul peut donc mener à des boucles infinies.\n",
    "* Nous emploierons donc un garde-fou, qui consistera à poser un nombre maximal d'itérations. Si le système n'est pas stabilisé, selon le critère précédent, après ce nombre d'itérations : la dynamique s'arrête. "
   ]
  },
  {
   "cell_type": "markdown",
   "metadata": {},
   "source": [
    "**Question 7**: Implémenter la fonction ```schelling``` qui effectue un *tour* du modèle de schelling. Vérifier l'exactitude de cette fonction sur des exemples de votre choix (papier et stylo utiles). "
   ]
  },
  {
   "cell_type": "code",
   "execution_count": 18,
   "metadata": {},
   "outputs": [],
   "source": [
    "def schelling(cells, neigh, threshold) :\n",
    "    #returns a new °cells° iteration after a schelling segregation has occured where every °cells° element can only move once\n",
    "    n = 0\n",
    "    cells_copy = cells\n",
    "    while n < len(cells_copy)-1 :\n",
    "        if is_happy(cells_copy, n, neigh, threshold) == False :\n",
    "            cells_copy = relocation(cells_copy, n, nearest_satisfying(cells_copy, n, neigh, threshold))\n",
    "        n+=1\n",
    "    return cells_copy"
   ]
  },
  {
   "cell_type": "code",
   "execution_count": 19,
   "metadata": {},
   "outputs": [
    {
     "data": {
      "text/plain": [
       "[0, 0, 0, 1, 0, 0, 1, 1, 0, 0, 1, 0, 1, 1, 0, 1, 1, 1, 1, 1, 0, 1]"
      ]
     },
     "execution_count": 19,
     "metadata": {},
     "output_type": "execute_result"
    }
   ],
   "source": [
    "schelling(cells, neigh, threshold)"
   ]
  },
  {
   "cell_type": "markdown",
   "metadata": {},
   "source": [
    "**Question 8 :** Implementer la fonction finale du modèle de schelling ```linear_schelling``` prenant en compte tous les paramètres du modèle (taille du voisinnage ```neigh```, seuil de satisfaction ```threshold```, nombre d'itérations ```max_iter```)."
   ]
  },
  {
   "cell_type": "code",
   "execution_count": 20,
   "metadata": {},
   "outputs": [],
   "source": [
    "def linear_schelling(cells, neigh, threshold, max_iter) :\n",
    "    #returns a new °cells° iteration where schelling segregation has occured °max_iter° times\n",
    "    cells_copy = cells\n",
    "    n = 0\n",
    "    while n < max_iter :\n",
    "        cells_copy = schelling(cells_copy, neigh ,threshold)\n",
    "        n += 1\n",
    "    return cells_copy"
   ]
  },
  {
   "cell_type": "code",
   "execution_count": 21,
   "metadata": {},
   "outputs": [
    {
     "data": {
      "text/plain": [
       "[0, 0, 0, 0, 0, 1, 1, 1, 1, 1, 1, 1, 1, 1, 1, 1, 0, 0, 0, 0, 0, 1]"
      ]
     },
     "execution_count": 21,
     "metadata": {},
     "output_type": "execute_result"
    }
   ],
   "source": [
    "linear_schelling(cells, neigh, threshold, max_iter)"
   ]
  },
  {
   "cell_type": "markdown",
   "metadata": {},
   "source": [
    "Normalement, à ce stade, nous avons réussi à implémenter le modèle de Schelling sur un monde linéaire. Nous allons, maintenant, essayer de déterminer l'impact des paramètres sur la dynamique de notre *monde*. Pour se faire nous allons avoir besoin de mondes plus grands et d'un nombre de types d'individu plus grand que 2."
   ]
  },
  {
   "cell_type": "markdown",
   "metadata": {},
   "source": [
    "**Question 9** : Proposer une méthode pour générer des mondes linéaires de manière automatique et aléatoire (refléchir aux paramètres de cette méthode). Implémenter cette méthode dans la fonction ```generate_linear_world```.  \n",
    "*Indice*: on peut s'intéresser à la fonction ```random.choice``` du package ```numpy```. "
   ]
  },
  {
   "cell_type": "code",
   "execution_count": 22,
   "metadata": {},
   "outputs": [],
   "source": [
    "def generate_linear_world(size) :\n",
    "    #returns a randomly generated °size° elements long world \n",
    "    n = 0\n",
    "    res = []\n",
    "    while n < size :\n",
    "        res.append(random.choice([0,1]))\n",
    "        n += 1\n",
    "    return res"
   ]
  },
  {
   "cell_type": "code",
   "execution_count": 23,
   "metadata": {},
   "outputs": [
    {
     "name": "stdout",
     "output_type": "stream",
     "text": [
      "[0, 1, 1, 0, 0, 1, 0, 1, 1, 0, 1, 0, 1, 1, 1, 1, 0, 1, 1, 1, 0, 1]\n"
     ]
    }
   ],
   "source": [
    "#run this cell to generate a random world\n",
    "cells = generate_linear_world(size)\n",
    "print(cells)"
   ]
  },
  {
   "cell_type": "code",
   "execution_count": 24,
   "metadata": {},
   "outputs": [
    {
     "name": "stdout",
     "output_type": "stream",
     "text": [
      "[0, 1, 0, 0, 0, 1, 1, 0, 1, 0, 0, 1, 1, 1, 0, 0, 1, 1, 1, 1, 0, 1]\n"
     ]
    }
   ],
   "source": [
    "#run this cell to reset world\n",
    "cells = [0, 1, 0, 0, 0, 1, 1, 0, 1, 0, 0, 1, 1, 1, 0, 0, 1, 1, 1, 1, 0, 1]\n",
    "print(cells)"
   ]
  },
  {
   "cell_type": "markdown",
   "metadata": {},
   "source": [
    "La fonction ```plot_world``` permet d'afficher notre monde de manière un peu plus élégante:"
   ]
  },
  {
   "cell_type": "code",
   "execution_count": 25,
   "metadata": {},
   "outputs": [
    {
     "data": {
      "image/png": "[encoded data removed]",
      "text/plain": [
       "<Figure size 1080x864 with 1 Axes>"
      ]
     },
     "metadata": {},
     "output_type": "display_data"
    }
   ],
   "source": [
    "def plot_world(world):\n",
    "    #returns a bicolor map of °world°\n",
    "    if type(world) == list:\n",
    "        A = np.array([world])\n",
    "    else:\n",
    "        A = world\n",
    "    plt.figure(figsize=(15,12)) # (30,30) = Taille de la figure\n",
    "    plt.imshow(A,cmap='viridis')\n",
    "    plt.tick_params(top=False, bottom=False, right=False, left=False, labelleft=False, labelbottom=False)\n",
    "    plt.show()\n",
    "plot_world(cells)  "
   ]
  },
  {
   "cell_type": "markdown",
   "metadata": {},
   "source": [
    "**Question 10** : Implémenter les métriques suivantes (une métrique = une fonction) :\n",
    "- ```happiness_rate``` le ratio d’individus satisfaits,\n",
    "- ```nb_communities``` le nombre de regroupements homogènes,\n",
    "- ```mean_size_communities``` la taille (moyenne) des regroupements homogènes observés,\n",
    "- ```mean_same_type``` la moyenne sur tous les individus du ratio de voisins du même type qu’eux,\n",
    "- ```nb_iter_to_stability``` le nombre de tours nécessaires pour arriver à un état stable."
   ]
  },
  {
   "cell_type": "code",
   "execution_count": 26,
   "metadata": {},
   "outputs": [],
   "source": [
    "def happiness_rate(cells, neigh, threshold) :\n",
    "    #returns °cells° happy individuals ratio\n",
    "    s = 0\n",
    "    n = 0\n",
    "    while n < len(cells)-1 :\n",
    "        if is_happy(cells, n, neigh, threshold) :\n",
    "            s += 1\n",
    "        n += 1\n",
    "    return s/len(cells)\n",
    "\n",
    "def nb_communities(cells) :\n",
    "    #returns °cells° number of groups\n",
    "    res = []\n",
    "    for i in range(1, len(cells)):\n",
    "        res.append(cells[i]==cells[i-1])\n",
    "    return res.count(False)+1\n",
    "\n",
    "def mean_size_communities(cells) :\n",
    "    #returns average group size in °cells°\n",
    "    g = 1\n",
    "    s = 0\n",
    "    res = []\n",
    "    for i in range (1, len(cells)) :\n",
    "        if cells[i-1] == cells[i] :\n",
    "            g+=1\n",
    "        else :\n",
    "            res.append(g)\n",
    "            g = 1\n",
    "    for i in res :\n",
    "        s += i\n",
    "    return s/nb_communities(cells)\n",
    "            \n",
    "def mean_same_type(cells, neigh) :\n",
    "    #returns °cells° global same type neighbors ratio\n",
    "    s = 0\n",
    "    for i in range(0, len(cells)) :\n",
    "        s += satisfaction_ratio(cells, i, neigh)\n",
    "    return s/len(cells)\n",
    "\n",
    "def nb_iter_to_stability(cells, neigh, threshold, max_iter) :\n",
    "    #returns the number of schelling runs needed to obtain stability\n",
    "    n = 0\n",
    "    while n < max_iter :\n",
    "        cells = schelling(cells, neigh ,threshold)\n",
    "        n += 1\n",
    "    if happiness_rate(cells, neigh, threshold) == 1 :\n",
    "        return n\n",
    "    else :\n",
    "        return 'Schelling segregation executions to reach stability limited by max_iter'"
   ]
  },
  {
   "cell_type": "code",
   "execution_count": 27,
   "metadata": {},
   "outputs": [
    {
     "name": "stdout",
     "output_type": "stream",
     "text": [
      "0.18181818181818182\n",
      "12\n",
      "1.75\n",
      "0.4348484848484848\n",
      "Schelling segregation executions to reach stability limited by max_iter\n"
     ]
    }
   ],
   "source": [
    "print(happiness_rate(cells, neigh, threshold))\n",
    "print(nb_communities(cells))\n",
    "print(mean_size_communities(cells))\n",
    "print(mean_same_type(cells, neigh))\n",
    "print(nb_iter_to_stability(cells, neigh, threshold, max_iter))"
   ]
  },
  {
   "cell_type": "code",
   "execution_count": 28,
   "metadata": {},
   "outputs": [
    {
     "name": "stdout",
     "output_type": "stream",
     "text": [
      "[0, 1, 0, 0, 0, 1, 1, 0, 1, 0, 0, 1, 1, 1, 0, 0, 1, 1, 1, 1, 0, 1]\n"
     ]
    }
   ],
   "source": [
    "#run this cell to reset world\n",
    "cells = [0, 1, 0, 0, 0, 1, 1, 0, 1, 0, 0, 1, 1, 1, 0, 0, 1, 1, 1, 1, 0, 1]\n",
    "print(cells)"
   ]
  },
  {
   "cell_type": "code",
   "execution_count": 29,
   "metadata": {},
   "outputs": [],
   "source": [
    "#run this cell to reset settings\n",
    "neigh = 3         # Neighbors on one side (*2 for total)\n",
    "threshold = 0.62  # Satisfaction minimum value\n",
    "max_iter = 50     # Max loop runs\n",
    "size = 22         # World size"
   ]
  },
  {
   "cell_type": "markdown",
   "metadata": {},
   "source": [
    "**Question 11 :** Faire varier les paramètres du modèle et observer l'évolution des différentes métriques. Tracer les courbes correspondantes, si elles sont judicieuses, en utilisant matplotlib ; puis décrire les phénomènes observés (pas plus de 3 courbes, un paragraphe par phénomène observé).\n",
    "\n",
    "*Indices :* Tracer l'évolution du taux de satisfaction au fil des tours. Faire évoluer le seuil de satisfaction par pas de 0.1 de 0 à 1. Etudier la taille des regroupements homogènes en fonction de ce seuil. Nombre de tours nécessaires pour arriver à un état stable en fonction de la taille du monde. "
   ]
  },
  {
   "cell_type": "code",
   "execution_count": 30,
   "metadata": {},
   "outputs": [
    {
     "data": {
      "image/png": "[encoded data removed]",
      "text/plain": [
       "<Figure size 432x288 with 1 Axes>"
      ]
     },
     "metadata": {
      "needs_background": "light"
     },
     "output_type": "display_data"
    },
    {
     "data": {
      "image/png": "[encoded data removed]",
      "text/plain": [
       "<Figure size 432x288 with 1 Axes>"
      ]
     },
     "metadata": {
      "needs_background": "light"
     },
     "output_type": "display_data"
    }
   ],
   "source": [
    "#settings reset needed for every run of this cell\n",
    "n=0\n",
    "res=[]\n",
    "while n < 10 :\n",
    "    x = happiness_rate(cells, neigh, n/10)\n",
    "    res.append(x)\n",
    "    n+=1\n",
    "    \n",
    "t = np.arange(0, 1, 0.1)\n",
    "s = res\n",
    "fig, ax = plt.subplots()\n",
    "ax.plot(t, s)\n",
    "ax.set(xlabel='seuil de satisfaction', ylabel='ratio de bonheur',\n",
    "       title='Ratio de bonheur global en fonction du seuil de satisfaction individuel')\n",
    "ax.grid()\n",
    "fig.savefig(\"test.png\")\n",
    "plt.show()\n",
    "\n",
    "n=1\n",
    "threshold = 0.62\n",
    "res=[]\n",
    "while n < 11 :\n",
    "    x = happiness_rate(cells, n, threshold)\n",
    "    res.append(x)\n",
    "    n+=1\n",
    "    \n",
    "t = np.arange(1, 11, 1)\n",
    "s = res\n",
    "fig, ax = plt.subplots()\n",
    "ax.plot(t, s)\n",
    "ax.set(xlabel='nombre de voisins par côté', ylabel='ratio de bonheur',\n",
    "       title='Ratio de bonheur global en fonction du nombre de voisins par côté')\n",
    "ax.grid()\n",
    "fig.savefig(\"test.png\")\n",
    "plt.show()"
   ]
  },
  {
   "cell_type": "markdown",
   "metadata": {},
   "source": [
    "# 2ème partie : Modèle spatial\n",
    "\n",
    "Dans cette partie le monde que nous allons considérer n'est plus constitué d'une dimension mais de deux dimensions. Si l'on pouvait assimiler le modèle \"linéaire\" à l'application du modèle de Schelling dans une rue, l'extension à une deuxième dimension permet de modéliser le modèle de Schelling à l'échelle d'une ville (pensons à une carte divisées en emplacements carrés de même taille, chaque carré représentant un immeuble ou un pâté de maisons).\n",
    "\n",
    "Un emplacement est déterminé par ses coordonnées $(X,Y)$. Par exemple, l'emplacement $(0,0)$ est situé en tout en haut à gauche et l'emplacement $(n,m)$ tout en bas à droite.\n",
    "\n",
    "L’extension du modèle linéaire au modèle spatial n’est pas triviale. En effet, si toutes les localisations sont occupées, il n’est pas si évident de définir les règles de déplacements (où se déplacent les individus « chassés » de leur localisation ?).\n",
    "\n",
    "Il est alors plus aisé d’introduire des localisations non occupées. Dans ce cas, les individus non satisfait se déplacent au hasard vers une localisation inoccupée. Contrairement au modèle linéaire, la nouvelle localisation ne satisfait pas forcément le seuil de préférence et n'est pas forcément la plus proche (ces alternatives pourront être implantées en question 5)."
   ]
  },
  {
   "cell_type": "markdown",
   "metadata": {},
   "source": [
    "# Etude du modèle spatial"
   ]
  },
  {
   "cell_type": "code",
   "execution_count": 31,
   "metadata": {},
   "outputs": [],
   "source": [
    "#run this cell to reset settings\n",
    "neigh = 3         # Neighbors on one side (*2 for total)\n",
    "threshold = 0.62  # Satisfaction minimum value\n",
    "max_iter = 50     # Max loop runs\n",
    "size = 22         # World size"
   ]
  },
  {
   "cell_type": "markdown",
   "metadata": {},
   "source": [
    "**Question 1** : Implanter la fonction ```generate_spatial_world``` permettant de générer des mondes spatiaux aléatoirement (de même : s'interroger sur les paramètres nécessaires). Utiliser ```numpy.array```.  \n",
    "*Indice* : Pour un emplacement innocupé, nous pouvons créer un nouveau type."
   ]
  },
  {
   "cell_type": "code",
   "execution_count": 32,
   "metadata": {},
   "outputs": [],
   "source": [
    "def generate_spatial_world(rows, columns) :\n",
    "    #returns a randomly generated °rows°*°columns° 2D world\n",
    "    x = np.random.choice([0,1], size=(rows, columns))\n",
    "    return x"
   ]
  },
  {
   "cell_type": "code",
   "execution_count": 33,
   "metadata": {},
   "outputs": [
    {
     "name": "stdout",
     "output_type": "stream",
     "text": [
      "[[1 1 0 0 0 0 1 0 1 0]\n",
      " [0 1 1 1 1 1 1 1 1 0]\n",
      " [1 0 0 1 1 1 1 0 1 0]\n",
      " [0 0 0 0 0 0 1 1 1 0]\n",
      " [1 1 0 0 0 0 0 0 1 0]\n",
      " [1 0 0 0 1 1 1 1 0 0]\n",
      " [0 1 1 1 1 1 0 0 1 0]\n",
      " [1 1 0 1 1 0 0 0 0 1]\n",
      " [1 1 1 1 1 1 0 1 0 0]\n",
      " [1 0 0 1 0 0 1 0 0 1]]\n"
     ]
    }
   ],
   "source": [
    "world = generate_spatial_world(10,10)\n",
    "print(world)"
   ]
  },
  {
   "cell_type": "markdown",
   "metadata": {},
   "source": [
    "**Question 2 :** Implémenter la fonction ```spatial_schelling```, permettant d'appliquer le modèle de schelling sur un monde spatial.  "
   ]
  },
  {
   "cell_type": "code",
   "execution_count": 34,
   "metadata": {},
   "outputs": [
    {
     "name": "stdout",
     "output_type": "stream",
     "text": [
      "please wait, usally takes a few seconds but may take a few minutes depending on world size\n"
     ]
    },
    {
     "data": {
      "text/plain": [
       "array([[1, 1, 1, 1, 1, 1, 0, 0, 0, 0],\n",
       "       [1, 1, 1, 1, 1, 1, 0, 0, 0, 0],\n",
       "       [1, 1, 1, 1, 1, 1, 0, 0, 0, 0],\n",
       "       [0, 0, 0, 1, 1, 1, 1, 1, 0, 0],\n",
       "       [0, 0, 0, 1, 1, 1, 1, 1, 0, 0],\n",
       "       [0, 0, 0, 1, 1, 1, 1, 1, 0, 0],\n",
       "       [0, 0, 0, 1, 1, 1, 1, 1, 0, 0],\n",
       "       [1, 1, 1, 0, 0, 0, 0, 0, 1, 0],\n",
       "       [1, 1, 1, 0, 0, 0, 0, 0, 1, 1],\n",
       "       [0, 0, 0, 0, 0, 0, 1, 1, 1, 1]])"
      ]
     },
     "execution_count": 34,
     "metadata": {},
     "output_type": "execute_result"
    }
   ],
   "source": [
    "#WARNING : HEAVY PROGRAM, don't run with too massive worlds\n",
    "def spatial_schelling_short(world, neigh, threshold, max_iter) :\n",
    "    #returns a new °world° iteration where schelling segregation has occured once horizontally and vertically\n",
    "    res = []\n",
    "    for i in world :\n",
    "        x = i.tolist()\n",
    "        y = linear_schelling(x, neigh, threshold, max_iter)\n",
    "        res.append(y)\n",
    "        worldbis = np.array(res)\n",
    "        \n",
    "    worldter = worldbis.transpose()\n",
    "    temp = []\n",
    "    for i in worldter :\n",
    "        x = i.tolist()\n",
    "        y = linear_schelling(x, neigh, threshold, max_iter)\n",
    "        temp.append(y)\n",
    "    \n",
    "    return np.array(temp)\n",
    "\n",
    "def spatial_schelling_long(world, neigh, threshold, max_iter) :\n",
    "    #returns a new °world° iteration where schelling segregation has occured °max_iter° times horizontally and vertically\n",
    "    print(\"please wait, usally takes a few seconds but may take a few minutes depending on world size\")\n",
    "    world_copy = world\n",
    "    n = 0\n",
    "    while n < max_iter :\n",
    "        world_copy = spatial_schelling_short(world_copy, neigh, threshold, max_iter)\n",
    "        n += 1\n",
    "    return world_copy\n",
    "\n",
    "spatial_schelling_long(world, neigh, threshold, max_iter)"
   ]
  },
  {
   "cell_type": "markdown",
   "metadata": {},
   "source": [
    "**Question 3 :** Adapter les métriques de la question 10 pour le modèle spatial. "
   ]
  },
  {
   "cell_type": "code",
   "execution_count": 35,
   "metadata": {},
   "outputs": [
    {
     "data": {
      "text/plain": [
       "0.4"
      ]
     },
     "execution_count": 35,
     "metadata": {},
     "output_type": "execute_result"
    }
   ],
   "source": [
    "def happiness_rate_spatial(world, neigh, threshold) :\n",
    "    #returns °world° happy individuals ratio\n",
    "    s = 0\n",
    "    for i in world :\n",
    "        x = i.tolist()\n",
    "        s += happiness_rate(x, neigh, threshold)\n",
    "    return s/len(world)\n",
    "\n",
    "def nb_communities_spatial(cells) :\n",
    "    #returns °world° number of groups\n",
    "    #à refaire car par ligne...\n",
    "    s = 0\n",
    "    for i in world :\n",
    "        x = i.tolist()\n",
    "        s += nb_communities(x)\n",
    "    return s\n",
    "\n",
    "def mean_size_communities_spatial(cells) :\n",
    "    #returns average group size in °cells°\n",
    "    #à refaire car par ligne...\n",
    "    s = 0\n",
    "    for i in world :\n",
    "        x = i.tolist()\n",
    "        s += mean_size_communities(x)\n",
    "    return s/len(world)\n",
    "            \n",
    "def mean_same_type_spatial(cells, neigh) :\n",
    "    #returns °cells° global same type neighbors ratio\n",
    "    #à refaire car par ligne...\n",
    "    s = 0\n",
    "    for i in world :\n",
    "        x = i.tolist()\n",
    "        s += mean_same_type(x, neigh)\n",
    "    return s/len(world)\n",
    "\n",
    "happiness_rate_spatial(world, neigh, threshold)"
   ]
  },
  {
   "cell_type": "markdown",
   "metadata": {},
   "source": [
    "**Question 4 :** Faire varier les paramètres du modèle et observer l'évolution des différentes métriques. Tracer les courbes correspondantes, si elles sont judicieuses, en utilisant matplotlib ; puis décrire les phénomènes observés (pas plus de 3 courbes, un paragraphe par phénomène observé).  "
   ]
  },
  {
   "cell_type": "code",
   "execution_count": 36,
   "metadata": {},
   "outputs": [
    {
     "data": {
      "image/png": "[encoded data removed]",
      "text/plain": [
       "<Figure size 432x288 with 1 Axes>"
      ]
     },
     "metadata": {
      "needs_background": "light"
     },
     "output_type": "display_data"
    }
   ],
   "source": [
    "n=0\n",
    "res=[]\n",
    "while n < 10 :\n",
    "    x = happiness_rate_spatial(world, neigh, n/10)\n",
    "    res.append(x)\n",
    "    n+=1\n",
    "    \n",
    "t = np.arange(0, 1, 0.1)\n",
    "s = res\n",
    "fig, ax = plt.subplots()\n",
    "ax.plot(t, s)\n",
    "ax.set(xlabel='seuil de satisfaction', ylabel='ratio de bonheur',\n",
    "       title='Ratio de bonheur global en fonction du seuil de satisfaction individuel')\n",
    "ax.grid()\n",
    "fig.savefig(\"test.png\")\n",
    "plt.show()"
   ]
  },
  {
   "cell_type": "markdown",
   "metadata": {},
   "source": [
    "**Question 5 (optionnelle) :** Proposer des alternatives au modèle.  "
   ]
  },
  {
   "cell_type": "code",
   "execution_count": 37,
   "metadata": {},
   "outputs": [],
   "source": [
    "def generate_new_spatial_world(rows, columns) :\n",
    "    #returns a randomly generated °rows°*°columns° 2D world\n",
    "    x = np.random.choice(['🐰','🦊'], size=(rows, columns))\n",
    "    return x"
   ]
  },
  {
   "cell_type": "code",
   "execution_count": 38,
   "metadata": {},
   "outputs": [
    {
     "name": "stdout",
     "output_type": "stream",
     "text": [
      "[['🦊' '🐰' '🦊' '🦊' '🦊' '🐰' '🐰' '🐰' '🦊' '🦊']\n",
      " ['🐰' '🐰' '🦊' '🦊' '🦊' '🐰' '🦊' '🐰' '🐰' '🦊']\n",
      " ['🐰' '🐰' '🐰' '🐰' '🐰' '🐰' '🦊' '🐰' '🦊' '🦊']\n",
      " ['🐰' '🦊' '🦊' '🦊' '🐰' '🐰' '🦊' '🐰' '🐰' '🦊']\n",
      " ['🦊' '🐰' '🐰' '🐰' '🦊' '🐰' '🐰' '🦊' '🐰' '🦊']\n",
      " ['🦊' '🐰' '🦊' '🦊' '🐰' '🐰' '🦊' '🦊' '🐰' '🐰']\n",
      " ['🦊' '🦊' '🐰' '🐰' '🐰' '🦊' '🦊' '🐰' '🦊' '🦊']\n",
      " ['🐰' '🦊' '🦊' '🦊' '🐰' '🦊' '🦊' '🐰' '🦊' '🐰']\n",
      " ['🦊' '🦊' '🐰' '🦊' '🦊' '🦊' '🦊' '🐰' '🦊' '🦊']\n",
      " ['🐰' '🦊' '🦊' '🦊' '🐰' '🐰' '🐰' '🐰' '🐰' '🦊']]\n"
     ]
    }
   ],
   "source": [
    "world = generate_new_spatial_world(10,10)\n",
    "print(world)"
   ]
  },
  {
   "cell_type": "markdown",
   "metadata": {},
   "source": [
    "# 3ème partie : Animation (Interface Graphique avec tkinter)"
   ]
  },
  {
   "cell_type": "code",
   "execution_count": 39,
   "metadata": {},
   "outputs": [
    {
     "name": "stdout",
     "output_type": "stream",
     "text": [
      "please alt-tab, cmd-tab to the freshly created animation windows\n"
     ]
    }
   ],
   "source": [
    "print(\"please alt-tab, cmd-tab to the freshly created animation windows\")\n",
    "world = generate_new_spatial_world(10,10)\n",
    "def Affiche():\n",
    "    global temp\n",
    "    temp = world\n",
    "    Texte.set(str(temp))\n",
    "def Nouveau():\n",
    "    global world\n",
    "    world = spatial_schelling_short(world, neigh, threshold, max_iter)\n",
    "    Texte.set(str(world))\n",
    "Mafenetre = Tk()\n",
    "Mafenetre.title('Animation manuelle')\n",
    "Mafenetre.geometry('450x200+800+800')\n",
    "BoutonLancer = Button(Mafenetre, text ='Schelling', command = Nouveau)\n",
    "BoutonLancer.pack(side = LEFT, padx = 5, pady = 5)\n",
    "Texte = StringVar()\n",
    "Affiche()\n",
    "LabelResultat = Label(Mafenetre, textvariable = Texte, fg ='red', bg ='white')\n",
    "LabelResultat.pack(side = LEFT, padx = 5, pady = 5)\n",
    "Mafenetre.mainloop()"
   ]
  }
 ],
 "metadata": {
  "anaconda-cloud": {},
  "kernelspec": {
   "display_name": "Python 3",
   "language": "python",
   "name": "python3"
  },
  "language_info": {
   "codemirror_mode": {
    "name": "ipython",
    "version": 3
   },
   "file_extension": ".py",
   "mimetype": "text/x-python",
   "name": "python",
   "nbconvert_exporter": "python",
   "pygments_lexer": "ipython3",
   "version": "3.8.5"
  }
 },
 "nbformat": 4,
 "nbformat_minor": 1
}
