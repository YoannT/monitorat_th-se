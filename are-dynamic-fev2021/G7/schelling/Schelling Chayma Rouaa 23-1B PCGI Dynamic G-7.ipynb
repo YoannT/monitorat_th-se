{
 "cells": [
  {
   "cell_type": "markdown",
   "metadata": {
    "id": "Ls2eGS0f0nrB"
   },
   "source": [
    "# Le modèle de ségrégation de Schelling\n",
    "L. Rannou (basé sur S. Stinckwich)  \n",
    "*ARE DYNAMIC - 2021*"
   ]
  },
  {
   "cell_type": "markdown",
   "metadata": {
    "id": "Qj8Iu00p0nrH"
   },
   "source": [
    "## Préambule\n",
    "\n",
    "En Décembre 2016 disparaissait Thomas C. Schelling. Economiste, récipiendaire du Prix de la Banque de Suède en sciences économiques (communément appelé et considéré comme le prix Nobel d’économie), il a travaillé sur de nombreux sujets, en particulier l’analyse des conflits.\n",
    "\n",
    "Une de ses contributions a permis de mieux comprendre les phénomènes de ségrégation. Plus précisément, le propos de Schelling fut d’étudier la dynamique par laquelle **des phénomènes de ségrégation extrêmes** peuvent survenir, en dépit de **préférences qui peuvent sembler faiblement discriminantes individuellement**. Ainsi, même si chaque individu se déclare prêt à accepter une certaine proportion d’invidus « différents » dans son voisinage, le résultat final peut être que la population se regroupe en régions très homogènes.\n",
    "\n",
    "Cette étude peut être menée à l’aide de modèles connus sous le nom d’automates cellulaires. Un des automates les plus célèbres est le [jeu de la vie](https://fr.wikipedia.org/wiki/Jeu_de_la_vie), proposé par John Conway en 1970. Il existe de nombreux autres automates cellulaires dont le comportement est relativement bien étudié, et la littérature est riche à ce sujet. Nous recommandons la lecture de l’article [2] de Jean-Paul Delahaye.\n",
    "\n",
    "## Objectifs\n",
    "\n",
    "Dans ce notebook nous allons essayer de modéliser la répartition d'une population humaine sur une aire urbaine (un *monde*). Nous allons essayer de comprendre les différentes formes de ségration et de communautarisme pouvant avoir lieu dans les villes.\n",
    "Nous partons d'une hypothèse primordiale : **chaque individu est indépendant cependant il ne peut pas se sentir confortable dans un quartier où les habitants sont en majorité \"différents\" de lui.**\n",
    "\n",
    "Dans un premier temps nous allons modéliser cette répartition une aire urbaine simple : une rue ou une avenue (modèle linéaire).\n",
    "Puis dans un second temps nous modéliserons cette répartition à l'échelle d'une ville (modèle spatial).\n",
    "\n",
    "\n",
    "# 1ère partie : Modèle linéaire\n",
    "\n",
    "Considérons un monde *linéaire* (c’est en fait le premier modèle étudié par Schelling dans son article [1], à quelques détails près). Le modèle se compose des éléments suivants.\n",
    "\n",
    "- Les *individus* sont de deux *types* (« 0 » et « 1 »), disposés spatialement sur une ligne de taille $n$ (le *monde*).\n",
    "- Le *voisinage* d'un *individu* est constitué de ses 8 voisins de part et d'autre de sa cellule (4 à sa gauche et 4 à sa droite). Il faut noter que le nombre de voisins peut varier selon la localisation (pour les individus en bout de ligne).\n",
    "- Le *seuil de satisfaction* : un *individu* est satisfait si une majorité (faible) de ses voisins est du même *type* que lui (i.e. il veut **au moins** autant de voisins du même *type* que lui que de voisins d'un *type* différent).\n",
    "- Le *mode de déplacement* : un *individu* non satisfait va chercher à se déplacer pour trouver un emplacement qui le satisfasse (un emplacement dont le *voisinage* respecte son *seuil de satisfaction*). Dans le cas où plusieurs emplacements peuvent le satisfaire, un *individu* se déplace vers l’emplacement le plus proche. Si deux emplacements à la même distance sont satisfaisants l'emplacement de droite est privilégié.\n",
    "- La *dynamique des déplacements* : tous les individus sont considérés, de gauche à droite. Chaque individu non satisfait **s'insère** à l’emplacement satisfaisant le plus proche. Un *tour* est terminé lorsque tous les agents ont été considérés.\n",
    "\n",
    "\n",
    "À l'issu d'un *tour* des individus peuvent se retrouver à nouveau insatisfaits, dû aux déplacements de leurs voisins.\n",
    "Partant d’un état initial, le processus est répété jusqu’à équilibre, c’est-à-dire jusqu’à ce que plus aucun individu insatisfait ne puisse se déplacer, ou qu’une situation de blocage soit détectée. Cela peut nécessiter plusieurs *tours*.\n",
    "\n",
    "### Example\n",
    "\n",
    "Pour illustrer le propos, considérons la situation initiale suivante :\n",
    "\n",
    "![Linear Model 1](linearmodel1.png)\n",
    "\n",
    "Les individus non satisfaits sont indiqués en gris dans la table. Le premier individu à se déplacer sera donc le deuxième en partant de la gauche. En effet, son voisinage ne comprend qu’un autre individu de type \"1\" (et 4 de type \"0\"). Pour trouver une place satisfaisante, il va devoir se déplacer de 6 cases vers la droite (l'emplacement satisfaisant le plus proche).\n",
    "\n",
    "Le nouvel état du monde sera alors (l’individu s’étant déplacé est en gras):\n",
    "\n",
    "![Linear Model 2](linearmodel2.png)\n",
    "\n",
    "\n",
    "### Références\n",
    "- [1] Thomas C. Schelling, [Dynamic Models of Segregation](http://www.stat.berkeley.edu/~aldous/157/Papers/Schelling_Seg_Models.pdf), Journal of Mathematical Sociology (1971) 143-186\n",
    "- [2] J.-P. Delahaye, [Le royaume du jeu de la vie](http://www.lifl.fr/~jdelahay/dnalor/Jeudelavie.pdf), Pour la Science (2009) 378"
   ]
  },
  {
   "cell_type": "markdown",
   "metadata": {
    "id": "V_Vj1-yG0nrJ"
   },
   "source": [
    "#  Etude du modèle \"linéaire\"\n",
    "\n",
    "**Objectifs : implémenter le modèle de Schelling en python, le tester sur un exemple simple puis étudier l'impact que peuvent avoir les paramètres du modèle sur le monde.**\n",
    "\n",
    "Nous allons étudier l’impact des paramètres du modèle : \n",
    "- la taille du voisinage,\n",
    "- le seuil de satisfaction des individus,\n",
    "- la configuration initiale,\n",
    "- les règles de mouvement (le mode de déplacement).\n",
    "\n",
    "Pour quantifier l'impact de ces paramètres, en plus de l'observation visuelle de l'évolution de notre monde, nous utiliserons les métriques suivantes : \n",
    "- le nombre d’individus satisfaits à l’équilibre,\n",
    "- la taille (moyenne) des regroupements homogènes observés et leur nombre,\n",
    "- la moyenne sur tous les individus de voisins du même type qu’eux,\n",
    "- le nombre de tours nécessaires pour arriver à un état stable."
   ]
  },
  {
   "cell_type": "code",
   "execution_count": 1,
   "metadata": {
    "id": "DM6xfpFc0nrK"
   },
   "outputs": [],
   "source": [
    "import numpy as np\n",
    "import random\n",
    "\n",
    "from matplotlib import pyplot as plt"
   ]
  },
  {
   "cell_type": "code",
   "execution_count": 2,
   "metadata": {
    "id": "z7lmtYk-0nrM"
   },
   "outputs": [],
   "source": [
    "# Paramètres du modèle Schelling (à modifier, ne pas oublier de réexécuter la cellule)\n",
    "neigh = 4          # Taille du voisinnage (d'un côté, pour avoir le total faire *2)\n",
    "threshold = 0.5     # Seuil de satisfaction\n",
    "max_iter = 5        # Nombre de tours\n",
    "size = 22           # Taille du monde (n)"
   ]
  },
  {
   "cell_type": "markdown",
   "metadata": {
    "id": "Z-cA6C6_0nrN"
   },
   "source": [
    "Notre monde est représenté par d'une liste de 0 et de 1. Par exemple :"
   ]
  },
  {
   "cell_type": "code",
   "execution_count": 3,
   "metadata": {
    "id": "PxY6cSm80nrO"
   },
   "outputs": [],
   "source": [
    "cells = [0, 1, 0, 0, 0, 1, 1, 0, 1, 0, 0, 1, 1, 1, 0, 0, 1, 1, 1, 1, 0, 1]"
   ]
  },
  {
   "cell_type": "code",
   "execution_count": 4,
   "metadata": {
    "id": "LIr7LT830nrO"
   },
   "outputs": [],
   "source": [
    "assert len(cells) == size"
   ]
  },
  {
   "cell_type": "markdown",
   "metadata": {
    "id": "d3yg1TMf0nrP"
   },
   "source": [
    "Nous pouvons considérer que ce monde représente une rue, la population de chaque maison étant de type \"0\" ou \"1\". "
   ]
  },
  {
   "cell_type": "markdown",
   "metadata": {
    "id": "FK0dnZ9u0nrQ"
   },
   "source": [
    "La fonction ```print_world``` convertit un monde en une chaîne de caractères pour l'afficher à l'écran."
   ]
  },
  {
   "cell_type": "code",
   "execution_count": 5,
   "metadata": {
    "id": "kLE5E4gX0nrQ"
   },
   "outputs": [],
   "source": [
    "def print_world(cells):\n",
    "    '''\n",
    "    '''\n",
    "    # Signature à compléter\n",
    "    result = \"|\"\n",
    "    for i in cells:\n",
    "        result += str(i)+\"|\"\n",
    "    return result"
   ]
  },
  {
   "cell_type": "code",
   "execution_count": 6,
   "metadata": {
    "colab": {
     "base_uri": "https://localhost:8080/",
     "height": 35
    },
    "executionInfo": {
     "elapsed": 5513,
     "status": "ok",
     "timestamp": 1614797764712,
     "user": {
      "displayName": "Chayma Rouaa",
      "photoUrl": "",
      "userId": "00140852281920236430"
     },
     "user_tz": -60
    },
    "id": "xa1caRGT0nrR",
    "outputId": "5d79c46d-3cbb-41b6-b7ee-441590988e8d"
   },
   "outputs": [
    {
     "data": {
      "text/plain": [
       "'|0|1|0|0|0|1|1|0|1|0|0|1|1|1|0|0|1|1|1|1|0|1|'"
      ]
     },
     "execution_count": 6,
     "metadata": {},
     "output_type": "execute_result"
    }
   ],
   "source": [
    "print_world(cells)"
   ]
  },
  {
   "cell_type": "markdown",
   "metadata": {
    "id": "s4ADmUgg0nrT"
   },
   "source": [
    "**Question 1** : Implémenter la fonction ```neighborhood``` qui prend comme paramètres un monde ```cells```, la position ```c``` d'un individu dans le monde et la taille du voisinnage ```neigh``` et retourne une liste contenant le type des voisins d'un individu (**attention aux bords du monde**)."
   ]
  },
  {
   "cell_type": "code",
   "execution_count": 7,
   "metadata": {
    "id": "UpvS3Tb10nrU"
   },
   "outputs": [],
   "source": [
    "def neighboorhood (cells, c, neigh):\n",
    "    ''''''\n",
    "    l=[]\n",
    "    return [cells[i] for i in range(max(0,c-neigh),min(len(cells),c+neigh+1)) if i!=c]\n"
   ]
  },
  {
   "cell_type": "code",
   "execution_count": 8,
   "metadata": {
    "colab": {
     "base_uri": "https://localhost:8080/"
    },
    "executionInfo": {
     "elapsed": 5423,
     "status": "ok",
     "timestamp": 1614797764719,
     "user": {
      "displayName": "Chayma Rouaa",
      "photoUrl": "",
      "userId": "00140852281920236430"
     },
     "user_tz": -60
    },
    "id": "QSz5igPx0nrY",
    "outputId": "0bf6edda-e9e7-4442-fdd0-1cb8c4b30bad"
   },
   "outputs": [
    {
     "data": {
      "text/plain": [
       "[1, 0, 0, 0, 1, 0, 1, 0]"
      ]
     },
     "execution_count": 8,
     "metadata": {},
     "output_type": "execute_result"
    }
   ],
   "source": [
    "neighboorhood(cells,5,neigh)"
   ]
  },
  {
   "cell_type": "markdown",
   "metadata": {
    "id": "QaE1N3vO0nrZ"
   },
   "source": [
    "**Question 2 :** Implémenter la fonction ```satisfaction_ratio```, prenant comme paramètres un monde ```cells```, la position ```c``` d'un individu dans le monde et la taille du voisinnage ```neigh```, retourne le niveau de satisfaction d'un individu (le pourcentage de ses voisins étant du même type)."
   ]
  },
  {
   "cell_type": "code",
   "execution_count": 9,
   "metadata": {
    "id": "JAIzwdAo0nra"
   },
   "outputs": [],
   "source": [
    "def satisfaction_ratio(cells,c,neigh):\n",
    "    ''''''\n",
    "    individu_type_o =0\n",
    "    for i in neighboorhood(cells,c,neigh):\n",
    "        if cells[i]==cells[c]:\n",
    "            individu_type_o=individu_type_o+1\n",
    "    return individu_type_o/(2*neigh)"
   ]
  },
  {
   "cell_type": "code",
   "execution_count": 10,
   "metadata": {
    "colab": {
     "base_uri": "https://localhost:8080/"
    },
    "executionInfo": {
     "elapsed": 5327,
     "status": "ok",
     "timestamp": 1614797764726,
     "user": {
      "displayName": "Chayma Rouaa",
      "photoUrl": "",
      "userId": "00140852281920236430"
     },
     "user_tz": -60
    },
    "id": "eobPEBLr0nrb",
    "outputId": "801e44b5-3be3-4fbf-b6b5-90d9a3929986"
   },
   "outputs": [
    {
     "data": {
      "text/plain": [
       "0.375"
      ]
     },
     "execution_count": 10,
     "metadata": {},
     "output_type": "execute_result"
    }
   ],
   "source": [
    "satisfaction_ratio(cells,5,neigh)"
   ]
  },
  {
   "cell_type": "markdown",
   "metadata": {
    "id": "qTnNjo0l0nrd"
   },
   "source": [
    "**Question 3** :  Implémenter la fonction ```is_happy```, prenant comme paramètres un monde ```cells```, la position ```c``` d'un individu dans le monde, la taille du voisinnage ```neigh``` et ```threshold``` son seuil de satisfaction, retourne un booléen indiquant si l'individu à la position ```c``` est satisfait."
   ]
  },
  {
   "cell_type": "code",
   "execution_count": 11,
   "metadata": {
    "id": "fpo2Y5sb0nre"
   },
   "outputs": [],
   "source": [
    "def is_happy(cells,c,neigh,threshold):\n",
    "    ''''''\n",
    "    if satisfaction_ratio(cells,c,neigh) >= threshold:\n",
    "        return True\n",
    "    else:\n",
    "        return False"
   ]
  },
  {
   "cell_type": "code",
   "execution_count": 12,
   "metadata": {
    "colab": {
     "base_uri": "https://localhost:8080/"
    },
    "executionInfo": {
     "elapsed": 5093,
     "status": "ok",
     "timestamp": 1614797764733,
     "user": {
      "displayName": "Chayma Rouaa",
      "photoUrl": "",
      "userId": "00140852281920236430"
     },
     "user_tz": -60
    },
    "id": "wa9wJxkh0nrf",
    "outputId": "69829233-fc31-42b0-bde6-aa1630432840"
   },
   "outputs": [
    {
     "data": {
      "text/plain": [
       "False"
      ]
     },
     "execution_count": 12,
     "metadata": {},
     "output_type": "execute_result"
    }
   ],
   "source": [
    "is_happy(cells,5,neigh,threshold)"
   ]
  },
  {
   "cell_type": "markdown",
   "metadata": {
    "id": "gL39a_Mv0nrg"
   },
   "source": [
    "**Question 4 :** En s'inspirant de la fonction ```print_world```, implémenter la fonction ```print_satisfaction``` une réprésentation graphique de la statisfaction des individus du monde ```cells```."
   ]
  },
  {
   "cell_type": "code",
   "execution_count": 13,
   "metadata": {
    "id": "yLRyzWIh0nrh"
   },
   "outputs": [],
   "source": [
    "def print_satisfaction(cells,neigh,threshold):\n",
    "    ''''''\n",
    "    result = \"|\"\n",
    "    for i in range (0,len(cells)):\n",
    "        result = result + str(is_happy(cells,i,neigh,threshold))+\"/\"\n",
    "    return result"
   ]
  },
  {
   "cell_type": "code",
   "execution_count": 14,
   "metadata": {
    "colab": {
     "base_uri": "https://localhost:8080/",
     "height": 56
    },
    "executionInfo": {
     "elapsed": 702,
     "status": "ok",
     "timestamp": 1614801813154,
     "user": {
      "displayName": "Chayma Rouaa",
      "photoUrl": "",
      "userId": "00140852281920236430"
     },
     "user_tz": -60
    },
    "id": "QLhbsSU60nrh",
    "outputId": "757b2acd-1a07-4e67-a9f2-6986e7b826b9"
   },
   "outputs": [
    {
     "data": {
      "text/plain": [
       "'|False/False/False/True/True/False/False/True/True/False/False/False/True/True/False/False/True/True/True/True/False/False/'"
      ]
     },
     "execution_count": 14,
     "metadata": {},
     "output_type": "execute_result"
    }
   ],
   "source": [
    "print_satisfaction(cells,neigh,threshold)\n"
   ]
  },
  {
   "cell_type": "markdown",
   "metadata": {
    "id": "_oTt6BxV0nri"
   },
   "source": [
    "**Question 5 :** Implémenter la fonction ```relocation``` **retirant** un individu à la position ```c``` et l'**insérant** juste avant la position```d``` (avec $0\\leq d \\leq n$). **Cette fonction doit retourner une copie du monde**."
   ]
  },
  {
   "cell_type": "code",
   "execution_count": 15,
   "metadata": {
    "id": "qhj1nDuX0nri"
   },
   "outputs": [],
   "source": [
    "def relocation(cells,c,d):\n",
    "    ''''''\n",
    "    newcells=cells.copy()\n",
    "    e=newcells.pop(c)\n",
    "    newcells.insert(d,e)\n",
    "    \n",
    "    return newcells"
   ]
  },
  {
   "cell_type": "code",
   "execution_count": 16,
   "metadata": {
    "colab": {
     "base_uri": "https://localhost:8080/"
    },
    "executionInfo": {
     "elapsed": 4685,
     "status": "ok",
     "timestamp": 1614797764859,
     "user": {
      "displayName": "Chayma Rouaa",
      "photoUrl": "",
      "userId": "00140852281920236430"
     },
     "user_tz": -60
    },
    "id": "4_3KRrBO0nrj",
    "outputId": "d0fe12d8-2c07-46d1-efdc-be4d32697c63"
   },
   "outputs": [
    {
     "data": {
      "text/plain": [
       "[0, 1, 0, 0, 0, 0, 1, 1, 1, 0, 0, 1, 1, 1, 0, 0, 1, 1, 1, 1, 0, 1]"
      ]
     },
     "execution_count": 16,
     "metadata": {},
     "output_type": "execute_result"
    }
   ],
   "source": [
    "relocation (cells,7,2)"
   ]
  },
  {
   "cell_type": "code",
   "execution_count": 17,
   "metadata": {
    "colab": {
     "base_uri": "https://localhost:8080/"
    },
    "executionInfo": {
     "elapsed": 4590,
     "status": "ok",
     "timestamp": 1614797764863,
     "user": {
      "displayName": "Chayma Rouaa",
      "photoUrl": "",
      "userId": "00140852281920236430"
     },
     "user_tz": -60
    },
    "id": "0tqO2H7M2OAM",
    "outputId": "f1c165bc-8a66-416a-8add-b7f9ec55e49f"
   },
   "outputs": [
    {
     "name": "stdout",
     "output_type": "stream",
     "text": [
      "[0, 1, 0, 0, 0, 1, 1, 0, 1, 0, 0, 1, 1, 1, 0, 0, 1, 1, 1, 1, 0, 1]\n"
     ]
    }
   ],
   "source": [
    "print(cells) "
   ]
  },
  {
   "cell_type": "markdown",
   "metadata": {
    "id": "WV1rWPls0nrk"
   },
   "source": [
    "\n",
    "**Question 6 :** Implémenter la fonction ```nearest_satisfying``` qui, pour un individu insatisfait, retourne la position satisfaisante la plus proche (en cas d'égalité : préférer la position satisfaisante de droite).  \n",
    "*Indice :* Pour savoir si une position est satisfaisante nous pouvons essayer d'insérer l'individu et lui demander s'il est satisfait de son nouveau voisinnage."
   ]
  },
  {
   "cell_type": "code",
   "execution_count": 18,
   "metadata": {
    "id": "EMlAwuD_gYqv"
   },
   "outputs": [],
   "source": [
    "def nearest_satisfying(cells,c,neigh,threshold):\n",
    "\n",
    "    for r in range (c, len(cells)):\n",
    "        nw=relocation(cells,c,r)\n",
    "        if is_happy(nw,r,neigh,threshold):\n",
    "            break\n",
    "    for l in range (c,-1,-1):\n",
    "        n_w=relocation(cells,c,l)\n",
    "        if is_happy(n_w,l,neigh,threshold):\n",
    "            break\n",
    "    if r==(len(cells)-1) and not is_happy(nw,r,neigh,threshold):\n",
    "        return l\n",
    "    if l==0 and not is_happy(n_w,l,neigh,threshold):\n",
    "        return r\n",
    "    if abs(c-r)<=abs(c-l):\n",
    "        return r\n",
    "    if abs(c-r)>=abs(c-l):\n",
    "        return l\n",
    "    if abs(c-r)==abs(c-l):\n",
    "        return r"
   ]
  },
  {
   "cell_type": "code",
   "execution_count": 19,
   "metadata": {
    "colab": {
     "base_uri": "https://localhost:8080/"
    },
    "executionInfo": {
     "elapsed": 6549,
     "status": "ok",
     "timestamp": 1614797766986,
     "user": {
      "displayName": "Chayma Rouaa",
      "photoUrl": "",
      "userId": "00140852281920236430"
     },
     "user_tz": -60
    },
    "id": "P7AxKeYCeSzs",
    "outputId": "33be4557-fb9a-4b3f-907c-c276a4553026"
   },
   "outputs": [
    {
     "data": {
      "text/plain": [
       "8"
      ]
     },
     "execution_count": 19,
     "metadata": {},
     "output_type": "execute_result"
    }
   ],
   "source": [
    "nearest_satisfying(cells,5,neigh,threshold)"
   ]
  },
  {
   "cell_type": "code",
   "execution_count": 20,
   "metadata": {
    "colab": {
     "base_uri": "https://localhost:8080/"
    },
    "executionInfo": {
     "elapsed": 6503,
     "status": "ok",
     "timestamp": 1614797767099,
     "user": {
      "displayName": "Chayma Rouaa",
      "photoUrl": "",
      "userId": "00140852281920236430"
     },
     "user_tz": -60
    },
    "id": "vlpfn00Se8hV",
    "outputId": "13dbb6c8-356f-481f-a099-85174a7125c1"
   },
   "outputs": [
    {
     "data": {
      "text/plain": [
       "[0, 1, 0, 0, 0, 1, 1, 0, 1, 0, 0, 1, 1, 1, 0, 0, 1, 1, 1, 1, 0, 1]"
      ]
     },
     "execution_count": 20,
     "metadata": {},
     "output_type": "execute_result"
    }
   ],
   "source": [
    "cells"
   ]
  },
  {
   "cell_type": "markdown",
   "metadata": {
    "id": "FS6acp0V0nrl"
   },
   "source": [
    "### Dynamique\n",
    "\n",
    "La dynamique consiste à répéter les déplacements. Schelling suggère de considérer les individus un par un, en partant de la gauche, et de les faire se déplacer s'ils le peuvent. Un *tour* est terminé lorsque tous les individus ont été considérés, et on peut répéter ainsi les tours. Mais quand s'arrêter avec cette dynamique ? \n",
    "\n",
    "Nous considérons différents critères de convergence :\n",
    "* Lorsque tous les individus sont satisfaits. Cependant, rien ne garantit que le système puisse parvenir à un état où tous les individus sont satisfaits (cela peut arriver mais c'est plutôt exceptionnel). \n",
    "* Lorsque plus aucun individu ne peut se déplacer. Ce critère est plus pertinent, mais il cache une difficulté: le système ne parvient pas non plus nécessairement dans un état où plus aucun individu ne peut se déplacer. Ce critère seul peut donc mener à des boucles infinies.\n",
    "* Nous emploierons donc un garde-fou, qui consistera à poser un nombre maximal d'itérations. Si le système n'est pas stabilisé, selon le critère précédent, après ce nombre d'itérations : la dynamique s'arrête. "
   ]
  },
  {
   "cell_type": "markdown",
   "metadata": {
    "id": "flHPPOXo0nrm"
   },
   "source": [
    "**Question 7**: Implémenter la fonction ```schelling``` qui effectue un *tour* du modèle de schelling. Vérifier l'exactitude de cette fonction sur des exemples de votre choix (papier et stylo utiles). "
   ]
  },
  {
   "cell_type": "code",
   "execution_count": 21,
   "metadata": {
    "id": "TLfHEggkT-C3"
   },
   "outputs": [],
   "source": [
    "cells= [0,1,0,0,0,1,1,0,1,0,0,1,1,1,0,0,1,1,1,1,0,1]\n",
    "neigh=4\n",
    "threshold=0.5\n",
    "max_iter=5\n",
    "size=22"
   ]
  },
  {
   "cell_type": "code",
   "execution_count": 22,
   "metadata": {
    "colab": {
     "base_uri": "https://localhost:8080/"
    },
    "executionInfo": {
     "elapsed": 6429,
     "status": "ok",
     "timestamp": 1614797767119,
     "user": {
      "displayName": "Chayma Rouaa",
      "photoUrl": "",
      "userId": "00140852281920236430"
     },
     "user_tz": -60
    },
    "id": "T1BTsNhg0nrm",
    "outputId": "a3436738-b4ae-46dc-fdde-cfabe6351b85"
   },
   "outputs": [
    {
     "data": {
      "text/plain": [
       "[0, 1, 0, 0, 0, 1, 1, 1, 0, 0, 0, 0, 0, 0, 1, 1, 1, 1, 1, 1, 1, 1]"
      ]
     },
     "execution_count": 22,
     "metadata": {},
     "output_type": "execute_result"
    }
   ],
   "source": [
    "def schelling (cells,neigh,threshold):\n",
    "    ''''''\n",
    "    list=cells\n",
    "    i=0\n",
    "    p=[]\n",
    "    while i<len(cells):\n",
    "        if i not in p:\n",
    "            if nearest_satisfying(list,i,neigh,threshold)<=i:\n",
    "                list=relocation(list,i,nearest_satisfying(cells,i,neigh,threshold))\n",
    "            else:\n",
    "                list=relocation(list,i,nearest_satisfying(cells,i,neigh,threshold))\n",
    "                p.append(nearest_satisfying(cells,i,neigh,threshold))\n",
    "        i=i+1\n",
    "    return list\n",
    "  \n",
    "\n",
    "\n",
    "schelling(cells,neigh,threshold)"
   ]
  },
  {
   "cell_type": "markdown",
   "metadata": {
    "id": "eyVoHthK0nro"
   },
   "source": [
    "**Question 8 :** Implementer la fonction finale du modèle de schelling ```linear_schelling``` prenant en compte tous les paramètres du modèle (taille du voisinnage ```neigh```, seuil de satisfaction ```threshold```, nombre d'itérations ```max_iter```)."
   ]
  },
  {
   "cell_type": "code",
   "execution_count": 23,
   "metadata": {
    "colab": {
     "base_uri": "https://localhost:8080/"
    },
    "executionInfo": {
     "elapsed": 6284,
     "status": "ok",
     "timestamp": 1614797767122,
     "user": {
      "displayName": "Chayma Rouaa",
      "photoUrl": "",
      "userId": "00140852281920236430"
     },
     "user_tz": -60
    },
    "id": "UEKGeIrU1Hjx",
    "outputId": "36ecb085-472b-41ff-fb6f-19fa42403f6a"
   },
   "outputs": [
    {
     "data": {
      "text/plain": [
       "[1, 0, 0, 0, 0, 0, 0, 0, 0, 0, 0, 1, 1, 1, 1, 1, 1, 1, 1, 1, 1, 1]"
      ]
     },
     "execution_count": 23,
     "metadata": {},
     "output_type": "execute_result"
    }
   ],
   "source": [
    "def linear_schelling(cells,neigh,threshold,max_iter):\n",
    "\n",
    "    lr=cells\n",
    "    for i in range (max_iter):\n",
    "        lr=schelling(lr,neigh,threshold)\n",
    "    return lr\n",
    "    \n",
    "\n",
    "linear_schelling(cells,neigh,threshold,max_iter)"
   ]
  },
  {
   "cell_type": "code",
   "execution_count": null,
   "metadata": {
    "id": "7EpPSMGUbY_G"
   },
   "outputs": [],
   "source": []
  },
  {
   "cell_type": "markdown",
   "metadata": {
    "id": "NG391A9W0nrs"
   },
   "source": [
    "Normalement, à ce stade, nous avons réussi à implémenter le modèle de Schelling sur un monde linéaire. Nous allons, maintenant, essayer de déterminer l'impact des paramètres sur la dynamique de notre *monde*. Pour se faire nous allons avoir besoin de mondes plus grands et d'un nombre de types d'individu plus grand que 2."
   ]
  },
  {
   "cell_type": "markdown",
   "metadata": {
    "id": "OQ3BmhzS0nrt"
   },
   "source": [
    "**Question 9** : Proposer une méthode pour générer des mondes linéaires de manière automatique et aléatoire (refléchir aux paramètres de cette méthode). Implémenter cette méthode dans la fonction ```generate_linear_world```.  \n",
    "*Indice*: on peut s'intéresser à la fonction ```random.choice``` du package ```numpy```. "
   ]
  },
  {
   "cell_type": "code",
   "execution_count": 24,
   "metadata": {
    "colab": {
     "base_uri": "https://localhost:8080/"
    },
    "executionInfo": {
     "elapsed": 6195,
     "status": "ok",
     "timestamp": 1614797767125,
     "user": {
      "displayName": "Chayma Rouaa",
      "photoUrl": "",
      "userId": "00140852281920236430"
     },
     "user_tz": -60
    },
    "id": "WoTKaAmk-eFZ",
    "outputId": "69887c8a-3ab3-4feb-8a0f-ad5d03f3db59"
   },
   "outputs": [
    {
     "name": "stdout",
     "output_type": "stream",
     "text": [
      "[1, 0, 0, 0, 0, 1, 0, 1, 1, 0, 1, 0, 0, 1, 1, 1, 1, 0, 1, 1, 0, 1]\n"
     ]
    }
   ],
   "source": [
    "#génère une liste de taille len(cells) soit size qui vaut 22, en changeant aléatoirement la position des individus de cells\n",
    "\n",
    "import random\n",
    "l=cells.copy()\n",
    "print(random.choices(l,k=size))"
   ]
  },
  {
   "cell_type": "code",
   "execution_count": 27,
   "metadata": {
    "colab": {
     "base_uri": "https://localhost:8080/"
    },
    "executionInfo": {
     "elapsed": 6149,
     "status": "ok",
     "timestamp": 1614797767127,
     "user": {
      "displayName": "Chayma Rouaa",
      "photoUrl": "",
      "userId": "00140852281920236430"
     },
     "user_tz": -60
    },
    "id": "dgbwwygTElh-",
    "outputId": "9768ce4e-454f-4bcf-981a-9778aa6cb4f8"
   },
   "outputs": [],
   "source": [
    "#génère une liste de taille aléatoire compris entre 5 et 44, avec des individus de type 0 ou 1, si on veut plus de types d'individus, on ajoute dans l des caractères\n",
    "def generate_linear_world(l,taille):\n",
    "    import random\n",
    "    l= [0,1]\n",
    "    taille=random.randint(5,45)\n",
    "    print(random.choices(taille))"
   ]
  },
  {
   "cell_type": "code",
   "execution_count": 29,
   "metadata": {
    "colab": {
     "base_uri": "https://localhost:8080/"
    },
    "executionInfo": {
     "elapsed": 6096,
     "status": "ok",
     "timestamp": 1614797767129,
     "user": {
      "displayName": "Chayma Rouaa",
      "photoUrl": "",
      "userId": "00140852281920236430"
     },
     "user_tz": -60
    },
    "id": "_XSpbxDYIif3",
    "outputId": "692db839-7082-4e34-a23d-2e0a625dc671"
   },
   "outputs": [
    {
     "name": "stdout",
     "output_type": "stream",
     "text": [
      "['blonde', 'rousse', 'rousse', 'blonde', 'brune', 'rousse', 'brune', 'blonde', 'rousse', 'blonde', 'rousse', 'blonde', 'blonde', 'brune', 'brune', 'rousse', 'brune', 'brune', 'rousse', 'rousse', 'rousse', 'brune', 'rousse', 'brune', 'blonde', 'rousse', 'rousse', 'rousse', 'blonde', 'brune', 'rousse', 'blonde', 'rousse', 'rousse', 'brune', 'rousse', 'blonde', 'rousse', 'rousse', 'rousse', 'blonde', 'brune', 'brune', 'rousse']\n"
     ]
    }
   ],
   "source": [
    "#autre exemple avec des individus \"rousse\", \"blonde\", \"brune\" dans un voisinage\n",
    "import random\n",
    "monde= [\"blonde\",\"rousse\",\"brune\",] \n",
    "taille=random.randint(5,45)\n",
    "print(random.choices(monde, k=taille))"
   ]
  },
  {
   "cell_type": "markdown",
   "metadata": {
    "id": "BPvroDgy0nru"
   },
   "source": [
    "La fonction ```plot_world``` permet d'afficher notre monde de manière un peu plus élégante:"
   ]
  },
  {
   "cell_type": "code",
   "execution_count": 30,
   "metadata": {
    "colab": {
     "base_uri": "https://localhost:8080/",
     "height": 68
    },
    "executionInfo": {
     "elapsed": 5999,
     "status": "ok",
     "timestamp": 1614797767143,
     "user": {
      "displayName": "Chayma Rouaa",
      "photoUrl": "",
      "userId": "00140852281920236430"
     },
     "user_tz": -60
    },
    "id": "Vim1zsnO0nrv",
    "outputId": "99226020-a173-436b-8f28-a90f8fec5086"
   },
   "outputs": [
    {
     "data": {
      "image/png": "[encoded data removed]",
      "text/plain": [
       "<Figure size 1080x864 with 1 Axes>"
      ]
     },
     "metadata": {},
     "output_type": "display_data"
    }
   ],
   "source": [
    "def plot_world(world):\n",
    "    if type(world) == list:\n",
    "        A = np.array([world])\n",
    "    else:\n",
    "        A = world\n",
    "    plt.figure(figsize=(15,12)) # (30,30) = Taille de la figure\n",
    "    plt.imshow(A,cmap='viridis')\n",
    "    plt.tick_params(top=False, bottom=False, right=False, left=False, labelleft=False, labelbottom=False)\n",
    "    plt.show()\n",
    "plot_world(cells)    "
   ]
  },
  {
   "cell_type": "markdown",
   "metadata": {
    "id": "2qeCctqe0nrv"
   },
   "source": [
    "**Question 10** : Implémenter les métriques suivantes (une métrique = une fonction) :\n",
    "- ```happiness_rate``` le ratio d’individus satisfaits,\n",
    "- ```mean_size_communities``` la taille (moyenne) des regroupements homogènes observés,\n",
    "- ```nb_communities``` le nombre de regroupements homogènes,\n",
    "- ```mean_same_type``` la moyenne sur tous les individus du ratio de voisins du même type qu’eux,\n",
    "- ```nb_iter_to_stability``` le nombre de tours nécessaires pour arriver à un état stable."
   ]
  },
  {
   "cell_type": "code",
   "execution_count": null,
   "metadata": {
    "colab": {
     "base_uri": "https://localhost:8080/"
    },
    "executionInfo": {
     "elapsed": 833,
     "status": "ok",
     "timestamp": 1614803254790,
     "user": {
      "displayName": "Chayma Rouaa",
      "photoUrl": "",
      "userId": "00140852281920236430"
     },
     "user_tz": -60
    },
    "id": "pt8_HP8vbdJo",
    "outputId": "9337a642-0997-44ef-8474-671bac5dc573"
   },
   "outputs": [
    {
     "data": {
      "text/plain": [
       "0.45454545454545453"
      ]
     },
     "execution_count": 190,
     "metadata": {
      "tags": []
     },
     "output_type": "execute_result"
    }
   ],
   "source": [
    "def happiness_rate(cells, neigh, threshold):\n",
    "    a=0\n",
    "    for i in range(0,len(cells)):\n",
    "        if is_happy(cells,i,neigh,threshold) == True :\n",
    "          a=a+1\n",
    "    r=a/(len(cells))\n",
    "    return r\n",
    "\n",
    "happiness_rate(cells,neigh,threshold)"
   ]
  },
  {
   "cell_type": "code",
   "execution_count": null,
   "metadata": {
    "colab": {
     "base_uri": "https://localhost:8080/"
    },
    "executionInfo": {
     "elapsed": 921,
     "status": "ok",
     "timestamp": 1614803259949,
     "user": {
      "displayName": "Chayma Rouaa",
      "photoUrl": "",
      "userId": "00140852281920236430"
     },
     "user_tz": -60
    },
    "id": "lwkpdSTYS4Sc",
    "outputId": "7865f775-3c14-4525-afbd-528f7a358f63"
   },
   "outputs": [
    {
     "data": {
      "text/plain": [
       "0.45454545454545453"
      ]
     },
     "execution_count": 191,
     "metadata": {
      "tags": []
     },
     "output_type": "execute_result"
    }
   ],
   "source": [
    "def happiness_rate(cells,neigh,threshold):\n",
    "    a=0\n",
    "    for i in range(0,len(cells)):\n",
    "        if satisfaction_ratio(cells,i,neigh)  >= threshold:\n",
    "          a=a+1\n",
    "    r=a/(len(cells))\n",
    "    return r\n",
    "\n",
    "\n",
    "happiness_rate(cells,neigh,threshold)"
   ]
  },
  {
   "cell_type": "code",
   "execution_count": null,
   "metadata": {
    "colab": {
     "base_uri": "https://localhost:8080/",
     "height": 38
    },
    "executionInfo": {
     "elapsed": 865,
     "status": "ok",
     "timestamp": 1614802717073,
     "user": {
      "displayName": "Chayma Rouaa",
      "photoUrl": "",
      "userId": "00140852281920236430"
     },
     "user_tz": -60
    },
    "id": "a_yVhmHasDrk",
    "outputId": "3c3a56dd-a89e-465e-e66c-4c2f259308ed"
   },
   "outputs": [
    {
     "data": {
      "application/vnd.google.colaboratory.intrinsic+json": {
       "type": "string"
      },
      "text/plain": [
       "'|0.375|0.125|0.375|0.5|0.5|0.375|0.25|0.5|0.5|0.25|0.375|0.375|0.5|0.5|0.25|0.125|0.625|0.625|0.5|0.5|0.0|0.375|'"
      ]
     },
     "execution_count": 189,
     "metadata": {
      "tags": []
     },
     "output_type": "execute_result"
    }
   ],
   "source": [
    "#pour mean_same_type , additionner chaque ratio puis diviser par size\n",
    "def print_s_ratio(cells,neigh,threshold):\n",
    "\n",
    "    result= \"|\"\n",
    "    for i in range(0,len(cells)):\n",
    "        result = result + str(satisfaction_ratio(cells,i,neigh))+ \"|\"\n",
    "    return result\n",
    "\n",
    "print_s_ratio(cells,neigh,threshold)"
   ]
  },
  {
   "cell_type": "code",
   "execution_count": null,
   "metadata": {
    "colab": {
     "base_uri": "https://localhost:8080/"
    },
    "executionInfo": {
     "elapsed": 786,
     "status": "ok",
     "timestamp": 1614801777023,
     "user": {
      "displayName": "Chayma Rouaa",
      "photoUrl": "",
      "userId": "00140852281920236430"
     },
     "user_tz": -60
    },
    "id": "U0FNuGsGidkT",
    "outputId": "7fbb7daa-49de-410e-b8a8-10a6b4aa14f9"
   },
   "outputs": [
    {
     "data": {
      "text/plain": [
       "(8.5, 22, 0.38636363636363635)"
      ]
     },
     "execution_count": 165,
     "metadata": {
      "tags": []
     },
     "output_type": "execute_result"
    }
   ],
   "source": [
    "def mean_same_type(cells,neigh,threshold):\n",
    "    a=0\n",
    "    for i in range(len(cells)):\n",
    "      a= a+satisfaction_ratio(cells,i,neigh) \n",
    "      s=a/(size)\n",
    "    return a, size, s\n",
    "\n",
    "mean_same_type(cells,neigh,threshold)"
   ]
  },
  {
   "cell_type": "markdown",
   "metadata": {
    "id": "vh2pS_hM0nrw"
   },
   "source": [
    "**Question 11 :** Faire varier les paramètres du modèle et observer l'évolution des différentes métriques. Tracer les courbes correspondantes, si elles sont judicieuses, en utilisant matplotlib ; puis décrire les phénomènes observés (pas plus de 3 courbes, un paragraphe par phénomène observé).\n",
    "\n",
    "*Indices :* Tracer l'évolution du taux de satisfaction au fil des tours. Faire évoluer le seuil de satisfaction par pas de 0.1 de 0 à 1. Etudier la taille des regroupements homogènes en fonction de ce seuil. Nombre de tours nécessaires pour arriver à un état stable en fonction de la taille du monde. "
   ]
  },
  {
   "cell_type": "code",
   "execution_count": null,
   "metadata": {
    "id": "ROGXzLgX0nrx"
   },
   "outputs": [],
   "source": []
  },
  {
   "cell_type": "markdown",
   "metadata": {
    "id": "v04fQZDN0nrx"
   },
   "source": [
    "# 2ème partie : Modèle spatial\n",
    "\n",
    "Dans cette partie le monde que nous allons considérer n'est plus constitué d'une dimension mais de deux dimensions. Si l'on pouvait assimiler le modèle \"linéaire\" à l'application du modèle de Schelling dans une rue, l'extension à une deuxième dimension permet de modéliser le modèle de Schelling à l'échelle d'une ville (pensons à une carte divisées en emplacements carrés de même taille, chaque carré représentant un immeuble ou un pâté de maisons).\n",
    "\n",
    "Un emplacement est déterminé par ses coordonnées $(X,Y)$. Par exemple, l'emplacement $(0,0)$ est situé en tout en haut à gauche et l'emplacement $(n,m)$ tout en bas à droite.\n",
    "\n",
    "L’extension du modèle linéaire au modèle spatial n’est pas triviale. En effet, si toutes les localisations sont occupées, il n’est pas si évident de définir les règles de déplacements (où se déplacent les individus « chassés » de leur localisation ?).\n",
    "\n",
    "Il est alors plus aisé d’introduire des localisations non occupées. Dans ce cas, les individus non satisfait se déplacent au hasard vers une localisation inoccupée. Contrairement au modèle linéaire, la nouvelle localisation ne satisfait pas forcément le seuil de préférence et n'est pas forcément la plus proche (ces alternatives pourront être implantées en question 5)."
   ]
  },
  {
   "cell_type": "markdown",
   "metadata": {
    "id": "BTqFiODT0nry"
   },
   "source": [
    "# Etude du modèle spatial"
   ]
  },
  {
   "cell_type": "code",
   "execution_count": null,
   "metadata": {
    "id": "QimiM6iX0nrz"
   },
   "outputs": [],
   "source": [
    "# Paramètres du modèle Schelling (à modifier, ne pas oublier de réexécuter la cellule)\n",
    "neigh = 1       # Taille du voisinnage\n",
    "threshold = 0.5 # Seuil de satisfaction\n",
    "max_iter = 5    # Nombre de tours\n",
    "n,m = 7,7       # Taille du monde (n)"
   ]
  },
  {
   "cell_type": "markdown",
   "metadata": {
    "id": "ylZO3Ebc0nrz"
   },
   "source": [
    "**Question 1** : Implanter la fonction ```generate_spatial_world``` permettant de générer des mondes spatiaux aléatoirement (de même : s'interroger sur les paramètres nécessaires). Utiliser ```numpy.array```.  \n",
    "*Indice* : Pour un emplacement innocupé, nous pouvons créer un nouveau type."
   ]
  },
  {
   "cell_type": "code",
   "execution_count": null,
   "metadata": {
    "id": "i-BJbwlt_DfC"
   },
   "outputs": [],
   "source": [
    "#Pour un emplacement inoccupé, on crée empty_place\n",
    "#Lors du calcul du ratio de satisfaction, pour prendre en compte les individus aux extrémités du monde, on écrira 2*(neigh-empty_place) au lieu de 2*neigh"
   ]
  },
  {
   "cell_type": "code",
   "execution_count": null,
   "metadata": {
    "colab": {
     "base_uri": "https://localhost:8080/"
    },
    "executionInfo": {
     "elapsed": 725,
     "status": "ok",
     "timestamp": 1614807113685,
     "user": {
      "displayName": "Chayma Rouaa",
      "photoUrl": "",
      "userId": "00140852281920236430"
     },
     "user_tz": -60
    },
    "id": "50Z2yL4q0nr0",
    "outputId": "132668e3-8255-4488-96af-5e5304a8854f"
   },
   "outputs": [
    {
     "data": {
      "text/plain": [
       "(16, 28)"
      ]
     },
     "execution_count": 229,
     "metadata": {
      "tags": []
     },
     "output_type": "execute_result"
    }
   ],
   "source": [
    "def generate_spatial_world(n,m):\n",
    "    import random\n",
    "    n = random.randint(1,50)\n",
    "    m = random.randint(1,50)\n",
    "    return n,m\n",
    "\n",
    "generate_spatial_world(n,m)"
   ]
  },
  {
   "cell_type": "code",
   "execution_count": null,
   "metadata": {
    "colab": {
     "base_uri": "https://localhost:8080/",
     "height": 369
    },
    "executionInfo": {
     "elapsed": 892,
     "status": "error",
     "timestamp": 1614808198863,
     "user": {
      "displayName": "Chayma Rouaa",
      "photoUrl": "",
      "userId": "00140852281920236430"
     },
     "user_tz": -60
    },
    "id": "ZMO6ErNnARvf",
    "outputId": "502a71c2-40e9-4253-dac9-f3ac4e345128"
   },
   "outputs": [
    {
     "name": "stdout",
     "output_type": "stream",
     "text": [
      "44\n",
      "38\n"
     ]
    },
    {
     "ename": "NameError",
     "evalue": "ignored",
     "output_type": "error",
     "traceback": [
      "\u001b[0;31m---------------------------------------------------------------------------\u001b[0m",
      "\u001b[0;31mNameError\u001b[0m                                 Traceback (most recent call last)",
      "\u001b[0;32m<ipython-input-239-4eeba0d8c116>\u001b[0m in \u001b[0;36m<module>\u001b[0;34m()\u001b[0m\n\u001b[1;32m     10\u001b[0m     \u001b[0;32mreturn\u001b[0m \u001b[0mn\u001b[0m\u001b[0;34m,\u001b[0m\u001b[0mm\u001b[0m\u001b[0;34m,\u001b[0m \u001b[0mnm\u001b[0m\u001b[0;34m\u001b[0m\u001b[0;34m\u001b[0m\u001b[0m\n\u001b[1;32m     11\u001b[0m \u001b[0;34m\u001b[0m\u001b[0m\n\u001b[0;32m---> 12\u001b[0;31m \u001b[0mgenerate_spatial_world\u001b[0m\u001b[0;34m(\u001b[0m\u001b[0mn\u001b[0m\u001b[0;34m,\u001b[0m\u001b[0mm\u001b[0m\u001b[0;34m)\u001b[0m\u001b[0;34m\u001b[0m\u001b[0;34m\u001b[0m\u001b[0m\n\u001b[0m",
      "\u001b[0;32m<ipython-input-239-4eeba0d8c116>\u001b[0m in \u001b[0;36mgenerate_spatial_world\u001b[0;34m(n, m)\u001b[0m\n\u001b[1;32m      8\u001b[0m     \u001b[0mprint\u001b[0m\u001b[0;34m(\u001b[0m\u001b[0mm\u001b[0m\u001b[0;34m)\u001b[0m\u001b[0;34m\u001b[0m\u001b[0;34m\u001b[0m\u001b[0m\n\u001b[1;32m      9\u001b[0m     \u001b[0;31m#print(nm)\u001b[0m\u001b[0;34m\u001b[0m\u001b[0;34m\u001b[0m\u001b[0;34m\u001b[0m\u001b[0m\n\u001b[0;32m---> 10\u001b[0;31m     \u001b[0;32mreturn\u001b[0m \u001b[0mn\u001b[0m\u001b[0;34m,\u001b[0m\u001b[0mm\u001b[0m\u001b[0;34m,\u001b[0m \u001b[0mnm\u001b[0m\u001b[0;34m\u001b[0m\u001b[0;34m\u001b[0m\u001b[0m\n\u001b[0m\u001b[1;32m     11\u001b[0m \u001b[0;34m\u001b[0m\u001b[0m\n\u001b[1;32m     12\u001b[0m \u001b[0mgenerate_spatial_world\u001b[0m\u001b[0;34m(\u001b[0m\u001b[0mn\u001b[0m\u001b[0;34m,\u001b[0m\u001b[0mm\u001b[0m\u001b[0;34m)\u001b[0m\u001b[0;34m\u001b[0m\u001b[0;34m\u001b[0m\u001b[0m\n",
      "\u001b[0;31mNameError\u001b[0m: name 'nm' is not defined"
     ]
    }
   ],
   "source": [
    "def generate_spatial_world(n,m):\n",
    "    import numpy as np\n",
    "    import random\n",
    "    n = random.randint(1,50)\n",
    "    m = random.randint(1,50)\n",
    "    #nm = np.array([[1 for i in range(n)] , [1 for i in range(m)]])\n",
    "    print(n)\n",
    "    print(m)\n",
    "    #print(nm)\n",
    "    return n,m,nm\n",
    "\n",
    "generate_spatial_world(n,m)\n"
   ]
  },
  {
   "cell_type": "code",
   "execution_count": null,
   "metadata": {
    "colab": {
     "base_uri": "https://localhost:8080/",
     "height": 135
    },
    "executionInfo": {
     "elapsed": 741,
     "status": "error",
     "timestamp": 1614808571684,
     "user": {
      "displayName": "Chayma Rouaa",
      "photoUrl": "",
      "userId": "00140852281920236430"
     },
     "user_tz": -60
    },
    "id": "6VCu6hm3Eany",
    "outputId": "49fe0b0b-86de-461f-e407-27c719312f82"
   },
   "outputs": [
    {
     "ename": "SyntaxError",
     "evalue": "ignored",
     "output_type": "error",
     "traceback": [
      "\u001b[0;36m  File \u001b[0;32m\"<ipython-input-243-6cc522b22baf>\"\u001b[0;36m, line \u001b[0;32m8\u001b[0m\n\u001b[0;31m    m = print(random.choices(b, lignes_m)\u001b[0m\n\u001b[0m    ^\u001b[0m\n\u001b[0;31mSyntaxError\u001b[0m\u001b[0;31m:\u001b[0m invalid syntax\n"
     ]
    }
   ],
   "source": [
    "import numpy as np\n",
    "import random\n",
    "a= [0,1]\n",
    "b= [0,1]\n",
    "lignes_n= random.randint(5,50)\n",
    "colonnes_m= random.randint(5,50)\n",
    "n = print(random.choices(a, lignes_n)\n",
    "m = print(random.choices(b, lignes_m)\n",
    "\n",
    "sp_w = np.array([[n], [m]])\n",
    "\n",
    "print(sp_w)\n"
   ]
  },
  {
   "cell_type": "code",
   "execution_count": null,
   "metadata": {
    "colab": {
     "base_uri": "https://localhost:8080/"
    },
    "executionInfo": {
     "elapsed": 853,
     "status": "ok",
     "timestamp": 1614809231558,
     "user": {
      "displayName": "Chayma Rouaa",
      "photoUrl": "",
      "userId": "00140852281920236430"
     },
     "user_tz": -60
    },
    "id": "Qo7D29ETF1sz",
    "outputId": "149220ec-b8bd-4e9d-ce45-f0af4886f870"
   },
   "outputs": [
    {
     "name": "stdout",
     "output_type": "stream",
     "text": [
      "[[0 0 0 0 0 0 0 0]\n",
      " [0 0 0 0 0 0 0 0]\n",
      " [0 0 0 0 0 0 0 0]\n",
      " [0 0 0 0 0 0 0 0]\n",
      " [0 0 0 0 0 0 0 0]\n",
      " [0 0 0 0 0 0 0 0]\n",
      " [0 0 0 0 0 0 0 0]\n",
      " [0 0 0 0 0 0 0 0]\n",
      " [0 0 0 0 0 0 0 0]\n",
      " [0 0 0 0 0 0 0 0]\n",
      " [0 0 0 0 0 0 0 0]\n",
      " [0 0 0 0 0 0 0 0]\n",
      " [0 0 0 0 0 0 0 0]\n",
      " [0 0 0 0 0 0 0 0]\n",
      " [0 0 0 0 0 0 0 0]\n",
      " [0 0 0 0 0 0 0 0]]\n"
     ]
    }
   ],
   "source": [
    "import numpy as np\n",
    "import random\n",
    "a= random.randint(0,1)\n",
    "n= random.randint(1,50)\n",
    "m= random.randint(1,50)\n",
    "L = np.array([[a for i in range(m)] for j in range(n)])\n",
    "print(L)"
   ]
  },
  {
   "cell_type": "code",
   "execution_count": null,
   "metadata": {
    "colab": {
     "base_uri": "https://localhost:8080/",
     "height": 333
    },
    "executionInfo": {
     "elapsed": 672,
     "status": "error",
     "timestamp": 1614807098695,
     "user": {
      "displayName": "Chayma Rouaa",
      "photoUrl": "",
      "userId": "00140852281920236430"
     },
     "user_tz": -60
    },
    "id": "yXFTvasu4goZ",
    "outputId": "439ef0b1-e01e-4e82-ba1f-062c24138bba"
   },
   "outputs": [
    {
     "ename": "AttributeError",
     "evalue": "ignored",
     "output_type": "error",
     "traceback": [
      "\u001b[0;31m---------------------------------------------------------------------------\u001b[0m",
      "\u001b[0;31mAttributeError\u001b[0m                            Traceback (most recent call last)",
      "\u001b[0;32m<ipython-input-228-abd106c11613>\u001b[0m in \u001b[0;36m<module>\u001b[0;34m()\u001b[0m\n\u001b[1;32m      5\u001b[0m     \u001b[0mprint\u001b[0m\u001b[0;34m(\u001b[0m\u001b[0mnm\u001b[0m\u001b[0;34m)\u001b[0m\u001b[0;34m\u001b[0m\u001b[0;34m\u001b[0m\u001b[0m\n\u001b[1;32m      6\u001b[0m \u001b[0;34m\u001b[0m\u001b[0m\n\u001b[0;32m----> 7\u001b[0;31m \u001b[0mgenerate_spatial_world\u001b[0m\u001b[0;34m(\u001b[0m\u001b[0mn\u001b[0m\u001b[0;34m,\u001b[0m\u001b[0mm\u001b[0m\u001b[0;34m)\u001b[0m\u001b[0;34m\u001b[0m\u001b[0;34m\u001b[0m\u001b[0m\n\u001b[0m",
      "\u001b[0;32m<ipython-input-228-abd106c11613>\u001b[0m in \u001b[0;36mgenerate_spatial_world\u001b[0;34m(n, m)\u001b[0m\n\u001b[1;32m      2\u001b[0m     \u001b[0;32mimport\u001b[0m \u001b[0mnumpy\u001b[0m \u001b[0;32mas\u001b[0m \u001b[0mnp\u001b[0m\u001b[0;34m\u001b[0m\u001b[0;34m\u001b[0m\u001b[0m\n\u001b[1;32m      3\u001b[0m     \u001b[0;32mimport\u001b[0m \u001b[0mrandom\u001b[0m\u001b[0;34m\u001b[0m\u001b[0;34m\u001b[0m\u001b[0m\n\u001b[0;32m----> 4\u001b[0;31m     \u001b[0mnm\u001b[0m \u001b[0;34m=\u001b[0m \u001b[0mnp\u001b[0m\u001b[0;34m.\u001b[0m\u001b[0marray\u001b[0m\u001b[0;34m(\u001b[0m\u001b[0;34m[\u001b[0m\u001b[0;34m[\u001b[0m\u001b[0mrandom\u001b[0m\u001b[0;34m.\u001b[0m\u001b[0msize\u001b[0m\u001b[0;34m]\u001b[0m\u001b[0;34m,\u001b[0m\u001b[0;34m[\u001b[0m\u001b[0msize\u001b[0m\u001b[0;34m(\u001b[0m\u001b[0mm\u001b[0m\u001b[0;34m)\u001b[0m\u001b[0;34m]\u001b[0m\u001b[0;34m]\u001b[0m\u001b[0;34m)\u001b[0m\u001b[0;34m\u001b[0m\u001b[0;34m\u001b[0m\u001b[0m\n\u001b[0m\u001b[1;32m      5\u001b[0m     \u001b[0mprint\u001b[0m\u001b[0;34m(\u001b[0m\u001b[0mnm\u001b[0m\u001b[0;34m)\u001b[0m\u001b[0;34m\u001b[0m\u001b[0;34m\u001b[0m\u001b[0m\n\u001b[1;32m      6\u001b[0m \u001b[0;34m\u001b[0m\u001b[0m\n",
      "\u001b[0;31mAttributeError\u001b[0m: module 'random' has no attribute 'size'"
     ]
    }
   ],
   "source": [
    "def generate_spatial_world(n,m):\n",
    "    import numpy as np\n",
    "    import random\n",
    "    nm = np.array([[random.size],[size(m)]])\n",
    "    print(nm)\n",
    "\n",
    "generate_spatial_world(n,m)"
   ]
  },
  {
   "cell_type": "code",
   "execution_count": null,
   "metadata": {
    "id": "fhFSWuP396tW"
   },
   "outputs": [],
   "source": [
    "def generate_spatial_world():\n",
    "    import random\n",
    "    l1 = [0,1]\n",
    "    n = l1.random.randint(1,50)\n",
    "    l2 = [0,1]\n",
    "    m = l2.random.randint(1,50)\n"
   ]
  },
  {
   "cell_type": "markdown",
   "metadata": {
    "id": "c5F1bgwC0nr0"
   },
   "source": [
    "**Question 2 :** Implémenter la fonction ```spatial_schelling```, permettant d'appliquer le modèle de schelling sur un monde spatial.  \n",
    "**Utiliser la [distance de Tchebychev](https://fr.wikipedia.org/wiki/Distance_de_Tchebychev)** dès qu'il est question de comparer des distances entre individus : pour les voisins nous pouvons considérer tous les emplacements dont la distance est inférieure ou égale à ```neigh```."
   ]
  },
  {
   "cell_type": "code",
   "execution_count": null,
   "metadata": {
    "id": "Y5FesRgG0nr0"
   },
   "outputs": [],
   "source": []
  },
  {
   "cell_type": "markdown",
   "metadata": {
    "id": "QGN7IGxf0nr1"
   },
   "source": [
    "**Question 3 :** Adapter les métriques de la question 10 pour le modèle spatial. "
   ]
  },
  {
   "cell_type": "code",
   "execution_count": null,
   "metadata": {
    "id": "Y8oe7qSG0nr1"
   },
   "outputs": [],
   "source": []
  },
  {
   "cell_type": "markdown",
   "metadata": {
    "id": "8iQrLt1D0nr1"
   },
   "source": [
    "**Question 4 :** Faire varier les paramètres du modèle et observer l'évolution des différentes métriques. Tracer les courbes correspondantes, si elles sont judicieuses, en utilisant matplotlib ; puis décrire les phénomènes observés (pas plus de 3 courbes, un paragraphe par phénomène observé).  "
   ]
  },
  {
   "cell_type": "markdown",
   "metadata": {
    "id": "LVLvxqyy0nr1"
   },
   "source": [
    "**Question 5 (optionnelle) :** Proposer des alternatives au modèle.  "
   ]
  },
  {
   "cell_type": "markdown",
   "metadata": {
    "id": "w3d_epH90nr2"
   },
   "source": [
    "# 3ème partie : Animation (Interface Graphique avec tkinter)"
   ]
  },
  {
   "cell_type": "code",
   "execution_count": null,
   "metadata": {
    "id": "isKBDk-W0nr2"
   },
   "outputs": [],
   "source": [
    "import tkinter as Tk"
   ]
  }
 ],
 "metadata": {
  "anaconda-cloud": {},
  "colab": {
   "collapsed_sections": [],
   "name": "(ok)Réponses Schelling Chayma Rouaa 23-1B PCGI Dynamic G-7.ipynb",
   "provenance": [
    {
     "file_id": "1D52uW7mq2riowsCifjC_r3HU_VnP3JaA",
     "timestamp": 1614809856879
    },
    {
     "file_id": "1z2tc_-BhvI-4Mff9kQfjpySPKydOEl_X",
     "timestamp": 1614809352601
    },
    {
     "file_id": "1O686sZVGW7qdshpPbJM-uQf0WEAzdwIg",
     "timestamp": 1614786322317
    },
    {
     "file_id": "1kqJiXZLnXsSn_Ddp-cqn2XvWPsgLHH9x",
     "timestamp": 1614777256739
    },
    {
     "file_id": "1C5a8y70IvGqdaErwFHTJFHC5kBYVxLXY",
     "timestamp": 1614727732011
    }
   ]
  },
  "kernelspec": {
   "display_name": "Python 3",
   "language": "python",
   "name": "python3"
  },
  "language_info": {
   "codemirror_mode": {
    "name": "ipython",
    "version": 3
   },
   "file_extension": ".py",
   "mimetype": "text/x-python",
   "name": "python",
   "nbconvert_exporter": "python",
   "pygments_lexer": "ipython3",
   "version": "3.8.5"
  }
 },
 "nbformat": 4,
 "nbformat_minor": 4
}
